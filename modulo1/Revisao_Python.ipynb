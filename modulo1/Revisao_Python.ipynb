{
 "cells": [
  {
   "cell_type": "markdown",
   "metadata": {
    "id": "peKfOMX4hnsB"
   },
   "source": [
    "# Agenda"
   ]
  },
  {
   "cell_type": "markdown",
   "metadata": {
    "id": "YYFDJdtahnsC"
   },
   "source": [
    "> Data: 01/02/2021<br>\n",
    "> Aula: 03 <br>\n",
    "> Módulo: 00 <br>\n",
    "> Turma: DSTN01"
   ]
  },
  {
   "cell_type": "markdown",
   "metadata": {
    "id": "IZ3mjYkqhnsC"
   },
   "source": [
    "O objetivo dessa aula é revisar conceitos de programação e estrutura de dados em Python\n"
   ]
  },
  {
   "cell_type": "markdown",
   "metadata": {
    "id": "oASXPx0RhnsD"
   },
   "source": [
    "**Tópicos**:\n",
    "* Revisão de Python:\n",
    " - Variáveis\n",
    " - Constantes\n",
    " - Tipos de variáveis\n",
    " - Operações Matemáticas\n",
    " - Strings\n",
    " - Prints\n",
    " - Input\n",
    " - Comparadores e Operadores Lógicos\n",
    " - Estruturas Condicionais\n",
    " - Loops (For e While)\n",
    " \n",
    " \n",
    "* Estruturas de Dados:\n",
    " - Listas\n",
    " - Tuplas\n",
    " - Conjuntos\n",
    " - Dicionários"
   ]
  },
  {
   "cell_type": "markdown",
   "metadata": {
    "id": "ivoaXwLNhnsE"
   },
   "source": [
    "# Revisão de Python"
   ]
  },
  {
   "cell_type": "markdown",
   "metadata": {},
   "source": [
    "### Comentários em python"
   ]
  },
  {
   "cell_type": "markdown",
   "metadata": {},
   "source": [
    "Comentários em Python são iniciados pelo caractere # e se estendem até o final da linha."
   ]
  },
  {
   "cell_type": "markdown",
   "metadata": {},
   "source": [
    "### Apresentar a saída de um programa - método print() - não esqueça do uso de parênteses "
   ]
  },
  {
   "cell_type": "code",
   "execution_count": 3,
   "metadata": {},
   "outputs": [
    {
     "name": "stdout",
     "output_type": "stream",
     "text": [
      "\n"
     ]
    }
   ],
   "source": [
    "print()"
   ]
  },
  {
   "cell_type": "markdown",
   "metadata": {},
   "source": [
    "#### O método str.format()"
   ]
  },
  {
   "cell_type": "code",
   "execution_count": 4,
   "metadata": {},
   "outputs": [],
   "source": [
    "# Variável Nome\n",
    "nome = 'Aline'\n",
    "# Variável Idade\n",
    "idade = 90"
   ]
  },
  {
   "cell_type": "code",
   "execution_count": 5,
   "metadata": {},
   "outputs": [
    {
     "name": "stdout",
     "output_type": "stream",
     "text": [
      "Oi, meu nome é Aline e eu tenho 90 anos.\n"
     ]
    }
   ],
   "source": [
    "print('Oi, meu nome é {} e eu tenho {} anos.'.format(nome,idade))"
   ]
  },
  {
   "cell_type": "markdown",
   "metadata": {},
   "source": [
    "##### Repare que os campos de substituição na string que estão entre chaves ‘{}’ estão associadas aos parâmetros do método format()."
   ]
  },
  {
   "cell_type": "markdown",
   "metadata": {
    "id": "wwAg5f0EhnsE"
   },
   "source": [
    "## Variáveis"
   ]
  },
  {
   "cell_type": "markdown",
   "metadata": {
    "id": "VB4pGMudhnsF"
   },
   "source": [
    "Uma variável é um objeto que guarda um valor e armazena esse valor na memória do computador durante o tempo de desenvolvimento. Podemos inicializar uma variável por meio do comando de atribuição '='."
   ]
  },
  {
   "cell_type": "code",
   "execution_count": 6,
   "metadata": {
    "id": "U68u-OcKhnsG"
   },
   "outputs": [],
   "source": [
    "# podemos definir uma variável dando um nome - em python não precisamos especificar o tipo dessa variável\n",
    "ano = 2021"
   ]
  },
  {
   "cell_type": "code",
   "execution_count": 7,
   "metadata": {
    "id": "xUUBbhWEhnsJ",
    "outputId": "67f2c3fe-a734-41da-9151-7977dce41c83"
   },
   "outputs": [
    {
     "name": "stdout",
     "output_type": "stream",
     "text": [
      "2021\n"
     ]
    }
   ],
   "source": [
    "# para imprimir a variável criada, utilizamos a função print\n",
    "print(ano)"
   ]
  },
  {
   "cell_type": "code",
   "execution_count": 8,
   "metadata": {
    "id": "AUuTjflzhnsM",
    "outputId": "7ec95c75-ae75-4749-ff1a-c45a264c3e47"
   },
   "outputs": [],
   "source": [
    "# Tem diferença?\n"
   ]
  },
  {
   "cell_type": "markdown",
   "metadata": {
    "id": "uW-v6Z3QhnsP"
   },
   "source": [
    "Ao utilizarmos variáveis, em vez de simplesmente escrever o valor que desejamos é que a variável nos traz a vantagem de ser, como o próprio nome já diz, variável. Dessa forma, podemos modificar a variável nos momentos que acharmos necessários.\n",
    "Em um código longo, se você utiliza o mesmo valor em diversas operações, é interessante que você o armazene como uma variável. Dessa maneira, caso você precise trocar o valor desejado, basta apenas mudá-lo uma única vez."
   ]
  },
  {
   "cell_type": "code",
   "execution_count": 9,
   "metadata": {
    "id": "EUOuKejphnsQ",
    "outputId": "3b455e5f-181f-4b7d-e155-f3535f2e6530"
   },
   "outputs": [
    {
     "name": "stdout",
     "output_type": "stream",
     "text": [
      "23\n",
      "24\n"
     ]
    }
   ],
   "source": [
    "idade = 23\n",
    "print(idade)\n",
    "\n",
    "idade = 24\n",
    "print(idade)\n"
   ]
  },
  {
   "cell_type": "markdown",
   "metadata": {
    "id": "9yOjVPkHhnsS"
   },
   "source": [
    "**ATENÇÃO!!:** \n",
    "* Nomes compostos de variáveis são separados por _\n",
    "* Nomes não podem começar com números, podem podem conter números\n"
   ]
  },
  {
   "cell_type": "code",
   "execution_count": 10,
   "metadata": {
    "id": "7C1eTQqByDFW"
   },
   "outputs": [],
   "source": [
    "# snake case\n",
    "idade_pai = 60\n",
    "paises_visitados = 90"
   ]
  },
  {
   "cell_type": "code",
   "execution_count": 11,
   "metadata": {
    "id": "tVvZjitEyDFY"
   },
   "outputs": [],
   "source": [
    "# Constantes\n",
    "PI = 3.14159"
   ]
  },
  {
   "cell_type": "code",
   "execution_count": 12,
   "metadata": {
    "id": "jIeCQWbXhnsb"
   },
   "outputs": [],
   "source": [
    "a = 'abcdefgh'"
   ]
  },
  {
   "cell_type": "markdown",
   "metadata": {
    "id": "SXe6KvUWhnsj"
   },
   "source": [
    "## Tipos de Variáveis"
   ]
  },
  {
   "cell_type": "markdown",
   "metadata": {
    "id": "Td8AzhSUhnsj"
   },
   "source": [
    "Em Python temos, basicamente, 2 tipos de variáveis: \n",
    "* Integer (int)\n",
    "* Float (float)\n",
    "* Strings (str)\n",
    "* Booleanos (bool)"
   ]
  },
  {
   "cell_type": "markdown",
   "metadata": {},
   "source": [
    "#### INT"
   ]
  },
  {
   "cell_type": "code",
   "execution_count": 13,
   "metadata": {
    "id": "xTrfqPi7hnsk",
    "outputId": "eaed7504-8b94-4312-ea4d-0204c15f6e7f"
   },
   "outputs": [
    {
     "data": {
      "text/plain": [
       "int"
      ]
     },
     "execution_count": 13,
     "metadata": {},
     "output_type": "execute_result"
    }
   ],
   "source": [
    "# Inteiros são aqueles números usados para contar\n",
    "numero_laranjas = 10\n",
    "# Para consultar o tipo de uma variável\n",
    "type(numero_laranjas)"
   ]
  },
  {
   "cell_type": "markdown",
   "metadata": {},
   "source": [
    "#### FLOAT"
   ]
  },
  {
   "cell_type": "code",
   "execution_count": 37,
   "metadata": {
    "id": "VsUYEg98hnsm",
    "outputId": "5bf8c9b2-fbe4-4d4d-f5ce-468320e87434"
   },
   "outputs": [
    {
     "data": {
      "text/plain": [
       "float"
      ]
     },
     "execution_count": 37,
     "metadata": {},
     "output_type": "execute_result"
    }
   ],
   "source": [
    "# Floats são os números decimais\n",
    "nota_prova = 9.5\n",
    "# Consultando o tipo\n",
    "type(nota_prova)"
   ]
  },
  {
   "cell_type": "markdown",
   "metadata": {},
   "source": [
    "#### STRING"
   ]
  },
  {
   "cell_type": "code",
   "execution_count": 34,
   "metadata": {
    "id": "1n0LWL3_hnso",
    "outputId": "f405e82f-fb36-46cb-e684-8580126f1e27"
   },
   "outputs": [
    {
     "data": {
      "text/plain": [
       "str"
      ]
     },
     "execution_count": 34,
     "metadata": {},
     "output_type": "execute_result"
    }
   ],
   "source": [
    "# String são cadeias de caracteres\n",
    "nome_professora = 'Aline'\n",
    "# Consultando o tipo\n",
    "type(nome_professora)\n",
    "\n"
   ]
  },
  {
   "cell_type": "code",
   "execution_count": 36,
   "metadata": {},
   "outputs": [
    {
     "name": "stdout",
     "output_type": "stream",
     "text": [
      "<class 'str'>\n",
      "<class 'str'>\n",
      "<class 'str'>\n"
     ]
    }
   ],
   "source": [
    "string_vazia = ''\n",
    "uma_letra = 'a'\n",
    "varias_letras = 'abacate'\n",
    "print(type(string_vazia))\n",
    "print(type(uma_letra))\n",
    "print(type(varias_letras))"
   ]
  },
  {
   "cell_type": "markdown",
   "metadata": {},
   "source": [
    "#### obs.: Em Python, assim como em outras linguagens, precisamos das aspas para declarar uma variável do tipo string"
   ]
  },
  {
   "cell_type": "code",
   "execution_count": 17,
   "metadata": {},
   "outputs": [],
   "source": [
    "my_string_aspas_simples = 'Hello, World!'\n",
    "my_string_aspas_dupla = \"Hello, World!\""
   ]
  },
  {
   "cell_type": "code",
   "execution_count": 18,
   "metadata": {},
   "outputs": [
    {
     "name": "stdout",
     "output_type": "stream",
     "text": [
      "Hello, World!\n"
     ]
    }
   ],
   "source": [
    "print(my_string_aspas_simples)"
   ]
  },
  {
   "cell_type": "code",
   "execution_count": 19,
   "metadata": {},
   "outputs": [
    {
     "name": "stdout",
     "output_type": "stream",
     "text": [
      "Hello, World!\n"
     ]
    }
   ],
   "source": [
    "print(my_string_aspas_dupla)"
   ]
  },
  {
   "cell_type": "markdown",
   "metadata": {},
   "source": [
    "### Podemos fazer um fatiamento nas strings, selecionando apenas a parte que nos interessa."
   ]
  },
  {
   "cell_type": "markdown",
   "metadata": {},
   "source": [
    "**OBS**: O Python começa a contar do 0 e o último número não é incluído no fatiamento."
   ]
  },
  {
   "cell_type": "code",
   "execution_count": 31,
   "metadata": {},
   "outputs": [
    {
     "name": "stdout",
     "output_type": "stream",
     "text": [
      "Francisco Neto\n",
      "F\n",
      "anc\n",
      "ancisco Neto\n"
     ]
    }
   ],
   "source": [
    "my_string = 'Francisco Neto'\n",
    "\n",
    "print (my_string)          # imprime a string completa\n",
    "print (my_string[0])       # imprime o primeiro caracter da string\n",
    "print (my_string[2:5])     # imprime do terceiro ao quinto caracter\n",
    "print (my_string[2:])      # imprime os caracteres a partir do terceiro\n"
   ]
  },
  {
   "cell_type": "code",
   "execution_count": 32,
   "metadata": {},
   "outputs": [],
   "source": [
    "# Podemos concatenar strings\n",
    "string1 = \"Francisco\"\n",
    "string2 = \"Neto\"\n"
   ]
  },
  {
   "cell_type": "code",
   "execution_count": 33,
   "metadata": {},
   "outputs": [
    {
     "data": {
      "text/plain": [
       "'Francisco Neto'"
      ]
     },
     "execution_count": 33,
     "metadata": {},
     "output_type": "execute_result"
    }
   ],
   "source": [
    "#concatenando\n",
    "string1 + \" \" + string2"
   ]
  },
  {
   "cell_type": "markdown",
   "metadata": {},
   "source": [
    "### BOOLEAN"
   ]
  },
  {
   "cell_type": "code",
   "execution_count": 23,
   "metadata": {
    "id": "z5uwHNl_hnsr",
    "outputId": "93794e6f-2242-4d51-a75a-68fd8e83b7bb"
   },
   "outputs": [
    {
     "data": {
      "text/plain": [
       "bool"
      ]
     },
     "execution_count": 23,
     "metadata": {},
     "output_type": "execute_result"
    }
   ],
   "source": [
    "# booleanos geralmente guardam valores lógicos,  ou seja, verdadeiro ou falso - True e False\n",
    "aberto = True\n",
    "# Consultando o tipo\n",
    "type(aberto)"
   ]
  },
  {
   "cell_type": "markdown",
   "metadata": {},
   "source": [
    "### Exemplo de uso de operadores lógicos:"
   ]
  },
  {
   "cell_type": "code",
   "execution_count": 38,
   "metadata": {},
   "outputs": [
    {
     "data": {
      "text/plain": [
       "True"
      ]
     },
     "execution_count": 38,
     "metadata": {},
     "output_type": "execute_result"
    }
   ],
   "source": [
    "1==1"
   ]
  },
  {
   "cell_type": "markdown",
   "metadata": {
    "id": "77FuxEXnhnst"
   },
   "source": [
    "## Operações Matemáticas"
   ]
  },
  {
   "cell_type": "markdown",
   "metadata": {
    "id": "MYkoij0Chnsu"
   },
   "source": [
    "**Ordem de execução**\n",
    "* Parênteses\n",
    "* Multiplicação e Divisão\n",
    "* Adição e Subtração"
   ]
  },
  {
   "cell_type": "markdown",
   "metadata": {
    "id": "OaqTzBN5hnsu"
   },
   "source": [
    "Com Python podemos realizar operações matemáticas. Com o uso das variáveis isso fica ainda mais poderoso."
   ]
  },
  {
   "cell_type": "code",
   "execution_count": 24,
   "metadata": {
    "id": "7fiJD0buhnsv",
    "outputId": "95e1bd79-07a6-48e7-ff2d-db30432fe284"
   },
   "outputs": [
    {
     "data": {
      "text/plain": [
       "3.0"
      ]
     },
     "execution_count": 24,
     "metadata": {},
     "output_type": "execute_result"
    }
   ],
   "source": [
    "# Qual resultado da expressão abaixo?\n",
    "1 + 3 * 4 / 3 - 2"
   ]
  },
  {
   "cell_type": "code",
   "execution_count": 25,
   "metadata": {
    "id": "VA7Or_anhnsx",
    "outputId": "3cff38ff-7442-437a-fb72-410393116ea5"
   },
   "outputs": [
    {
     "data": {
      "text/plain": [
       "16.0"
      ]
     },
     "execution_count": 25,
     "metadata": {},
     "output_type": "execute_result"
    }
   ],
   "source": [
    "# Qual resultado da expressão abaixo?\n",
    "(1 + 3) * 4 / (3 - 2)"
   ]
  },
  {
   "cell_type": "markdown",
   "metadata": {},
   "source": [
    "##### Outro operador disponível é o operador de módulo (%), que retorna o número que é o resto da divisão"
   ]
  },
  {
   "cell_type": "code",
   "execution_count": 26,
   "metadata": {
    "id": "3dzsMc3Fhns4",
    "outputId": "e011759f-bdae-4fb6-8298-fcbfb1c0ad36"
   },
   "outputs": [
    {
     "data": {
      "text/plain": [
       "1"
      ]
     },
     "execution_count": 26,
     "metadata": {},
     "output_type": "execute_result"
    }
   ],
   "source": [
    "# Operador Resto\n",
    "5 % 2"
   ]
  },
  {
   "cell_type": "code",
   "execution_count": 27,
   "metadata": {},
   "outputs": [
    {
     "data": {
      "text/plain": [
       "2.5"
      ]
     },
     "execution_count": 27,
     "metadata": {},
     "output_type": "execute_result"
    }
   ],
   "source": [
    "#Divisão comum\n",
    "5/2"
   ]
  },
  {
   "cell_type": "code",
   "execution_count": 28,
   "metadata": {
    "id": "ILl8wpV5hns6",
    "outputId": "e1bb9034-7383-4caa-eb9e-ce14a6a323a6"
   },
   "outputs": [
    {
     "data": {
      "text/plain": [
       "2"
      ]
     },
     "execution_count": 28,
     "metadata": {},
     "output_type": "execute_result"
    }
   ],
   "source": [
    "# Parte inteira da divisão\n",
    "5//2"
   ]
  },
  {
   "cell_type": "markdown",
   "metadata": {
    "id": "-S9P9nUYhntT"
   },
   "source": [
    "## Inputs"
   ]
  },
  {
   "cell_type": "markdown",
   "metadata": {
    "id": "da0RH0eIhntU"
   },
   "source": [
    "Às vezes, precisamos que o nosso dado venha de fora, ou seja, alguém, ou algum sistema precisa nos transmitir essa informação.\n",
    "Uma das formas de interagir com um usuário é por meio do comando ```input```."
   ]
  },
  {
   "cell_type": "code",
   "execution_count": 42,
   "metadata": {
    "id": "UM432CguhntU",
    "outputId": "ef5fdcd1-cf44-408d-85c7-276c9eae6c3a"
   },
   "outputs": [
    {
     "name": "stdout",
     "output_type": "stream",
     "text": [
      "Informe Sua idade: 5\n",
      "Sua idade é: 5\n"
     ]
    }
   ],
   "source": [
    "idade = int(input('Informe Sua idade: '))\n",
    "print('Sua idade é: {}'.format(idade))"
   ]
  },
  {
   "cell_type": "markdown",
   "metadata": {
    "id": "BKjVNSoqhntW"
   },
   "source": [
    "## Comparadores e Operadores Lógicos"
   ]
  },
  {
   "cell_type": "markdown",
   "metadata": {
    "id": "kHgSZkpzhntW"
   },
   "source": [
    "Usamos os comparadores para comparar os valores de diferentes variáveis e os operadores lógicos para checar se uma determinada condição é verdadeira ou falsa."
   ]
  },
  {
   "cell_type": "markdown",
   "metadata": {
    "id": "zr7RXDZEyDGW"
   },
   "source": [
    "**Operadores mais importantes:**\n",
    "\n",
    "* A == B  (vamos verificar se A é igual a B)\n",
    "* A > B (vamos verificar se A é maior que B)\n",
    "* A < B (vamos verificar se B é maior que A)\n",
    "* A >= B (vamos verificar se A é maior ou igual a B)\n",
    "* A != B (Vamos verificar se A é diferente de B)"
   ]
  },
  {
   "cell_type": "code",
   "execution_count": 48,
   "metadata": {
    "id": "ngnaI1gQhntZ"
   },
   "outputs": [],
   "source": [
    "num1 = 3\n",
    "num2 = 4"
   ]
  },
  {
   "cell_type": "code",
   "execution_count": 49,
   "metadata": {
    "id": "8F1ZA_73hntb",
    "outputId": "a3d53aee-d576-4ac2-b735-2a8dbaca575e"
   },
   "outputs": [
    {
     "data": {
      "text/plain": [
       "False"
      ]
     },
     "execution_count": 49,
     "metadata": {},
     "output_type": "execute_result"
    }
   ],
   "source": [
    "num1 == num2"
   ]
  },
  {
   "cell_type": "code",
   "execution_count": 51,
   "metadata": {
    "id": "b46ys5iNhntd",
    "outputId": "f6877d22-bd34-4c41-8ed4-f331f053b132"
   },
   "outputs": [
    {
     "data": {
      "text/plain": [
       "False"
      ]
     },
     "execution_count": 51,
     "metadata": {},
     "output_type": "execute_result"
    }
   ],
   "source": [
    "num1 > num2"
   ]
  },
  {
   "cell_type": "code",
   "execution_count": 50,
   "metadata": {
    "id": "0eexfLrFhntf",
    "outputId": "57b47387-0412-48d8-9ef2-81b4b10a4e64"
   },
   "outputs": [
    {
     "data": {
      "text/plain": [
       "True"
      ]
     },
     "execution_count": 50,
     "metadata": {},
     "output_type": "execute_result"
    }
   ],
   "source": [
    "num1 < num2"
   ]
  },
  {
   "cell_type": "code",
   "execution_count": 52,
   "metadata": {
    "id": "uSbErWVuhnth",
    "outputId": "d699d6bd-1a13-4f44-c36b-e50f71572b10"
   },
   "outputs": [
    {
     "data": {
      "text/plain": [
       "False"
      ]
     },
     "execution_count": 52,
     "metadata": {},
     "output_type": "execute_result"
    }
   ],
   "source": [
    "num1>=num2"
   ]
  },
  {
   "cell_type": "code",
   "execution_count": 53,
   "metadata": {
    "id": "s7Rua-87hntl",
    "outputId": "6402f6d8-b7ba-4d03-a1e2-c858678b2b67"
   },
   "outputs": [
    {
     "data": {
      "text/plain": [
       "True"
      ]
     },
     "execution_count": 53,
     "metadata": {},
     "output_type": "execute_result"
    }
   ],
   "source": [
    "num1 <= num2"
   ]
  },
  {
   "cell_type": "code",
   "execution_count": 54,
   "metadata": {
    "id": "qii5PsJ9hnto",
    "outputId": "a3dd0a09-9836-4c03-8c31-1a53ba441d22"
   },
   "outputs": [
    {
     "data": {
      "text/plain": [
       "True"
      ]
     },
     "execution_count": 54,
     "metadata": {},
     "output_type": "execute_result"
    }
   ],
   "source": [
    "num1 != num2"
   ]
  },
  {
   "cell_type": "markdown",
   "metadata": {
    "id": "Zj0yiUHqhntq"
   },
   "source": [
    "**Combinando comparações por meio de operadores lógicos.**\n"
   ]
  },
  {
   "cell_type": "code",
   "execution_count": 55,
   "metadata": {
    "id": "CgSwXLAHyDGa"
   },
   "outputs": [],
   "source": [
    "idade1 = 20\n",
    "idade2 = 15\n",
    "idade3 = 10"
   ]
  },
  {
   "cell_type": "markdown",
   "metadata": {
    "id": "elfJEqrUhntu"
   },
   "source": [
    "Quando usamos ```AND``` com comparações, esperamos que todas sejam verdadeiras. "
   ]
  },
  {
   "cell_type": "code",
   "execution_count": 56,
   "metadata": {
    "id": "lTXlZAOShntu",
    "outputId": "17aa71e3-3644-4048-cee8-314400b9363a"
   },
   "outputs": [
    {
     "data": {
      "text/plain": [
       "False"
      ]
     },
     "execution_count": 56,
     "metadata": {},
     "output_type": "execute_result"
    }
   ],
   "source": [
    "idade1 > idade2 and idade1 < idade3"
   ]
  },
  {
   "cell_type": "markdown",
   "metadata": {
    "id": "zJIoUZ7_hntw"
   },
   "source": [
    "##### Nesse caso, idade1 é maior que idade 2, mas idade1 não é menor que idade3."
   ]
  },
  {
   "cell_type": "markdown",
   "metadata": {
    "id": "UMlatt8Chntx"
   },
   "source": [
    "Quando usamos o ```OR```, precisamos que pelo menos uma condição seja verdadeira."
   ]
  },
  {
   "cell_type": "code",
   "execution_count": 57,
   "metadata": {
    "id": "JVZmzrhbhntx",
    "outputId": "dbef1793-bea5-4325-d321-4543cf20ce7e"
   },
   "outputs": [
    {
     "data": {
      "text/plain": [
       "True"
      ]
     },
     "execution_count": 57,
     "metadata": {},
     "output_type": "execute_result"
    }
   ],
   "source": [
    "idade1 > idade2 or idade1 < idade3"
   ]
  },
  {
   "cell_type": "markdown",
   "metadata": {
    "id": "L5fEK6E1hnt0"
   },
   "source": [
    "##### Nesse caso, idade1 > idade2, ou seja, já é suficiente para a comparação inteira ser verdadeira."
   ]
  },
  {
   "cell_type": "markdown",
   "metadata": {
    "id": "tZxlSfKShnt0"
   },
   "source": [
    "## Estruturas Condicionais"
   ]
  },
  {
   "cell_type": "markdown",
   "metadata": {
    "id": "0mG0yFIUhnt0"
   },
   "source": [
    "Em algumas ocasiões necessitamos que algo aconteça, se uma determinada condição for atendida, ou algum evento aconteça."
   ]
  },
  {
   "cell_type": "markdown",
   "metadata": {
    "id": "3Rb4dJs9hnt1"
   },
   "source": [
    "```SE``` (condição):<br>\n",
    "```ENTAO``` (execute)<br>\n",
    "```CASO NÃO``` (execute)"
   ]
  },
  {
   "cell_type": "markdown",
   "metadata": {
    "id": "ZDrH5-LDhnt1"
   },
   "source": [
    "Por exemplo, imagine a média da nota de um aluno. Se a média for ```maior ou igual a 7```, ele é aprovado, caso contrário, ele é reprovado."
   ]
  },
  {
   "cell_type": "code",
   "execution_count": 58,
   "metadata": {
    "id": "zFiIyW1Dhnt1",
    "outputId": "571e828e-6360-4901-c427-bbe92322e319"
   },
   "outputs": [
    {
     "name": "stdout",
     "output_type": "stream",
     "text": [
      "Aluno Reprovado!\n"
     ]
    }
   ],
   "source": [
    "media_aluno = 6.5\n",
    "# Se média maior ou igual a 7, então ele é aprovado\n",
    "if media_aluno >=7:\n",
    "    print('Aluno Aprovado!')\n",
    "# Caso contrário, ele está reprovado\n",
    "else:\n",
    "    print('Aluno Reprovado!')"
   ]
  },
  {
   "cell_type": "markdown",
   "metadata": {
    "id": "NE-9f_mdhnt3"
   },
   "source": [
    "**E se eu tiver mais de uma condição??**"
   ]
  },
  {
   "cell_type": "code",
   "execution_count": null,
   "metadata": {
    "id": "d7oPLy5Whnt4"
   },
   "outputs": [],
   "source": [
    "media_aluno = 6.5\n",
    "# Se média maior ou igual a 7, então ele é aprovado\n",
    "if media_aluno >=7:\n",
    "    print('Aluno Aprovado!')\n",
    "# Caso contrário, ele está reprovado\n",
    "else:\n",
    "    print('Aluno Reprovado!')"
   ]
  },
  {
   "cell_type": "markdown",
   "metadata": {
    "id": "9ZXH6ZkFhnt6"
   },
   "source": [
    "## Loops"
   ]
  },
  {
   "cell_type": "markdown",
   "metadata": {
    "id": "quEGQWG8hnt7"
   },
   "source": [
    "E Se precisarmos repetir determinada tarefa?\n",
    "Por exemplo: Precisamos avaliar se 1000 alunos foram aprovados, reprovados ou foram pra recuperação. Como você faria isso?"
   ]
  },
  {
   "cell_type": "markdown",
   "metadata": {
    "id": "ChOTGeyxhnt7"
   },
   "source": [
    "### For"
   ]
  },
  {
   "cell_type": "markdown",
   "metadata": {
    "id": "K2MGs-t3hnt7"
   },
   "source": [
    "O loop For é utilizado quando queremos repetir uma operação em um número finito de vezes.\n",
    "\n",
    "No loop, uma variável definida percorre uma sequência. A cada iteração o valor da variável é atualizado com o próximo valor da lista."
   ]
  },
  {
   "cell_type": "code",
   "execution_count": null,
   "metadata": {
    "id": "XsywMxWShnt8",
    "outputId": "1df64021-4d80-41bd-927d-d0c71b6f1767"
   },
   "outputs": [],
   "source": [
    "# Pra gerar uma sequência podemos utilizar a função range\n",
    "# Sequência de 5 números iniciando com 0\n",
    "for i in range(5):\n",
    "    print(i)"
   ]
  },
  {
   "cell_type": "code",
   "execution_count": null,
   "metadata": {
    "id": "_lI1zWHIhnt9",
    "outputId": "32b76799-4c55-4910-fb44-1e724a50ffab"
   },
   "outputs": [],
   "source": [
    "# Avaliando a aprovação de 5 alunos\n",
    "# Se média maior ou igual a 7, então ele é aprovado\n",
    "for i in range(5):\n",
    "    media_aluno = float(input('Informe a nota do aluno: '))\n",
    "    if media_aluno >=7:\n",
    "        print('Aluno Aprovado!\\n')\n",
    "    # Caso contrário, ele está reprovado\n",
    "    else:\n",
    "        print('Aluno Reprovado!\\n')"
   ]
  },
  {
   "cell_type": "markdown",
   "metadata": {
    "id": "CvJHKEqLhnt_"
   },
   "source": [
    "### While"
   ]
  },
  {
   "cell_type": "markdown",
   "metadata": {
    "id": "lAMm72EUhnt_"
   },
   "source": [
    "O Loop While vai executar um comando baseado em uma condição. Se essa condição for verdadeira o loop roda uma iteração. No final de cada iteração, a condição é reavaliada. Caso ainda seja verdadeira, o loop continua, caso contrário ele é interrompido.\n"
   ]
  },
  {
   "cell_type": "code",
   "execution_count": null,
   "metadata": {
    "id": "cQECWOG-hnuF",
    "outputId": "bf9bc8bc-25ea-4cd3-f52d-1559bcbe3a18"
   },
   "outputs": [],
   "source": [
    "# Loop com condição de parada\n",
    "# Nesse caso, a cada iteração é somado +1 ao valor de i\n"
   ]
  },
  {
   "cell_type": "markdown",
   "metadata": {
    "id": "JRplSZhwhnuI"
   },
   "source": [
    "# Estrutura de Dados"
   ]
  },
  {
   "cell_type": "markdown",
   "metadata": {
    "id": "JTHnInExhnuI"
   },
   "source": [
    "## Listas"
   ]
  },
  {
   "cell_type": "markdown",
   "metadata": {
    "id": "ft_LR593hnuJ"
   },
   "source": [
    "Listas são sequências de números, caracteres ou strings, separados por vírgulas e entre colchetes. As listas podem conter um mix de tipos diferentes, ou seja, você pode criar uma lista contendo strings, bools e também numéricos, embora não seja uma boa prática."
   ]
  },
  {
   "cell_type": "code",
   "execution_count": 96,
   "metadata": {
    "id": "qrUcFpTRhnuJ"
   },
   "outputs": [],
   "source": [
    "# Lista com números  = 0  1   2 -> posição na lista\n",
    "minha_lista_numeros = [21,32,54]"
   ]
  },
  {
   "cell_type": "code",
   "execution_count": 97,
   "metadata": {
    "id": "89zMwtGVhnuM"
   },
   "outputs": [],
   "source": [
    "# Lista com strings\n",
    "minha_lista_strings = ['São Paulo', 'Maceió', 'Belém']"
   ]
  },
  {
   "cell_type": "markdown",
   "metadata": {
    "id": "tPG9O9zVhnuP"
   },
   "source": [
    "Para acessar elementos de uma lista, basta indicar o índice desejado entre colchetes\n"
   ]
  },
  {
   "cell_type": "code",
   "execution_count": 98,
   "metadata": {
    "id": "mJJ9YOSNhnuQ",
    "outputId": "c62f301b-cced-4f7a-a55f-5181bc922426"
   },
   "outputs": [
    {
     "data": {
      "text/plain": [
       "21"
      ]
     },
     "execution_count": 98,
     "metadata": {},
     "output_type": "execute_result"
    }
   ],
   "source": [
    "# Acessando o elemento 0 da lista de números\n",
    "minha_lista_numeros[0]"
   ]
  },
  {
   "cell_type": "code",
   "execution_count": 99,
   "metadata": {
    "id": "KiYnuvyNhnuS",
    "outputId": "3291d0c1-0939-4cea-9673-b45572173674"
   },
   "outputs": [
    {
     "data": {
      "text/plain": [
       "'São Paulo'"
      ]
     },
     "execution_count": 99,
     "metadata": {},
     "output_type": "execute_result"
    }
   ],
   "source": [
    "# Acessando o elemento 1 da lista de números\n",
    "minha_lista_strings[0]"
   ]
  },
  {
   "cell_type": "markdown",
   "metadata": {
    "id": "u2u5b_5ThnuU"
   },
   "source": [
    "Quando temos uma lista só com números, podemos realizar algumas operações."
   ]
  },
  {
   "cell_type": "code",
   "execution_count": 100,
   "metadata": {
    "id": "nt1H-9vYhnuU",
    "outputId": "dd87d100-5690-42d0-a91e-fab0fb895fea"
   },
   "outputs": [
    {
     "data": {
      "text/plain": [
       "107"
      ]
     },
     "execution_count": 100,
     "metadata": {},
     "output_type": "execute_result"
    }
   ],
   "source": [
    "# Soma dos elementos\n",
    "sum(minha_lista_numeros)"
   ]
  },
  {
   "cell_type": "code",
   "execution_count": 101,
   "metadata": {
    "id": "qU1Yv0wehnuV",
    "outputId": "2d89a1b6-264f-44a7-dda5-7bdb530fe39d"
   },
   "outputs": [
    {
     "data": {
      "text/plain": [
       "54"
      ]
     },
     "execution_count": 101,
     "metadata": {},
     "output_type": "execute_result"
    }
   ],
   "source": [
    "# Máximo da Lista\n",
    "max(minha_lista_numeros)"
   ]
  },
  {
   "cell_type": "code",
   "execution_count": 102,
   "metadata": {
    "id": "saA90QwWhnuX",
    "outputId": "32ef4d13-be3e-4037-b394-b844d0916388"
   },
   "outputs": [
    {
     "data": {
      "text/plain": [
       "21"
      ]
     },
     "execution_count": 102,
     "metadata": {},
     "output_type": "execute_result"
    }
   ],
   "source": [
    "# Mínimo da Lista\n",
    "min(minha_lista_numeros)"
   ]
  },
  {
   "cell_type": "markdown",
   "metadata": {},
   "source": [
    "#### Acrescentar elementos na lista"
   ]
  },
  {
   "cell_type": "code",
   "execution_count": 103,
   "metadata": {
    "id": "QHBZP9xLhnuZ"
   },
   "outputs": [],
   "source": [
    "minha_lista_numeros.append(5)"
   ]
  },
  {
   "cell_type": "markdown",
   "metadata": {
    "id": "OZnVZY4ahnub"
   },
   "source": [
    "##### O método append acrescenta o item no final da lista."
   ]
  },
  {
   "cell_type": "code",
   "execution_count": 104,
   "metadata": {
    "id": "8-eZ8E2Hhnub",
    "outputId": "c3997d93-ecf7-4c22-e3f1-070003916495"
   },
   "outputs": [
    {
     "name": "stdout",
     "output_type": "stream",
     "text": [
      "[21, 32, 54, 5]\n"
     ]
    }
   ],
   "source": [
    "print(minha_lista_numeros)"
   ]
  },
  {
   "cell_type": "code",
   "execution_count": 105,
   "metadata": {
    "id": "VBnX5aZ_hnue",
    "outputId": "f7ee65bf-750a-49c5-aa56-7812dd9278a0"
   },
   "outputs": [
    {
     "data": {
      "text/plain": [
       "4"
      ]
     },
     "execution_count": 105,
     "metadata": {},
     "output_type": "execute_result"
    }
   ],
   "source": [
    "# Para descobrir quantos elementos existem na lista\n",
    "len(minha_lista_numeros)"
   ]
  },
  {
   "cell_type": "code",
   "execution_count": 106,
   "metadata": {
    "id": "qfx4njlwhnuf",
    "outputId": "f2e7c99d-ecb7-4301-e241-9e676384385e"
   },
   "outputs": [
    {
     "name": "stdout",
     "output_type": "stream",
     "text": [
      "[21, 32, 54]\n"
     ]
    }
   ],
   "source": [
    "# Para remover um elemento da lista\n",
    "minha_lista_numeros.remove(5)\n",
    "print(minha_lista_numeros)"
   ]
  },
  {
   "cell_type": "code",
   "execution_count": 107,
   "metadata": {
    "id": "4PrcJZ38hnug",
    "outputId": "fe6098dc-75de-4e8c-b79d-161534fea93d"
   },
   "outputs": [
    {
     "data": {
      "text/plain": [
       "True"
      ]
     },
     "execution_count": 107,
     "metadata": {},
     "output_type": "execute_result"
    }
   ],
   "source": [
    "# Podemos checar se um elemento faz parte da lista \n",
    "21 in minha_lista_numeros"
   ]
  },
  {
   "cell_type": "markdown",
   "metadata": {
    "id": "L001-z4Rhnui"
   },
   "source": [
    "Para mais comandos envolvendo listas e acesse: <a href=\"https://www.w3schools.com/python/python_ref_list.asp\">Clique Aqui <a/>"
   ]
  },
  {
   "cell_type": "markdown",
   "metadata": {
    "id": "R8sO-9qmhnui"
   },
   "source": [
    "Listas são mutáveis. Ou seja, podemos adicionar, remover e modificar valores.\n",
    "\n"
   ]
  },
  {
   "cell_type": "code",
   "execution_count": 71,
   "metadata": {
    "id": "e5IFBf9ehnui"
   },
   "outputs": [],
   "source": [
    "minha_lista_numeros[0] = 34"
   ]
  },
  {
   "cell_type": "code",
   "execution_count": 72,
   "metadata": {
    "id": "2rU0rMaIhnuk",
    "outputId": "14df1b24-51bc-4ba9-d10b-1b9dd3debf20"
   },
   "outputs": [
    {
     "name": "stdout",
     "output_type": "stream",
     "text": [
      "[34, 32, 54]\n"
     ]
    }
   ],
   "source": [
    "print(minha_lista_numeros)"
   ]
  },
  {
   "cell_type": "markdown",
   "metadata": {
    "id": "HwdCC0OMhnul"
   },
   "source": [
    "## Tuplas"
   ]
  },
  {
   "cell_type": "markdown",
   "metadata": {
    "id": "vqetxAYKhnum"
   },
   "source": [
    "Ao contrário de listas, tuplas são imutáveis, ou seja, uma vez definidas, não podemos alterá-las. Para definir uma tupla, usamos Parênteses."
   ]
  },
  {
   "cell_type": "code",
   "execution_count": 73,
   "metadata": {
    "id": "N2VIJSVQhnum"
   },
   "outputs": [],
   "source": [
    "minha_tupla = (1, 2, 2, 2, 3, 3, 4)"
   ]
  },
  {
   "cell_type": "code",
   "execution_count": 74,
   "metadata": {
    "id": "PjQYtjzKhnup",
    "outputId": "6cbfc451-cf7c-432c-d182-1345bedc310c"
   },
   "outputs": [
    {
     "data": {
      "text/plain": [
       "3"
      ]
     },
     "execution_count": 74,
     "metadata": {},
     "output_type": "execute_result"
    }
   ],
   "source": [
    "# Contar quantas vezes um elemento aparece\n",
    "minha_tupla.count(2)"
   ]
  },
  {
   "cell_type": "code",
   "execution_count": 75,
   "metadata": {
    "id": "qCyiOlGVhnuq",
    "outputId": "1b0fdaee-f58b-4141-910a-2acedc1b16a1"
   },
   "outputs": [
    {
     "data": {
      "text/plain": [
       "6"
      ]
     },
     "execution_count": 75,
     "metadata": {},
     "output_type": "execute_result"
    }
   ],
   "source": [
    "# Retornar índice que contém o elemento\n",
    "minha_tupla.index(4)"
   ]
  },
  {
   "cell_type": "markdown",
   "metadata": {
    "id": "eE92_k6syDHP"
   },
   "source": [
    "**Desafio!**\n",
    "\n",
    "1. Vocês terão 20 minutos para essa tarefa \n",
    "2. Serão dadas duas listas e vocês terão que retornar da primeira lista somente os elementos pares e da segunda lista somente os lementos ímpares.\n",
    "    1. lista1 =  [1,100,23,40,23,51,50,39,58]\n",
    "    2. lista2 = [2,4,5,8,9,11,13,145,45,23,11]"
   ]
  },
  {
   "cell_type": "code",
   "execution_count": 76,
   "metadata": {},
   "outputs": [
    {
     "name": "stdout",
     "output_type": "stream",
     "text": [
      "100\n",
      "40\n",
      "50\n",
      "58\n"
     ]
    }
   ],
   "source": [
    "lista1 = [1,100,23,40,23,51,50,39,58]\n",
    "for par in lista1:\n",
    "    if par % 2 == 0:\n",
    "        print(par)"
   ]
  },
  {
   "cell_type": "code",
   "execution_count": 77,
   "metadata": {},
   "outputs": [
    {
     "name": "stdout",
     "output_type": "stream",
     "text": [
      "5\n",
      "9\n",
      "11\n",
      "13\n",
      "145\n",
      "45\n",
      "23\n",
      "11\n"
     ]
    }
   ],
   "source": [
    "lista2 = [2,4,5,8,9,11,13,145,45,23,11]\n",
    "for impar in lista2:\n",
    "    if impar % 2 == 1:\n",
    "        print(impar)"
   ]
  },
  {
   "cell_type": "code",
   "execution_count": 78,
   "metadata": {},
   "outputs": [
    {
     "name": "stdout",
     "output_type": "stream",
     "text": [
      "Numero Impar 1\n",
      "Numero Par 100\n",
      "Numero Impar 23\n",
      "Numero Par 40\n",
      "Numero Impar 23\n",
      "Numero Impar 51\n",
      "Numero Par 50\n",
      "Numero Impar 39\n",
      "Numero Par 58\n",
      "Numero Par 2\n",
      "Numero Par 4\n",
      "Numero Impar 5\n",
      "Numero Par 8\n",
      "Numero Impar 9\n",
      "Numero Impar 11\n",
      "Numero Impar 13\n",
      "Numero Impar 145\n",
      "Numero Impar 45\n",
      "Numero Impar 23\n",
      "Numero Impar 11\n"
     ]
    }
   ],
   "source": [
    "lista1 = [1,100,23,40,23,51,50,39,58]\n",
    "lista2 = [2,4,5,8,9,11,13,145,45,23,11]\n",
    "joinlist = lista1 + lista2\n",
    "for num in joinlist:\n",
    "    if num % 2 == 0:\n",
    "        print(\"Numero Par {}\".format(num))\n",
    "    else:\n",
    "        print(\"Numero Impar {}\".format(num))\n"
   ]
  },
  {
   "cell_type": "markdown",
   "metadata": {
    "id": "DtSPcgclhnu7"
   },
   "source": [
    "## Dicionários"
   ]
  },
  {
   "cell_type": "markdown",
   "metadata": {
    "id": "C4kGatIKhnu7"
   },
   "source": [
    "Dicionários são estruturas constituídas de chave-valor. Não são ordenados, mas são mutáveis. Para consultar os dados informamos as chaves."
   ]
  },
  {
   "cell_type": "markdown",
   "metadata": {},
   "source": [
    "Sendo assim, é muito utilizado quando queremos armazenar dados de forma organizada e que possuem identificação única (como acontece em bancos de dados)."
   ]
  },
  {
   "cell_type": "markdown",
   "metadata": {
    "id": "3g2_5S3whnu7"
   },
   "source": [
    "<img src=\"https://www.learnbyexample.org/wp-content/uploads/python/Dictionary-Key-Value-Pairs-Illustration.png\">"
   ]
  },
  {
   "cell_type": "markdown",
   "metadata": {
    "id": "OCzq7KbRhnu8"
   },
   "source": [
    "Para definir um dicionário, o método mais simples é utilizando chaves. As chaves do dicionário ficam do lado esquerdo e o valor do lado direito."
   ]
  },
  {
   "cell_type": "code",
   "execution_count": 79,
   "metadata": {
    "id": "smGExJ2MyDHm"
   },
   "outputs": [],
   "source": [
    "# Exemplo\n",
    "notas_alunos = {\"Bruno\": 4.5, \n",
    "         \"Mauricio\": 8.7, \n",
    "         \"Jéssica\": 6.5,\n",
    "         \"Mariana\": 7.4\n",
    "        }"
   ]
  },
  {
   "cell_type": "code",
   "execution_count": 80,
   "metadata": {
    "id": "X_iD_SRZhnu_",
    "outputId": "908daff2-2015-46ec-f404-a9742f2ab698"
   },
   "outputs": [
    {
     "name": "stdout",
     "output_type": "stream",
     "text": [
      "4.5\n"
     ]
    }
   ],
   "source": [
    "# Para consultar o dicionário -  INFORMO A CHAVE E RECEBO O VALOR\n",
    "print(notas_alunos['Bruno'])"
   ]
  },
  {
   "cell_type": "code",
   "execution_count": 81,
   "metadata": {
    "id": "CX3G9CNwhnvB",
    "outputId": "4c276142-26af-44af-94dc-56280b6da01d",
    "scrolled": true
   },
   "outputs": [
    {
     "name": "stdout",
     "output_type": "stream",
     "text": [
      "8.7\n"
     ]
    }
   ],
   "source": [
    "print(notas_alunos['Mauricio'])"
   ]
  },
  {
   "cell_type": "code",
   "execution_count": 82,
   "metadata": {
    "id": "rkvNZcTphnvC",
    "outputId": "f4a8e475-2a7c-4139-b2b5-da6610f01b2e"
   },
   "outputs": [
    {
     "data": {
      "text/plain": [
       "dict_keys(['Bruno', 'Mauricio', 'Jéssica', 'Mariana'])"
      ]
     },
     "execution_count": 82,
     "metadata": {},
     "output_type": "execute_result"
    }
   ],
   "source": [
    "# Podemos consultar as chaves -\n",
    "notas_alunos.keys()"
   ]
  },
  {
   "cell_type": "code",
   "execution_count": 83,
   "metadata": {
    "id": "zNtRbo8nhnvE",
    "outputId": "fc84a3ba-e889-42f1-b0fe-eb052bdb5266"
   },
   "outputs": [
    {
     "data": {
      "text/plain": [
       "dict_values([4.5, 8.7, 6.5, 7.4])"
      ]
     },
     "execution_count": 83,
     "metadata": {},
     "output_type": "execute_result"
    }
   ],
   "source": [
    "# Podemos consultar os valores\n",
    "notas_alunos.values()"
   ]
  },
  {
   "cell_type": "markdown",
   "metadata": {},
   "source": [
    "### Usando dicionario para retornar alunos que serão aprovados"
   ]
  },
  {
   "cell_type": "markdown",
   "metadata": {},
   "source": [
    "##### Lembrando: Aprovado para nota >=7 caso contrário, Recuperação para nota >=5 caso contrario Reprovado"
   ]
  },
  {
   "cell_type": "code",
   "execution_count": 84,
   "metadata": {},
   "outputs": [],
   "source": [
    "alunos_aprovados = []\n",
    "for i in notas_alunos.keys():\n",
    "    if notas_alunos[i] >=7:\n",
    "        alunos_aprovados.append(i)"
   ]
  },
  {
   "cell_type": "code",
   "execution_count": 85,
   "metadata": {},
   "outputs": [
    {
     "name": "stdout",
     "output_type": "stream",
     "text": [
      "['Mauricio', 'Mariana']\n"
     ]
    }
   ],
   "source": [
    "print(alunos_aprovados)"
   ]
  },
  {
   "cell_type": "markdown",
   "metadata": {
    "id": "P25gvoqvyDH3"
   },
   "source": [
    "**Desafio 2**\n",
    "1. Use o dicionário de notas e retorne o nome dos alunos que irão ser aprovados, reprovados e os que vão ficar de recuperação!"
   ]
  },
  {
   "cell_type": "code",
   "execution_count": 86,
   "metadata": {},
   "outputs": [],
   "source": [
    "notas_alunos = {\"Bruno\": 4.5, \n",
    "         \"Mauricio\": 8.7, \n",
    "         \"Jéssica\": 6.5,\n",
    "         \"Mariana\": 7.4\n",
    "        }"
   ]
  },
  {
   "cell_type": "code",
   "execution_count": 87,
   "metadata": {},
   "outputs": [
    {
     "data": {
      "text/plain": [
       "dict"
      ]
     },
     "execution_count": 87,
     "metadata": {},
     "output_type": "execute_result"
    }
   ],
   "source": [
    "type(notas_alunos)"
   ]
  },
  {
   "cell_type": "code",
   "execution_count": 108,
   "metadata": {},
   "outputs": [
    {
     "name": "stdout",
     "output_type": "stream",
     "text": [
      "['Mauricio', 'Mariana']\n",
      "['Jéssica']\n",
      "['Bruno']\n"
     ]
    }
   ],
   "source": [
    "notas_alunos = {\"Bruno\": 4.5, \n",
    "         \"Mauricio\": 8.7, \n",
    "         \"Jéssica\": 6.5,\n",
    "         \"Mariana\": 7.4\n",
    "        }\n",
    "\n",
    "alunos_aprovado = []\n",
    "alunos_recuperacao = []\n",
    "alunos_reprovado = []\n",
    "for i in notas_alunos.keys():\n",
    "    if notas_alunos[i] >=7:\n",
    "        alunos_aprovado.append(i)\n",
    "    elif notas_alunos[i] >=5:\n",
    "        alunos_recuperacao.append(i)\n",
    "    else:\n",
    "        alunos_reprovado.append(i)\n",
    "print(alunos_aprovado)\n",
    "print(alunos_recuperacao)\n",
    "print(alunos_reprovado)"
   ]
  },
  {
   "cell_type": "code",
   "execution_count": null,
   "metadata": {},
   "outputs": [],
   "source": []
  },
  {
   "cell_type": "code",
   "execution_count": null,
   "metadata": {},
   "outputs": [],
   "source": []
  }
 ],
 "metadata": {
  "colab": {
   "collapsed_sections": [
    "SXe6KvUWhnsj",
    "77FuxEXnhnst",
    "8gogjr_dhns_",
    "5EY1ggdBhntL",
    "-S9P9nUYhntT",
    "BKjVNSoqhntW",
    "tZxlSfKShnt0",
    "9ZXH6ZkFhnt6",
    "ChOTGeyxhnt7",
    "CvJHKEqLhnt_",
    "JTHnInExhnuI",
    "HwdCC0OMhnul",
    "_4vLqi7GyDHS"
   ],
   "name": "Copia de DSTN07 - PythonEstruturasDeDados - MATERIAL PROFESSOR.ipynb",
   "provenance": []
  },
  "kernelspec": {
   "display_name": "DH",
   "language": "python",
   "name": "dh"
  },
  "language_info": {
   "codemirror_mode": {
    "name": "ipython",
    "version": 3
   },
   "file_extension": ".py",
   "mimetype": "text/x-python",
   "name": "python",
   "nbconvert_exporter": "python",
   "pygments_lexer": "ipython3",
   "version": "3.9.1"
  },
  "toc": {
   "base_numbering": 1,
   "nav_menu": {},
   "number_sections": true,
   "sideBar": true,
   "skip_h1_title": false,
   "title_cell": "Table of Contents",
   "title_sidebar": "Contents",
   "toc_cell": false,
   "toc_position": {},
   "toc_section_display": true,
   "toc_window_display": true
  }
 },
 "nbformat": 4,
 "nbformat_minor": 1
}
