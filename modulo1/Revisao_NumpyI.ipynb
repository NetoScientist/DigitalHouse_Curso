{
 "cells": [
  {
   "cell_type": "markdown",
   "metadata": {},
   "source": [
    "# Agenda"
   ]
  },
  {
   "cell_type": "markdown",
   "metadata": {},
   "source": [
    "> Data: 06/02/2021<br>\n",
    "> Aula: 05 <br>\n",
    "> Módulo: 00 <br>\n"
   ]
  },
  {
   "cell_type": "markdown",
   "metadata": {},
   "source": [
    "O objetivo dessa aula é introduzir a biblioteca Numpy.\n"
   ]
  },
  {
   "cell_type": "code",
   "execution_count": 1,
   "metadata": {},
   "outputs": [],
   "source": [
    "import numpy as np\n"
   ]
  },
  {
   "cell_type": "markdown",
   "metadata": {},
   "source": [
    "# Numpy (Parte II)"
   ]
  },
  {
   "cell_type": "markdown",
   "metadata": {},
   "source": [
    "##### Relembrando - fontes dos exemplos abaixo:\n",
    "* http://www.estruturas.ufpr.br/disciplinas/pos-graduacao/introducao-a-computacao-cientifica-com-python/introducao-python/2-1-o-objeto-array-do-numpy/\n",
    "\n",
    "* https://www.codingame.com/playgrounds/52723/programacao-python-parte-3---prof--marco-vaz/pacote-matplotlib-graficos\n",
    "\n",
    "* https://stackoverflow.com/questions/21071128/matplotlib-plot-numpy-matrix-as-0-index"
   ]
  },
  {
   "cell_type": "markdown",
   "metadata": {},
   "source": [
    "### Criando arrays"
   ]
  },
  {
   "cell_type": "markdown",
   "metadata": {},
   "source": [
    "Unidimensionais"
   ]
  },
  {
   "cell_type": "code",
   "execution_count": 4,
   "metadata": {},
   "outputs": [
    {
     "name": "stdout",
     "output_type": "stream",
     "text": [
      "[0 1 2 3]\n",
      "1\n",
      "(4,)\n"
     ]
    }
   ],
   "source": [
    "import numpy as np\n",
    "\n",
    "a = np.array([0, 1, 2, 3])\n",
    "print(a)\n",
    "print(a.ndim)\n",
    "print(a.shape)\n"
   ]
  },
  {
   "cell_type": "markdown",
   "metadata": {},
   "source": [
    "Bidimensionais:"
   ]
  },
  {
   "cell_type": "code",
   "execution_count": 5,
   "metadata": {},
   "outputs": [
    {
     "name": "stdout",
     "output_type": "stream",
     "text": [
      "[[0 1 2]\n",
      " [3 4 5]]\n",
      " \n",
      "2\n",
      " \n",
      "(2, 3)\n"
     ]
    }
   ],
   "source": [
    "b = np.array([[0, 1, 2], [3, 4, 5]])    # 2 x 3 array\n",
    "print(b)\n",
    "print(' ')\n",
    "print(b.ndim)\n",
    "print(' ')\n",
    "print(b.shape)\n"
   ]
  },
  {
   "cell_type": "markdown",
   "metadata": {},
   "source": [
    "### Espaçados igualmente:"
   ]
  },
  {
   "cell_type": "code",
   "execution_count": 6,
   "metadata": {},
   "outputs": [
    {
     "name": "stdout",
     "output_type": "stream",
     "text": [
      "[0 1 2 3 4 5 6 7 8 9]\n",
      " \n",
      "[1 3 5 7]\n"
     ]
    }
   ],
   "source": [
    "a = np.arange(10) # 0 .. n-1\n",
    "print(a)\n",
    "print(' ')\n",
    "b = np.arange(1, 9, 2) # início, fim (exclusive), passo\n",
    "print(b)"
   ]
  },
  {
   "cell_type": "markdown",
   "metadata": {},
   "source": [
    "### Por número de pontos:"
   ]
  },
  {
   "cell_type": "code",
   "execution_count": 21,
   "metadata": {},
   "outputs": [
    {
     "name": "stdout",
     "output_type": "stream",
     "text": [
      "[ 0.  5. 10. 15. 20.]\n",
      " \n",
      "[0.  0.2 0.4 0.6 0.8]\n"
     ]
    }
   ],
   "source": [
    "c = np.linspace(0, 20, 5)   # início, fim, número de pontos (quantidade de valores)\n",
    "print(c)\n",
    "print(' ')\n",
    "d = np.linspace(0, 1, 5, endpoint=False) #não inclui o último ponto  - Testar com True\n",
    "print(d)"
   ]
  },
  {
   "cell_type": "markdown",
   "metadata": {},
   "source": [
    "### Visualização Básica"
   ]
  },
  {
   "cell_type": "code",
   "execution_count": 8,
   "metadata": {},
   "outputs": [],
   "source": [
    "import matplotlib.pyplot as plt  # O Matplotlib é um pacote de plotagem em 2D\n",
    "import numpy as np # já importamos, mas quero mostrar aqui que precisamos ter as duas bibliotecas juntas para termos as vizualizações\n"
   ]
  },
  {
   "cell_type": "markdown",
   "metadata": {},
   "source": [
    "### Plotagem unidimensional:"
   ]
  },
  {
   "cell_type": "code",
   "execution_count": 26,
   "metadata": {},
   "outputs": [
    {
     "name": "stdout",
     "output_type": "stream",
     "text": [
      "[0.   0.75 1.5  2.25 3.  ]\n",
      " \n",
      "[0.   2.25 4.5  6.75 9.  ]\n"
     ]
    },
    {
     "data": {
      "image/png": "[encoded data removed]",
      "text/plain": [
       "<Figure size 432x288 with 1 Axes>"
      ]
     },
     "metadata": {
      "needs_background": "light"
     },
     "output_type": "display_data"
    }
   ],
   "source": [
    "import matplotlib.pyplot as plt\n",
    "\n",
    "x = np.linspace(0, 3, 5) # início, fim (exclusive), Quantidade\n",
    "print(x)\n",
    "print(' ')\n",
    "y = np.linspace(0, 9, 5) # início, fim (exclusive), Quantidade\n",
    "print(y)\n",
    "\n",
    "plt.plot(x, y)       # plotagem da linha\n",
    "plt.plot(x, y, '*')  # plotagem dos pontos -  * simbolo para representar os pontos na reta\n",
    "plt.show()           # <-- mostra o gráfico"
   ]
  },
  {
   "cell_type": "code",
   "execution_count": 37,
   "metadata": {},
   "outputs": [
    {
     "name": "stdout",
     "output_type": "stream",
     "text": [
      "[ 0.          0.71428571  1.42857143  2.14285714  2.85714286  3.57142857\n",
      "  4.28571429  5.          5.71428571  6.42857143  7.14285714  7.85714286\n",
      "  8.57142857  9.28571429 10.        ]\n",
      " \n",
      "[ 0.          2.14285714  4.28571429  6.42857143  8.57142857 10.71428571\n",
      " 12.85714286 15.         17.14285714 19.28571429 21.42857143 23.57142857\n",
      " 25.71428571 27.85714286 30.        ]\n"
     ]
    },
    {
     "data": {
      "image/png": "[encoded data removed]",
      "text/plain": [
       "<Figure size 432x288 with 1 Axes>"
      ]
     },
     "metadata": {
      "needs_background": "light"
     },
     "output_type": "display_data"
    }
   ],
   "source": [
    "x = np.linspace(0, 10, 15) # início, fim (exclusive), Quantidade\n",
    "print(x)\n",
    "print(' ')\n",
    "y = np.linspace(0, 30, 15) # início, fim (exclusive), Quantidade\n",
    "print(y)\n",
    "\n",
    "plt.plot(x, y)       # plotagem da linha\n",
    "plt.plot(x, y, '+')  # plotagem dos pontos -  * simbolo para representar os pontos na reta\n",
    "plt.show()           # <-- mostra o gráfico"
   ]
  },
  {
   "cell_type": "code",
   "execution_count": 43,
   "metadata": {},
   "outputs": [
    {
     "data": {
      "image/png": "[encoded data removed]",
      "text/plain": [
       "<Figure size 432x288 with 1 Axes>"
      ]
     },
     "metadata": {},
     "output_type": "display_data"
    }
   ],
   "source": [
    "votos = np.array([842.201, 488.775, 553.424, 424.307, 272.500, 381.512, 261.386])\n",
    "candi = ['Candidato A', 'Candidato B', 'Candidato C', 'Candidato D', 'Candidato E',\n",
    "         'Candidato F', 'Candidato G']\n",
    "\n",
    "cores=['gold', 'red', 'blue', 'magenta', 'green','lightskyblue', 'yellowgreen']\n",
    "# o atributo explode indica que fatia do gráfico será destacada. No exemplo abaixo, será a primeira fatia. A quantidade de valores é igual ao número de fatias do gráfico. \n",
    "explode = (0.2, 0, 0, 0, 0, 0, 0)  # explode 1st slice\n",
    "\n",
    "# Atribuindo um título ao gráfico\n",
    "plt.title('Eleição 2020 - Total de Votos')\n",
    "\n",
    "plt.pie(votos, explode=explode, labels=candi, colors=cores, autopct='%1.1f%%', shadow=True, startangle=90)\n",
    "\n",
    "#Adiciona Legenda\n",
    "plt.legend(candi, bbox_to_anchor=(1.3, 1.3),loc='upper right')\n",
    "\n",
    "#Centraliza o gráfico\n",
    "plt.axis('equal')\n",
    "\n",
    "#Ajusta o espaçamento para evitar o recorte do rótulo\n",
    "plt.tight_layout()\n",
    "\n",
    "plt.show()\n"
   ]
  },
  {
   "cell_type": "markdown",
   "metadata": {},
   "source": [
    "### Plotagem Bidimensional:"
   ]
  },
  {
   "cell_type": "markdown",
   "metadata": {},
   "source": [
    "Usando Matplotlib, quero plotar um mapa de calor 2D. Meus dados são uma matriz numpy n-por-n, cada uma com um valor entre 0 e 1. Portanto, para o elemento (i, j) desta matriz, quero plotar um quadrado na coordenada (i, j) em meu mapa de calor, cuja cor é proporcional ao valor do elemento na matriz."
   ]
  },
  {
   "cell_type": "code",
   "execution_count": 11,
   "metadata": {},
   "outputs": [
    {
     "name": "stdout",
     "output_type": "stream",
     "text": [
      "[[0.   1.47 2.43 3.44 1.08 2.83 1.08 2.13 2.11 3.7 ]\n",
      " [1.47 0.   1.5  2.39 2.11 2.4  2.11 1.1  1.1  3.21]\n",
      " [2.43 1.5  0.   1.22 2.69 1.33 3.39 2.15 2.12 1.87]\n",
      " [3.44 2.39 1.22 0.   3.45 2.22 4.34 2.54 3.04 2.28]\n",
      " [1.08 2.11 2.69 3.45 0.   3.13 1.76 2.46 3.02 3.85]\n",
      " [2.83 2.4  1.33 2.22 3.13 0.   3.83 3.32 2.73 0.95]\n",
      " [1.08 2.11 3.39 4.34 1.76 3.83 0.   2.47 2.44 4.74]\n",
      " [2.13 1.1  2.15 2.54 2.46 3.32 2.47 0.   1.78 4.01]\n",
      " [2.11 1.1  2.12 3.04 3.02 2.73 2.44 1.78 0.   3.57]\n",
      " [3.7  3.21 1.87 2.28 3.85 0.95 4.74 4.01 3.57 0.  ]]\n"
     ]
    },
    {
     "data": {
      "image/png": "[encoded data removed]",
      "text/plain": [
       "<Figure size 432x288 with 2 Axes>"
      ]
     },
     "metadata": {
      "needs_background": "light"
     },
     "output_type": "display_data"
    }
   ],
   "source": [
    "matrix = np.array([[0.0, 1.47, 2.43, 3.44, 1.08, 2.83, 1.08, 2.13, 2.11, 3.7],\n",
    "                   [1.47, 0.0, 1.5,2.39, 2.11, 2.4, 2.11, 1.1, 1.1, 3.21],\n",
    "                   [2.43, 1.5, 0.0, 1.22, 2.69, 1.33, 3.39, 2.15, 2.12, 1.87],\n",
    "                   [3.44, 2.39, 1.22, 0.0, 3.45, 2.22, 4.34, 2.54, 3.04, 2.28],\n",
    "                   [1.08, 2.11, 2.69, 3.45, 0.0, 3.13, 1.76, 2.46, 3.02, 3.85],\n",
    "                   [2.83, 2.4, 1.33, 2.22, 3.13, 0.0, 3.83, 3.32, 2.73, 0.95], \n",
    "                   [1.08, 2.11, 3.39, 4.34, 1.76, 3.83, 0.0, 2.47, 2.44, 4.74], \n",
    "                   [2.13, 1.1, 2.15, 2.54, 2.46, 3.32, 2.47, 0.0, 1.78, 4.01],\n",
    "                   [2.11, 1.1, 2.12, 3.04, 3.02, 2.73, 2.44, 1.78, 0.0, 3.57],\n",
    "                   [3.7, 3.21, 1.87, 2.28, 3.85, 0.95, 4.74, 4.01, 3.57, 0.0]])\n",
    "print(matrix)\n",
    "\n",
    "# veremos cada linha dessa em outras aula:\n",
    "fig = plt.figure() #cria a figura\n",
    "ax = fig.add_subplot(1,1,1) #insere o gráfico na figura\n",
    "ax.set_aspect('equal') # define proporção da imagem\n",
    "plt.imshow(matrix, interpolation='nearest', cmap=plt.cm.ocean)# insere a matriz,escolhe interpolação (veja mais aqui: https://matplotlib.org/3.1.1/gallery/images_contours_and_fields/interpolation_methods.html)  escolhe a cor\n",
    "plt.colorbar()#adicione uma barra de cores ao gráfico.\n",
    "plt.show()# mostra gráfico"
   ]
  },
  {
   "cell_type": "markdown",
   "metadata": {},
   "source": [
    "### Plotagem tridimensional"
   ]
  },
  {
   "cell_type": "code",
   "execution_count": 38,
   "metadata": {},
   "outputs": [],
   "source": [
    "from mpl_toolkits import mplot3d#kit de ferramentas, incluído na instalação principal do Matplotlib\n"
   ]
  },
  {
   "cell_type": "markdown",
   "metadata": {},
   "source": [
    "Uma vez que este submódulo é importado, eixos tridimensionais podem ser criados passando a palavra-chave projection = '3d' para qualquer uma das rotinas normais de criação de eixos:"
   ]
  },
  {
   "cell_type": "code",
   "execution_count": 39,
   "metadata": {},
   "outputs": [
    {
     "data": {
      "image/png": "[encoded data removed]",
      "text/plain": [
       "<Figure size 432x288 with 1 Axes>"
      ]
     },
     "metadata": {
      "needs_background": "light"
     },
     "output_type": "display_data"
    }
   ],
   "source": [
    "fig = plt.figure()\n",
    "ax = plt.axes(projection='3d')"
   ]
  },
  {
   "cell_type": "markdown",
   "metadata": {},
   "source": [
    "veja mais em: https://jakevdp.github.io/PythonDataScienceHandbook/04.12-three-dimensional-plotting.html"
   ]
  },
  {
   "cell_type": "code",
   "execution_count": 44,
   "metadata": {},
   "outputs": [
    {
     "data": {
      "image/png": "[encoded data removed]",
      "text/plain": [
       "<Figure size 432x288 with 1 Axes>"
      ]
     },
     "metadata": {
      "needs_background": "light"
     },
     "output_type": "display_data"
    }
   ],
   "source": [
    "\n",
    "\n",
    "ax = plt.axes(projection='3d')\n",
    "\n",
    "# Data for a three-dimensional line\n",
    "zline = np.linspace(0, 15, 1000)\n",
    "xline = np.sin(zline)\n",
    "yline = np.cos(zline)\n",
    "ax.plot3D(xline, yline, zline, 'gray')\n",
    "\n",
    "# Data for three-dimensional scattered points\n",
    "zdata = 15 * np.random.random(100)\n",
    "xdata = np.sin(zdata) + 0.1 * np.random.randn(100)\n",
    "ydata = np.cos(zdata) + 0.1 * np.random.randn(100)\n",
    "ax.scatter3D(xdata, ydata, zdata, c=zdata, cmap='Greens');\n",
    "\n"
   ]
  },
  {
   "cell_type": "markdown",
   "metadata": {},
   "source": [
    "### Exemplo prático - dados estão sendo representados em formato de tabela (2D)"
   ]
  },
  {
   "cell_type": "markdown",
   "metadata": {},
   "source": [
    "![Image_tabela_taxi](https://miro.medium.com/max/700/1*q0zTiO8qrw24lhjE0Gz3Ew.png)\n"
   ]
  },
  {
   "cell_type": "markdown",
   "metadata": {},
   "source": [
    "Conjunto de dados — aproximadamente 90.000 viagens de táxi amarelo de e para os aeroportos de Nova York entre janeiro e junho de 2016. Abaixo estão informações sobre as colunas selecionadas do conjunto de dados:\n",
    "\n",
    "pickup_year: o ano da viagem.\n",
    "\n",
    "pickup_month: o mês da viagem (1º de janeiro e 12 de dezembro).\n",
    "\n",
    "pickup_day: o dia do mês da viagem.\n",
    "\n",
    "pickup_location_code: o aeroporto ou bairro onde a viagem começou.\n",
    "\n",
    "dropoff_location_code: o aeroporto ou município onde a viagem terminou.\n",
    "\n",
    "trip_distance: a distância da viagem em milhas.\n",
    "\n",
    "trip_length: a duração da viagem em segundos.\n",
    "\n",
    "fare_amount: a tarifa base da viagem, em dólares.\n",
    "\n",
    "fees_amount: a taxa base da viagem, em dólares.\n",
    "\n",
    "total_amount: o valor total cobrado ao passageiro, incluindo todas as taxas, pedágios e gorjetas.<\\br>"
   ]
  },
  {
   "cell_type": "code",
   "execution_count": 45,
   "metadata": {},
   "outputs": [],
   "source": [
    "import csv \n",
    "# é um tipo especial de arquivo que você pode criar ou editar no Excel. Em vez de armazenar informações em colunas, os arquivos CSV armazenam informações separadas por vírgulas.\n",
    "\n",
    "#salve o arquivo na mesma pasta do jupyter notebook ou indique o caminho completo\n",
    "with open('nyc_taxis.csv', newline='') as f: # f = file\n",
    "    reader = csv.reader(f)\n",
    "    taxi_list = list(reader) #gaurdei conteúdo numa lista\n",
    "\n"
   ]
  },
  {
   "cell_type": "code",
   "execution_count": 41,
   "metadata": {},
   "outputs": [],
   "source": [
    "taxi = np.array(taxi_list) # tranferi a lista para um objeto numpy"
   ]
  },
  {
   "cell_type": "code",
   "execution_count": 42,
   "metadata": {},
   "outputs": [
    {
     "name": "stdout",
     "output_type": "stream",
     "text": [
      "[['pickup_year' 'pickup_month' 'pickup_day' ... 'tip_amount'\n",
      "  'total_amount' 'payment_type']\n",
      " ['2016' '1' '1' ... '11.65' '69.99' '1']\n",
      " ['2016' '1' '1' ... '8.00' '54.30' '1']\n",
      " ...\n",
      " ['2016' '6' '30' ... '5.00' '63.34' '1']\n",
      " ['2016' '6' '30' ... '8.95' '44.75' '1']\n",
      " ['2016' '6' '30' ... '0.00' '54.84' '2']]\n"
     ]
    }
   ],
   "source": [
    "print(taxi)"
   ]
  },
  {
   "cell_type": "markdown",
   "metadata": {},
   "source": [
    "### Selecionando  linha"
   ]
  },
  {
   "cell_type": "code",
   "execution_count": 17,
   "metadata": {},
   "outputs": [
    {
     "data": {
      "text/plain": [
       "array(['pickup_year', 'pickup_month', 'pickup_day', 'pickup_dayofweek',\n",
       "       'pickup_time', 'pickup_location_code', 'dropoff_location_code',\n",
       "       'trip_distance', 'trip_length', 'fare_amount', 'fees_amount',\n",
       "       'tolls_amount', 'tip_amount', 'total_amount', 'payment_type'],\n",
       "      dtype='<U21')"
      ]
     },
     "execution_count": 17,
     "metadata": {},
     "output_type": "execute_result"
    }
   ],
   "source": [
    "taxi[0] "
   ]
  },
  {
   "cell_type": "code",
   "execution_count": 29,
   "metadata": {},
   "outputs": [
    {
     "data": {
      "text/plain": [
       "array(['2016', '1', '1', '5', '0', '2', '4', '21.00', '2037', '52.00',\n",
       "       '0.80', '5.54', '11.65', '69.99', '1'], dtype='<U21')"
      ]
     },
     "execution_count": 29,
     "metadata": {},
     "output_type": "execute_result"
    }
   ],
   "source": [
    "taxi[1]"
   ]
  },
  {
   "cell_type": "markdown",
   "metadata": {},
   "source": [
    "### Agora quero saber o que tem na linha 21 e coluna 5:"
   ]
  },
  {
   "cell_type": "code",
   "execution_count": 50,
   "metadata": {},
   "outputs": [
    {
     "data": {
      "text/plain": [
       "'4'"
      ]
     },
     "execution_count": 50,
     "metadata": {},
     "output_type": "execute_result"
    }
   ],
   "source": [
    "taxi[21,5]"
   ]
  },
  {
   "cell_type": "markdown",
   "metadata": {},
   "source": [
    "### Pegar uma fatia do array selecionando colunas <br/>\n"
   ]
  },
  {
   "cell_type": "code",
   "execution_count": 80,
   "metadata": {},
   "outputs": [
    {
     "name": "stdout",
     "output_type": "stream",
     "text": [
      "Wall time: 25.9 ms\n"
     ]
    },
    {
     "data": {
      "text/plain": [
       "array([['pickup_dayofweek', 'pickup_time', 'pickup_location_code'],\n",
       "       ['5', '0', '2'],\n",
       "       ['5', '0', '2'],\n",
       "       ...,\n",
       "       ['4', '5', '2'],\n",
       "       ['4', '5', '2'],\n",
       "       ['4', '5', '2']], dtype='<U21')"
      ]
     },
     "execution_count": 80,
     "metadata": {},
     "output_type": "execute_result"
    }
   ],
   "source": [
    "%%time\n",
    "colunas = [3,4,5]\n",
    "array_fatiado = taxi[:, colunas]\n",
    "array_fatiado"
   ]
  },
  {
   "cell_type": "code",
   "execution_count": 102,
   "metadata": {},
   "outputs": [
    {
     "data": {
      "text/plain": [
       "array([['pickup_dayofweek', 'pickup_time', 'pickup_location_code'],\n",
       "       ['5', '0', '2'],\n",
       "       ['5', '0', '2'],\n",
       "       ...,\n",
       "       ['4', '5', '2'],\n",
       "       ['4', '5', '2'],\n",
       "       ['4', '5', '2']], dtype='<U21')"
      ]
     },
     "execution_count": 102,
     "metadata": {},
     "output_type": "execute_result"
    }
   ],
   "source": [
    "taxi[:,[3,4,5]]"
   ]
  },
  {
   "cell_type": "markdown",
   "metadata": {},
   "source": [
    "### Exercício - vamos fazer juntos!"
   ]
  },
  {
   "cell_type": "code",
   "execution_count": null,
   "metadata": {},
   "outputs": [],
   "source": [
    "Realize o somatório das tarifas cobradas. (coluna fare_amount - coluna 9 )"
   ]
  },
  {
   "cell_type": "code",
   "execution_count": 81,
   "metadata": {},
   "outputs": [
    {
     "data": {
      "text/plain": [
       "array(['52.00', '45.00', '36.50', ..., '52.00', '34.50', '48.00'],\n",
       "      dtype='<U21')"
      ]
     },
     "execution_count": 81,
     "metadata": {},
     "output_type": "execute_result"
    }
   ],
   "source": [
    "taxi[1::,9]"
   ]
  },
  {
   "cell_type": "code",
   "execution_count": 85,
   "metadata": {},
   "outputs": [
    {
     "data": {
      "text/plain": [
       "3439505.59"
      ]
     },
     "execution_count": 85,
     "metadata": {},
     "output_type": "execute_result"
    }
   ],
   "source": [
    "soma_tarifas = np.sum(taxi[1::,9].astype(np.float))\n",
    "soma_tarifas"
   ]
  },
  {
   "cell_type": "markdown",
   "metadata": {},
   "source": [
    "### Pratique sozinho!"
   ]
  },
  {
   "cell_type": "markdown",
   "metadata": {},
   "source": [
    "Realize o somatório das taxas cobradas. (coluna fees_amount - coluna 10 )"
   ]
  },
  {
   "cell_type": "code",
   "execution_count": 94,
   "metadata": {},
   "outputs": [
    {
     "data": {
      "text/plain": [
       "108293.84000000001"
      ]
     },
     "execution_count": 94,
     "metadata": {},
     "output_type": "execute_result"
    }
   ],
   "source": [
    "soma_tarifas = np.sum(taxi[1::,10].astype(np.float))\n",
    "soma_tarifas"
   ]
  },
  {
   "cell_type": "markdown",
   "metadata": {},
   "source": [
    "### Use np.max() para obter a maior distância (em milhas). Atribua a variável distancia_maxima. <br/>\n",
    "Dica:  trip_distance - coluna 7"
   ]
  },
  {
   "cell_type": "code",
   "execution_count": 99,
   "metadata": {},
   "outputs": [
    {
     "data": {
      "text/plain": [
       "182.9"
      ]
     },
     "execution_count": 99,
     "metadata": {},
     "output_type": "execute_result"
    }
   ],
   "source": [
    "distancia_maxima = np.max(taxi[1::,7].astype(np.float))\n",
    "distancia_maxima"
   ]
  },
  {
   "cell_type": "markdown",
   "metadata": {},
   "source": [
    "### Axis  - Eixo"
   ]
  },
  {
   "cell_type": "markdown",
   "metadata": {},
   "source": [
    "### Mas e se quiséssemos somar valores das linhas? Precisamos usar o parâmetro axis e especificar um valor 1 "
   ]
  },
  {
   "cell_type": "markdown",
   "metadata": {},
   "source": [
    "#### Primeiro vamos pegar uma fatia do nosso array: 5 primeiras linhas das colunas 9 a 13"
   ]
  },
  {
   "cell_type": "code",
   "execution_count": 97,
   "metadata": {},
   "outputs": [
    {
     "name": "stdout",
     "output_type": "stream",
     "text": [
      "[['52.00' '0.80' '5.54' '11.65']\n",
      " ['45.00' '1.30' '0.00' '8.00']\n",
      " ['36.50' '1.30' '0.00' '0.00']\n",
      " ['26.00' '1.30' '0.00' '5.46']\n",
      " ['17.50' '1.30' '0.00' '0.00']]\n"
     ]
    }
   ],
   "source": [
    "taxi_5_primeiras_linhas = taxi[1:6,9:13]#comecei do 1 para retirar cabeçalho nas linhas e colunas de 9 a 13 para teste\n",
    "                                        #lembrando que linha 6 está fora!    \n",
    "print(taxi_5_primeiras_linhas)"
   ]
  },
  {
   "cell_type": "code",
   "execution_count": 104,
   "metadata": {},
   "outputs": [
    {
     "data": {
      "text/plain": [
       "array([69.99, 54.3 , 37.8 , 32.76, 18.8 ])"
      ]
     },
     "execution_count": 104,
     "metadata": {},
     "output_type": "execute_result"
    }
   ],
   "source": [
    "soma_linhas = taxi_5_primeiras_linhas.astype(np.float).sum(axis=1)\n",
    "soma_linhas"
   ]
  },
  {
   "cell_type": "markdown",
   "metadata": {},
   "source": [
    "### Se quisermos somar valores das colunas, usaremos um valor de axis = 0:"
   ]
  },
  {
   "cell_type": "code",
   "execution_count": 108,
   "metadata": {},
   "outputs": [
    {
     "data": {
      "text/plain": [
       "array([177.  ,   6.  ,   5.54,  25.11])"
      ]
     },
     "execution_count": 108,
     "metadata": {},
     "output_type": "execute_result"
    }
   ],
   "source": [
    "taxi_5_primeiras_colunas = taxi[1:6,9:14]\n",
    "soma_colunas = taxi_5_primeiras_linhas.astype(np.float).sum(axis=0)\n",
    "soma_colunas"
   ]
  }
 ],
 "metadata": {
  "celltoolbar": "Raw Cell Format",
  "colab": {
   "name": "Primeira_Aula.ipynb",
   "provenance": []
  },
  "kernelspec": {
   "display_name": "DH",
   "language": "python",
   "name": "dh"
  },
  "language_info": {
   "codemirror_mode": {
    "name": "ipython",
    "version": 3
   },
   "file_extension": ".py",
   "mimetype": "text/x-python",
   "name": "python",
   "nbconvert_exporter": "python",
   "pygments_lexer": "ipython3",
   "version": "3.9.1"
  },
  "toc": {
   "base_numbering": 1,
   "nav_menu": {},
   "number_sections": true,
   "sideBar": true,
   "skip_h1_title": false,
   "title_cell": "Table of Contents",
   "title_sidebar": "Contents",
   "toc_cell": false,
   "toc_position": {
    "height": "calc(100% - 180px)",
    "left": "10px",
    "top": "150px",
    "width": "252px"
   },
   "toc_section_display": true,
   "toc_window_display": true
  }
 },
 "nbformat": 4,
 "nbformat_minor": 1
}
