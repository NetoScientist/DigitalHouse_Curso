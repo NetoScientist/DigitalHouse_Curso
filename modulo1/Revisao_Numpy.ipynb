{
 "cells": [
  {
   "cell_type": "markdown",
   "metadata": {
    "colab_type": "text",
    "id": "7NAhggirV2Xm"
   },
   "source": [
    "### Solução do Desafio da aula 3"
   ]
  },
  {
   "cell_type": "markdown",
   "metadata": {},
   "source": [
    "#### Desafio 2\n",
    "\n",
    "Use o dicionário de notas e retorne o nome dos alunos que irão ser aprovados, reprovados e os que vão ficar de recuperação!"
   ]
  },
  {
   "cell_type": "markdown",
   "metadata": {},
   "source": [
    "# Qualquer coisa"
   ]
  },
  {
   "cell_type": "code",
   "execution_count": 37,
   "metadata": {},
   "outputs": [],
   "source": [
    "\n",
    "notas_alunos = {\"Bruno\": 4.5, \n",
    "         \"Mauricio\": 8.7, \n",
    "         \"Jéssica\": 6.5,\n",
    "         \"Mariana\": 7.4\n",
    "        }"
   ]
  },
  {
   "cell_type": "markdown",
   "metadata": {},
   "source": [
    "Lembrando: Aprovado para nota >=7 caso contrário, Recuperação para nota >=5 caso contrario Reprovado"
   ]
  },
  {
   "cell_type": "markdown",
   "metadata": {},
   "source": [
    "### Solução 1"
   ]
  },
  {
   "cell_type": "code",
   "execution_count": 38,
   "metadata": {},
   "outputs": [],
   "source": [
    "alunos_aprovados = []\n",
    "alunos_reprovados = []\n",
    "alunos_recuperacao = []\n",
    "for i in notas_alunos.keys():\n",
    "    if notas_alunos[i] >=7:\n",
    "        alunos_aprovados.append(i)\n",
    "    elif notas_alunos[i] >= 5:\n",
    "        alunos_recuperacao.append(i)\n",
    "    else:\n",
    "        alunos_reprovados.append(i)"
   ]
  },
  {
   "cell_type": "code",
   "execution_count": 39,
   "metadata": {},
   "outputs": [
    {
     "name": "stdout",
     "output_type": "stream",
     "text": [
      "['Mauricio', 'Mariana']\n",
      "['Jéssica']\n",
      "['Bruno']\n"
     ]
    }
   ],
   "source": [
    "print(alunos_aprovados)\n",
    "print(alunos_recuperacao)\n",
    "print(alunos_reprovados)"
   ]
  },
  {
   "cell_type": "markdown",
   "metadata": {},
   "source": [
    "### Solução 2"
   ]
  },
  {
   "cell_type": "markdown",
   "metadata": {},
   "source": [
    "#### Usando lambda e filter\n",
    "* Lambda: Funções lambda nada mais são do que funções anônimas. Enquanto funções normais podem ser criada utilizando def * * como prefixo, as funções lambda são criadas utilizando lambda.\n",
    "\n",
    "* Vale notar que as funções lambda não utilizam a palavra reservada return pois o retorno dentro de lambda é implícito."
   ]
  },
  {
   "cell_type": "markdown",
   "metadata": {},
   "source": [
    "#### Entendendo como funcionam as funções Lambda\n",
    "\n",
    "* 1. Definimos a função com a palavra lambda\n",
    "* 2. Após definir a função os parâmetros devem ser inseridos\n",
    "* 3. Colocamos : após os parâmetros\n",
    "* 4. Inserimos a lógica da função\n"
   ]
  },
  {
   "cell_type": "code",
   "execution_count": 40,
   "metadata": {},
   "outputs": [
    {
     "data": {
      "text/plain": [
       "6"
      ]
     },
     "execution_count": 40,
     "metadata": {},
     "output_type": "execute_result"
    }
   ],
   "source": [
    "#Primeiro teste função lambda\n",
    "funcao_teste = lambda a,b: a*b\n",
    "\n",
    "#vou chamar a função passando os argumentos a e b\n",
    "funcao_teste(2,3)\n"
   ]
  },
  {
   "cell_type": "markdown",
   "metadata": {},
   "source": [
    "E o filter?\n",
    "* Filter: Com o nome autoexplicativo, a função filter() filtra os elementos passados na função, de acordo com a função passada como primeiro argumento.\n",
    "\n",
    "* sintaxe = filter(funcao_aplicada,lista_de_elementos)"
   ]
  },
  {
   "cell_type": "markdown",
   "metadata": {},
   "source": [
    "### Aplicando no nosso problema"
   ]
  },
  {
   "cell_type": "code",
   "execution_count": 41,
   "metadata": {},
   "outputs": [
    {
     "name": "stdout",
     "output_type": "stream",
     "text": [
      "['Mauricio', 'Mariana']\n"
     ]
    }
   ],
   "source": [
    "notas_alunos = {\"Bruno\": 4.5, \n",
    "         \"Mauricio\": 8.7, \n",
    "         \"Jéssica\": 6.5,\n",
    "         \"Mariana\": 7.4\n",
    "        }\n",
    "alunos_aprovados = []\n",
    "\n",
    "alunos_aprovados = list(filter(lambda x : notas_alunos[x] >= 7, notas_alunos.keys())) \n",
    "\n",
    "print(alunos_aprovados)\n",
    "\n",
    "# lambda alimenta as chaves do dict e compara os valores no dict para cada chave,\n",
    "#em relação aos critérios"
   ]
  },
  {
   "cell_type": "markdown",
   "metadata": {},
   "source": [
    "### Solução 3"
   ]
  },
  {
   "cell_type": "markdown",
   "metadata": {},
   "source": [
    "### Usando List Comprehensions (Compreensão de Listas) - aqui no exemplo usamos Dic Comprehensions"
   ]
  },
  {
   "cell_type": "markdown",
   "metadata": {},
   "source": [
    "* É uma forma concisa de criar e manipular listas\n",
    "\n",
    "* sintaxe: [expr for item in lista] ou seja, aplique a expressão expr em cada item da lista"
   ]
  },
  {
   "cell_type": "code",
   "execution_count": 42,
   "metadata": {},
   "outputs": [
    {
     "name": "stdout",
     "output_type": "stream",
     "text": [
      "[0, 1, 4, 9, 16, 25, 36, 49, 64, 81]\n"
     ]
    }
   ],
   "source": [
    "#Exemplo: aplique a potência de 2 em todos os itens da lista.\n",
    "lista = []\n",
    "for item in range(10):\n",
    "    lista.append(item**2)\n",
    "print(lista)"
   ]
  },
  {
   "cell_type": "code",
   "execution_count": 43,
   "metadata": {},
   "outputs": [
    {
     "name": "stdout",
     "output_type": "stream",
     "text": [
      "[0, 1, 4, 9, 16, 25, 36, 49, 64, 81]\n"
     ]
    }
   ],
   "source": [
    "#Agora reescrevendo o código com list compreenshion\n",
    "lista = [item**2 for item in range(10)]\n",
    "print(lista)"
   ]
  },
  {
   "cell_type": "markdown",
   "metadata": {},
   "source": [
    "### Aplicando no nosso problema"
   ]
  },
  {
   "cell_type": "code",
   "execution_count": 44,
   "metadata": {},
   "outputs": [
    {
     "name": "stdout",
     "output_type": "stream",
     "text": [
      "['Mauricio', 'Mariana']\n"
     ]
    }
   ],
   "source": [
    "#Dic Comprehensions\n",
    "nome_aprovados = [chave for chave,valor in notas_alunos.items() if valor >=7]\n",
    "print(nome_aprovados)"
   ]
  },
  {
   "cell_type": "markdown",
   "metadata": {
    "colab_type": "text",
    "id": "sCoHPoSJV2Xn"
   },
   "source": [
    "### > Aula - 03/02/2021<br>\n",
    "> Aula: 04 <br>\n",
    "> Módulo: 00 <br>\n",
    "> Turma: DSTN01"
   ]
  },
  {
   "cell_type": "markdown",
   "metadata": {
    "colab_type": "text",
    "id": "JrsHXZd6V2Xn"
   },
   "source": [
    "O objetivo dessa aula é introduzir a biblioteca Numpy.\n"
   ]
  },
  {
   "cell_type": "markdown",
   "metadata": {
    "colab_type": "text",
    "id": "7wFxuwqgV2Xo"
   },
   "source": [
    "**Tópicos**:\n",
    "* Numpy:\n",
    " - ndarray\n",
    " - Inicialização de Arrays Numpy e Primeiros Passos\n",
    " - Manipulação das dimensões de um array\n",
    " - Selecioando partes do array\n",
    "\n",
    "\n"
   ]
  },
  {
   "cell_type": "markdown",
   "metadata": {
    "colab_type": "text",
    "id": "86C1gSC-V2Xp"
   },
   "source": [
    "# Numpy (Parte I)"
   ]
  },
  {
   "cell_type": "markdown",
   "metadata": {},
   "source": [
    "### O que é numpy??"
   ]
  },
  {
   "cell_type": "markdown",
   "metadata": {},
   "source": [
    "O NumPy é uma poderosa biblioteca Python que é usada principalmente para realizar cálculos em Arrays Multidimensionais. O NumPy fornece um grande conjunto de funções e operações de biblioteca que ajudam os programadores a executar facilmente cálculos numéricos.\n",
    "Esses tipos de cálculos numéricos são amplamente utilizados em tarefas como:\n",
    "\n",
    "* Modelos de Machine Learning:\n",
    "* Processamento de Imagem e Computação Gráfica:\n",
    "* Tarefas matemáticas: "
   ]
  },
  {
   "cell_type": "markdown",
   "metadata": {},
   "source": [
    "### O  ndarry"
   ]
  },
  {
   "cell_type": "markdown",
   "metadata": {},
   "source": [
    "A estrutura de dados mais importante que o NumPy fornece é um objeto poderoso, um tipo de Array, chamada ndarray.<br>\n",
    "\n",
    "Esse Array NumPy é uma tabela de elementos (geralmente números), todos do mesmo tipo, indexados por uma tupla de inteiros positivos.<br>\n",
    "\n",
    "O array do módulo numpy é otimizado para grandes volumes de dados, tem uma estrutura interna compacta e realiza várias operações em paralelo. Além disso, o array numpy suporta tipos de dados não numéricos e é possível fazer operações matemáticas sobre todos os seus valores com apenas uma instrução.<br>"
   ]
  },
  {
   "cell_type": "markdown",
   "metadata": {},
   "source": [
    "### numpy.array é a função para criar um ndarray"
   ]
  },
  {
   "cell_type": "markdown",
   "metadata": {},
   "source": [
    "Os principais atributos do ndarray são:\n",
    "* os tipos de dados (dtype) \n",
    "* shape\n",
    "* size\n",
    "* ndim"
   ]
  },
  {
   "cell_type": "code",
   "execution_count": 45,
   "metadata": {
    "colab": {},
    "colab_type": "code",
    "executionInfo": {
     "elapsed": 1840,
     "status": "ok",
     "timestamp": 1600436110925,
     "user": {
      "displayName": "Thalita Chargel",
      "photoUrl": "https://lh3.googleusercontent.com/a-/AOh14Gh8PgWBiVHm13ntiUJL_lOS_3i3rnWCDF9kwk7mWQ=s64",
      "userId": "03267753700787172529"
     },
     "user_tz": 180
    },
    "id": "eWl2Ej7uV2Xs"
   },
   "outputs": [],
   "source": [
    "import numpy as np"
   ]
  },
  {
   "cell_type": "code",
   "execution_count": 46,
   "metadata": {
    "colab": {},
    "colab_type": "code",
    "executionInfo": {
     "elapsed": 1282,
     "status": "ok",
     "timestamp": 1600436355420,
     "user": {
      "displayName": "Thalita Chargel",
      "photoUrl": "https://lh3.googleusercontent.com/a-/AOh14Gh8PgWBiVHm13ntiUJL_lOS_3i3rnWCDF9kwk7mWQ=s64",
      "userId": "03267753700787172529"
     },
     "user_tz": 180
    },
    "id": "Orcb-WAOV2X0"
   },
   "outputs": [
    {
     "name": "stdout",
     "output_type": "stream",
     "text": [
      "[[ 2 23 55]\n",
      " [ 5  9 21]\n",
      " [ 8  4 11]\n",
      " [19  5  4]]\n"
     ]
    }
   ],
   "source": [
    "\n",
    "my_array = np.array(((2,23,55),  #usamos a função array do NumPy para criar uma matriz\n",
    "                    (5,9,21),\n",
    "                    (8,4,11),\n",
    "                    (19,5,4)))\n",
    "print (my_array)"
   ]
  },
  {
   "cell_type": "code",
   "execution_count": 71,
   "metadata": {
    "colab": {
     "base_uri": "https://localhost:8080/",
     "height": 51
    },
    "colab_type": "code",
    "executionInfo": {
     "elapsed": 928,
     "status": "ok",
     "timestamp": 1600436379451,
     "user": {
      "displayName": "Thalita Chargel",
      "photoUrl": "https://lh3.googleusercontent.com/a-/AOh14Gh8PgWBiVHm13ntiUJL_lOS_3i3rnWCDF9kwk7mWQ=s64",
      "userId": "03267753700787172529"
     },
     "user_tz": 180
    },
    "id": "6Eb9zuCWV2X4",
    "outputId": "f75db550-8bd3-41d7-b169-14d44f8ddc93"
   },
   "outputs": [
    {
     "data": {
      "text/plain": [
       "dtype('int32')"
      ]
     },
     "execution_count": 71,
     "metadata": {},
     "output_type": "execute_result"
    }
   ],
   "source": [
    "# Para saber o tipo de dado da matriz podemos recorrer ao atributo dtype\n",
    "my_array.dtype"
   ]
  },
  {
   "cell_type": "code",
   "execution_count": 72,
   "metadata": {
    "colab": {
     "base_uri": "https://localhost:8080/",
     "height": 34
    },
    "colab_type": "code",
    "executionInfo": {
     "elapsed": 844,
     "status": "ok",
     "timestamp": 1600436424339,
     "user": {
      "displayName": "Thalita Chargel",
      "photoUrl": "https://lh3.googleusercontent.com/a-/AOh14Gh8PgWBiVHm13ntiUJL_lOS_3i3rnWCDF9kwk7mWQ=s64",
      "userId": "03267753700787172529"
     },
     "user_tz": 180
    },
    "id": "o6j_v9hdV2X7",
    "outputId": "8445ad62-14ee-4b22-b653-76cf8979509e"
   },
   "outputs": [
    {
     "data": {
      "text/plain": [
       "(4, 4)"
      ]
     },
     "execution_count": 72,
     "metadata": {},
     "output_type": "execute_result"
    }
   ],
   "source": [
    "# para saber o formato de um array temos o atributo shape. Ele retorna uma tupla contendo o formato do array\n",
    "\n",
    "my_array.shape"
   ]
  },
  {
   "cell_type": "code",
   "execution_count": 73,
   "metadata": {
    "colab": {},
    "colab_type": "code",
    "id": "-ijQqc1uV2X_"
   },
   "outputs": [
    {
     "data": {
      "text/plain": [
       "16"
      ]
     },
     "execution_count": 73,
     "metadata": {},
     "output_type": "execute_result"
    }
   ],
   "source": [
    "\n",
    "# O atributo size retorna o número de elementos na matriz.\n",
    "\n",
    "my_array.size"
   ]
  },
  {
   "cell_type": "code",
   "execution_count": 75,
   "metadata": {
    "colab": {},
    "colab_type": "code",
    "id": "7ZG3i7rgV2YC"
   },
   "outputs": [
    {
     "data": {
      "text/plain": [
       "2"
      ]
     },
     "execution_count": 75,
     "metadata": {},
     "output_type": "execute_result"
    }
   ],
   "source": [
    "# O atributo ndim retornará o número de dimensões da matriz\n",
    "\n",
    "\n",
    "\n",
    "my_array.ndim"
   ]
  },
  {
   "cell_type": "markdown",
   "metadata": {},
   "source": [
    "##### Desafio 01 - Gere e mostre a matriz transposta da matriz_inicial: (10 min - pesquisem no google)"
   ]
  },
  {
   "cell_type": "code",
   "execution_count": 66,
   "metadata": {},
   "outputs": [
    {
     "data": {
      "text/plain": [
       "array([[ 10,   3,  70, 100],\n",
       "       [ 20,  50,  80, 110],\n",
       "       [ 30,   5,  90, 120]])"
      ]
     },
     "execution_count": 66,
     "metadata": {},
     "output_type": "execute_result"
    }
   ],
   "source": [
    "matriz_inicial =np.array([[10,    20, 30 ],\n",
    "                           [3,    50, 5  ],\n",
    "                           [70,   80, 90 ],\n",
    "                           [100, 110, 120]])\n",
    "\n",
    "# Criando uma mariz Transposta:\n",
    "\n",
    "matriz_inicial.T"
   ]
  },
  {
   "cell_type": "markdown",
   "metadata": {},
   "source": [
    "### Selecionado partes do array"
   ]
  },
  {
   "cell_type": "code",
   "execution_count": 52,
   "metadata": {
    "colab": {},
    "colab_type": "code",
    "id": "ItdL8L8eV2YH"
   },
   "outputs": [
    {
     "name": "stdout",
     "output_type": "stream",
     "text": [
      "55\n"
     ]
    }
   ],
   "source": [
    "# para selecionar elementos na matriz podemos usar a seguinte sintaxe\n",
    "\n",
    "print(my_array[0,2])"
   ]
  },
  {
   "cell_type": "code",
   "execution_count": 53,
   "metadata": {},
   "outputs": [
    {
     "name": "stdout",
     "output_type": "stream",
     "text": [
      "[ 2 23 55]\n"
     ]
    }
   ],
   "source": [
    "# selecionando apenas a primeira linha\n",
    "\n",
    "print (my_array[0,:])"
   ]
  },
  {
   "cell_type": "code",
   "execution_count": 64,
   "metadata": {},
   "outputs": [
    {
     "data": {
      "text/plain": [
       "array([93, 78, 16,  0])"
      ]
     },
     "execution_count": 64,
     "metadata": {},
     "output_type": "execute_result"
    }
   ],
   "source": [
    "# selecionando apenas a  coluna 2\n",
    "\n",
    "my_array[:, 2 ]"
   ]
  },
  {
   "cell_type": "code",
   "execution_count": 82,
   "metadata": {},
   "outputs": [
    {
     "data": {
      "text/plain": [
       "array([[0, 0, 0],\n",
       "       [0, 0, 0]])"
      ]
     },
     "execution_count": 82,
     "metadata": {},
     "output_type": "execute_result"
    }
   ],
   "source": [
    "# criando uma matriz preenchida com zeros \n",
    "\n",
    "zeros_array = np.zeros([2,3], dtype = int)\n",
    "zeros_array"
   ]
  },
  {
   "cell_type": "markdown",
   "metadata": {
    "colab_type": "text",
    "id": "DB7ch-DIV2YK"
   },
   "source": [
    "## Manipulação das dimensões de um array"
   ]
  },
  {
   "cell_type": "markdown",
   "metadata": {
    "colab_type": "text",
    "id": "ddPo00WrV2YK"
   },
   "source": [
    "Se temos um array de dimensões n x m, podemos aplicar uma reformatação, para que mude suas dimensões sem alterar os dados.\n",
    "O importante é que o produto n.m seja constante.\n",
    "\n"
   ]
  },
  {
   "cell_type": "markdown",
   "metadata": {},
   "source": [
    "Exemplo 4 </n>\n",
    "n (numeros de linhas) = 4 </n>\n",
    "m (numero de colunas) = 4 </n>\n",
    "\n",
    "n x m = 16  </n>\n",
    "Possibilidades de reformulação:  </n>\n",
    "    \n",
    "* 2*8 </n>\n",
    "* 8*2 </n>\n",
    "* 1*16 </n>\n",
    "\n",
    "    \n"
   ]
  },
  {
   "cell_type": "code",
   "execution_count": 83,
   "metadata": {
    "colab": {},
    "colab_type": "code",
    "id": "trujvE0hV2YL"
   },
   "outputs": [
    {
     "data": {
      "text/plain": [
       "array([[ 64, 112,  93,  21],\n",
       "       [  7,  26,  78, 930],\n",
       "       [ 23,  18,  16,  22],\n",
       "       [ 44,  23,   0,  19]])"
      ]
     },
     "execution_count": 83,
     "metadata": {},
     "output_type": "execute_result"
    }
   ],
   "source": [
    "\n",
    "\n",
    "my_array = np.array(((64, 112, 93, 21),\n",
    "                     (7, 26, 78, 930),\n",
    "                     (23, 18, 16, 22),\n",
    "                     (44, 23, 0, 19)))\n",
    "my_array\n"
   ]
  },
  {
   "cell_type": "code",
   "execution_count": 84,
   "metadata": {
    "colab": {},
    "colab_type": "code",
    "id": "NVriyYE3V2YO"
   },
   "outputs": [
    {
     "data": {
      "text/plain": [
       "array([[ 64, 112],\n",
       "       [ 93,  21],\n",
       "       [  7,  26],\n",
       "       [ 78, 930],\n",
       "       [ 23,  18],\n",
       "       [ 16,  22],\n",
       "       [ 44,  23],\n",
       "       [  0,  19]])"
      ]
     },
     "execution_count": 84,
     "metadata": {},
     "output_type": "execute_result"
    }
   ],
   "source": [
    "# função reshape\n",
    "my_array_reshaped = np.reshape(my_array, (8,2))\n",
    "\n",
    "my_array_reshaped"
   ]
  },
  {
   "cell_type": "code",
   "execution_count": 85,
   "metadata": {},
   "outputs": [
    {
     "data": {
      "text/plain": [
       "array([[ 64, 112,  93,  21,   7,  26,  78, 930],\n",
       "       [ 23,  18,  16,  22,  44,  23,   0,  19]])"
      ]
     },
     "execution_count": 85,
     "metadata": {},
     "output_type": "execute_result"
    }
   ],
   "source": [
    "my_array_reshaped = np.reshape(my_array, (2,8))\n",
    "my_array_reshaped"
   ]
  },
  {
   "cell_type": "code",
   "execution_count": 86,
   "metadata": {
    "colab": {},
    "colab_type": "code",
    "id": "jyCSuAoBV2YU"
   },
   "outputs": [
    {
     "data": {
      "text/plain": [
       "array([ 64, 112,  93,  21,   7,  26,  78, 930,  23,  18,  16,  22,  44,\n",
       "        23,   0,  19])"
      ]
     },
     "execution_count": 86,
     "metadata": {},
     "output_type": "execute_result"
    }
   ],
   "source": [
    "#O comando ravel distorce o array multidimensional e o transforma em um array 1D.\n",
    "uma_dimensao = my_array_reshaped.ravel()\n",
    "uma_dimensao"
   ]
  },
  {
   "cell_type": "code",
   "execution_count": 87,
   "metadata": {
    "colab": {},
    "colab_type": "code",
    "id": "Ip6dwG5SV2Ya"
   },
   "outputs": [
    {
     "name": "stdout",
     "output_type": "stream",
     "text": [
      "<class 'list'>\n"
     ]
    }
   ],
   "source": [
    "# Posso ter uma lista e transformá-la\n",
    "lista = [1,2,3]\n",
    "print(type(lista))\n",
    "# podemos definir o tipo\n"
   ]
  },
  {
   "cell_type": "code",
   "execution_count": 61,
   "metadata": {
    "colab": {},
    "colab_type": "code",
    "id": "-wDo5WJVV2Yc"
   },
   "outputs": [
    {
     "name": "stdout",
     "output_type": "stream",
     "text": [
      "[1 2 3]\n"
     ]
    }
   ],
   "source": [
    "np_array_da_lista = np.array(lista, int) \n",
    "print(np_array_da_lista)"
   ]
  },
  {
   "cell_type": "code",
   "execution_count": 62,
   "metadata": {
    "colab": {},
    "colab_type": "code",
    "id": "KShmlMXZV2Yf"
   },
   "outputs": [
    {
     "data": {
      "text/plain": [
       "numpy.ndarray"
      ]
     },
     "execution_count": 62,
     "metadata": {},
     "output_type": "execute_result"
    }
   ],
   "source": [
    "type(np_array_da_lista)"
   ]
  },
  {
   "cell_type": "markdown",
   "metadata": {
    "colab_type": "text",
    "id": "sWTQPEL_V2Y8"
   },
   "source": [
    "### Exercício:\n",
    "Print elemento por elemento (utilizando For loop) o seguinte array: <br>\n",
    "    array_exercicio = np.arraynp.array([[1,2,3],[4,5,6]])"
   ]
  },
  {
   "cell_type": "code",
   "execution_count": 63,
   "metadata": {
    "colab": {},
    "colab_type": "code",
    "id": "IBnKDmDgV2Y9"
   },
   "outputs": [],
   "source": [
    "array_exercicio = np.array([[1,2,3],[4,5,6]])\n"
   ]
  },
  {
   "cell_type": "code",
   "execution_count": 88,
   "metadata": {},
   "outputs": [
    {
     "data": {
      "text/plain": [
       "array([[1, 2, 3],\n",
       "       [4, 5, 6]])"
      ]
     },
     "execution_count": 88,
     "metadata": {},
     "output_type": "execute_result"
    }
   ],
   "source": [
    "array_exercicio\n"
   ]
  },
  {
   "cell_type": "code",
   "execution_count": 113,
   "metadata": {},
   "outputs": [
    {
     "name": "stdout",
     "output_type": "stream",
     "text": [
      "1\n",
      "2\n",
      "3\n",
      "4\n",
      "5\n",
      "6\n"
     ]
    }
   ],
   "source": [
    "for x in array_exercicio:\n",
    "    for y in x:\n",
    "        print(y)"
   ]
  },
  {
   "cell_type": "code",
   "execution_count": 115,
   "metadata": {},
   "outputs": [
    {
     "name": "stdout",
     "output_type": "stream",
     "text": [
      "1\n",
      "2\n",
      "3\n",
      "4\n",
      "5\n",
      "6\n"
     ]
    }
   ],
   "source": [
    "for x in np.nditer(array_exercicio):\n",
    "    print(x)"
   ]
  }
 ],
 "metadata": {
  "colab": {
   "name": "DSTN07 - Numpy - Parte I.ipynb",
   "provenance": []
  },
  "kernelspec": {
   "display_name": "DH",
   "language": "python",
   "name": "dh"
  },
  "language_info": {
   "codemirror_mode": {
    "name": "ipython",
    "version": 3
   },
   "file_extension": ".py",
   "mimetype": "text/x-python",
   "name": "python",
   "nbconvert_exporter": "python",
   "pygments_lexer": "ipython3",
   "version": "3.9.1"
  },
  "toc": {
   "base_numbering": 1,
   "nav_menu": {},
   "number_sections": true,
   "sideBar": true,
   "skip_h1_title": false,
   "title_cell": "Table of Contents",
   "title_sidebar": "Contents",
   "toc_cell": false,
   "toc_position": {
    "height": "calc(100% - 180px)",
    "left": "10px",
    "top": "150px",
    "width": "252px"
   },
   "toc_section_display": true,
   "toc_window_display": true
  }
 },
 "nbformat": 4,
 "nbformat_minor": 1
}
