{
 "cells": [
  {
   "cell_type": "markdown",
   "metadata": {
    "id": "1ZwHxxp60U84"
   },
   "source": [
    "# Agenda"
   ]
  },
  {
   "cell_type": "markdown",
   "metadata": {
    "id": "DOFFfl350U85"
   },
   "source": [
    "> Data: 08/02/2021<br>\n",
    "> Aula: 06 <br>\n",
    "> Módulo: 00 <br>\n"
   ]
  },
  {
   "cell_type": "markdown",
   "metadata": {
    "id": "iFtOKPFj0U8_"
   },
   "source": [
    "## Pandas (Parte I)"
   ]
  },
  {
   "cell_type": "markdown",
   "metadata": {
    "id": "Ld6HG6RyjxCh"
   },
   "source": [
    "referência: https://medium.com/data-hackers/uma-introdu%C3%A7%C3%A3o-simples-ao-pandas-1e15eea37fa1"
   ]
  },
  {
   "cell_type": "code",
   "execution_count": 3,
   "metadata": {
    "id": "C745CdA6jxCk"
   },
   "outputs": [],
   "source": [
    "import pandas as pd\n",
    "import numpy as np"
   ]
  },
  {
   "cell_type": "markdown",
   "metadata": {
    "id": "-R7OlSdWjxCm"
   },
   "source": [
    "## Series"
   ]
  },
  {
   "cell_type": "markdown",
   "metadata": {
    "id": "PX9HlqcHjxCo"
   },
   "source": [
    "Uma Series é como um array unidimensional, uma lista de valores. Toda Series possui um índice, o index, que dá rótulos a cada elemento da lista.  "
   ]
  },
  {
   "cell_type": "markdown",
   "metadata": {
    "id": "YGKcWWlujxCp"
   },
   "source": [
    "Você pode considerar um Series também como uma coluna de uma tabela"
   ]
  },
  {
   "cell_type": "markdown",
   "metadata": {
    "id": "bnLZCUr9jxCq"
   },
   "source": [
    "<img src=https://media.geeksforgeeks.org/wp-content/uploads/dataSER-1.png width=700 height=500>"
   ]
  },
  {
   "cell_type": "markdown",
   "metadata": {
    "id": "FHBEHzU1jxCs"
   },
   "source": [
    "<img src= https://miro.medium.com/max/208/1*aAVPOIPxfY4j-cMxwJ6c8A.png width=400 height=300>\n"
   ]
  },
  {
   "cell_type": "markdown",
   "metadata": {
    "id": "4w45-CgNjxCt"
   },
   "source": [
    "### Sintaxe:"
   ]
  },
  {
   "cell_type": "markdown",
   "metadata": {
    "id": "AkSi7UE7jxCu"
   },
   "source": [
    "pandas.Series(data=None, index=None, dtype=None) #index e dtype preenchimento opcional"
   ]
  },
  {
   "cell_type": "markdown",
   "metadata": {
    "id": "h51gsyWnjxCv"
   },
   "source": [
    "Abaixo criamos uma Series notas, o index desta Series é a coluna à esquerda, que vai de 0 a 4 neste caso, que o pandas criou automaticamente, já que não especificamos uma lista de rótulos."
   ]
  },
  {
   "cell_type": "code",
   "execution_count": 4,
   "metadata": {
    "colab": {
     "base_uri": "https://localhost:8080/"
    },
    "id": "pd2D64oQjxCw",
    "outputId": "bb84c84f-cd31-478c-e30b-e6f278900b2e"
   },
   "outputs": [
    {
     "data": {
      "text/plain": [
       "0     2\n",
       "1     7\n",
       "2     5\n",
       "3    10\n",
       "4     6\n",
       "dtype: int64"
      ]
     },
     "execution_count": 4,
     "metadata": {},
     "output_type": "execute_result"
    }
   ],
   "source": [
    "notas = pd.Series([2,7,5,10,6])\n",
    "notas\n"
   ]
  },
  {
   "cell_type": "markdown",
   "metadata": {
    "id": "uTe446JbjxC1"
   },
   "source": [
    "### Verificando alguns atributos de Series"
   ]
  },
  {
   "cell_type": "markdown",
   "metadata": {
    "id": "TzFkLP3JjxC1"
   },
   "source": [
    "atributo values"
   ]
  },
  {
   "cell_type": "code",
   "execution_count": 5,
   "metadata": {
    "colab": {
     "base_uri": "https://localhost:8080/"
    },
    "id": "7bPl4Cq8jxC2",
    "outputId": "e6e01b28-2c55-47f1-82f3-cc1e54160958"
   },
   "outputs": [
    {
     "data": {
      "text/plain": [
       "array([ 2,  7,  5, 10,  6], dtype=int64)"
      ]
     },
     "execution_count": 5,
     "metadata": {},
     "output_type": "execute_result"
    }
   ],
   "source": [
    "notas.values"
   ]
  },
  {
   "cell_type": "markdown",
   "metadata": {
    "id": "NuxolQyMjxC3"
   },
   "source": [
    "atributo index"
   ]
  },
  {
   "cell_type": "code",
   "execution_count": 6,
   "metadata": {
    "colab": {
     "base_uri": "https://localhost:8080/"
    },
    "id": "zMln6aFHjxC3",
    "outputId": "9410dac5-2cb2-4ca9-a092-0d43563fb04f"
   },
   "outputs": [
    {
     "data": {
      "text/plain": [
       "RangeIndex(start=0, stop=5, step=1)"
      ]
     },
     "execution_count": 6,
     "metadata": {},
     "output_type": "execute_result"
    }
   ],
   "source": [
    "notas.index"
   ]
  },
  {
   "cell_type": "markdown",
   "metadata": {
    "id": "d97fAoGMjxC4"
   },
   "source": [
    "Como a serie é um array  unidimensional, temos:"
   ]
  },
  {
   "cell_type": "code",
   "execution_count": 7,
   "metadata": {
    "id": "bEOQlTPFjxC4"
   },
   "outputs": [
    {
     "data": {
      "text/plain": [
       "1"
      ]
     },
     "execution_count": 7,
     "metadata": {},
     "output_type": "execute_result"
    }
   ],
   "source": [
    "notas.ndim"
   ]
  },
  {
   "cell_type": "markdown",
   "metadata": {
    "id": "0eF-mcERjxC5"
   },
   "source": [
    "<p style=\"font-size:20px\">Como ao criar a Series não demos um índice específico o pandas usou os inteiros positivos crescentes como padrão. Pode ser conveniente atribuirmos um índice diferente do padrão, supondo que essas sejam notas da nossa turma, poderíamos atribuir nomes ao index:</p>"
   ]
  },
  {
   "cell_type": "code",
   "execution_count": 8,
   "metadata": {
    "id": "jYSaojBYjxC5"
   },
   "outputs": [
    {
     "data": {
      "text/plain": [
       "Andreia      7\n",
       "Danielle     5\n",
       "Tony         8\n",
       "Cesar       10\n",
       "dtype: int64"
      ]
     },
     "execution_count": 8,
     "metadata": {},
     "output_type": "execute_result"
    }
   ],
   "source": [
    "notas = pd.Series([7, 5, 8, 10], index=[\"Andreia\", \"Danielle\", \"Tony\", \"Cesar\"])\n",
    "notas"
   ]
  },
  {
   "cell_type": "markdown",
   "metadata": {
    "id": "traYAC6tjxC6"
   },
   "source": [
    "O index nos ajuda para referenciar um determinado valor, ele nos permite acessar os valores pelo seu rótulo:"
   ]
  },
  {
   "cell_type": "code",
   "execution_count": 9,
   "metadata": {
    "id": "rdIqfAQbjxC6"
   },
   "outputs": [
    {
     "data": {
      "text/plain": [
       "7"
      ]
     },
     "execution_count": 9,
     "metadata": {},
     "output_type": "execute_result"
    }
   ],
   "source": [
    "notas[\"Andreia\"]"
   ]
  },
  {
   "cell_type": "markdown",
   "metadata": {
    "id": "s0u7IHLZjxC7"
   },
   "source": [
    "Outra facilidade proporcionada pela estrutura são seus métodos que fornecem informações estatísticas sobre os valores, como média .mean()"
   ]
  },
  {
   "cell_type": "code",
   "execution_count": 10,
   "metadata": {
    "id": "Xy_hRShFjxC8"
   },
   "outputs": [
    {
     "name": "stdout",
     "output_type": "stream",
     "text": [
      "Média: \n",
      "7.5\n"
     ]
    }
   ],
   "source": [
    "print(\"Média: \")\n",
    "print(notas.mean())"
   ]
  },
  {
   "cell_type": "code",
   "execution_count": 11,
   "metadata": {
    "colab": {
     "base_uri": "https://localhost:8080/"
    },
    "id": "QnfncVdWjxC8",
    "outputId": "65bcb2ed-2cce-4688-d2e2-ee99317a3575"
   },
   "outputs": [
    {
     "name": "stdout",
     "output_type": "stream",
     "text": [
      "valor máximo: \n",
      "10\n"
     ]
    }
   ],
   "source": [
    "print(\"valor máximo: \")\n",
    "print(notas.max())"
   ]
  },
  {
   "cell_type": "code",
   "execution_count": 12,
   "metadata": {
    "colab": {
     "base_uri": "https://localhost:8080/"
    },
    "id": "YDIpYkRYjxC9",
    "outputId": "aa8d2554-f6e1-4243-b141-65ffb1fe3f0d"
   },
   "outputs": [
    {
     "name": "stdout",
     "output_type": "stream",
     "text": [
      "valor mínimo buscando o (index)  - nome: \n"
     ]
    },
    {
     "data": {
      "text/plain": [
       "'Danielle'"
      ]
     },
     "execution_count": 12,
     "metadata": {},
     "output_type": "execute_result"
    }
   ],
   "source": [
    "print(\"valor mínimo buscando o (index)  - nome: \")\n",
    "\n",
    "notas.idxmin()"
   ]
  },
  {
   "cell_type": "markdown",
   "metadata": {
    "id": "cgYly4y9jxC-"
   },
   "source": [
    "## O que é um DataFrame ?"
   ]
  },
  {
   "cell_type": "markdown",
   "metadata": {
    "id": "y_p9jPQmjxC-"
   },
   "source": [
    "É simplesmente um conjunto de Series. Trata-se de uma estrutura de dados de 2 dimensões — colunas e linhas — que transforma os dados em uma  tabela"
   ]
  },
  {
   "cell_type": "markdown",
   "metadata": {
    "id": "tDl1vESojxC_"
   },
   "source": [
    "Um DataFrame é uma estrutura bidimensional de dados, como uma planilha. A"
   ]
  },
  {
   "cell_type": "markdown",
   "metadata": {
    "id": "aTeUV145jxC_"
   },
   "source": [
    "* Cada coluna do nosso dataFrame é uma série!"
   ]
  },
  {
   "cell_type": "markdown",
   "metadata": {
    "id": "NEMR82F5jxDA"
   },
   "source": [
    "<img src=https://media.geeksforgeeks.org/wp-content/uploads/finallpandas.png width=700 height=500>"
   ]
  },
  {
   "cell_type": "markdown",
   "metadata": {
    "id": "mWem6HMz0U9B"
   },
   "source": [
    "## Inicialização de um Data Frame - df"
   ]
  },
  {
   "cell_type": "markdown",
   "metadata": {
    "id": "NLcYPq2h0U9C"
   },
   "source": [
    "Para inicializar um data fame utilizamos a sintaxe abaixo:"
   ]
  },
  {
   "cell_type": "markdown",
   "metadata": {
    "id": "GOkYeml_0U9C"
   },
   "source": [
    "pandas.DataFrame(```data```, ```index```, ```columns```, ```dtype```)\n"
   ]
  },
  {
   "cell_type": "markdown",
   "metadata": {
    "id": "urKbpp9W0U9D"
   },
   "source": [
    "* ```data```: numpy array, listas, series\n",
    "* ```index```:  É opcional\n",
    "* ```columns```: Também é opcional \n",
    "* ```dtype```: tipo de dado das colunas -  também é opcional "
   ]
  },
  {
   "cell_type": "markdown",
   "metadata": {
    "id": "3fYsybNPjxDF"
   },
   "source": [
    "#### Vamos consultar  documentação - atributos e métodos!"
   ]
  },
  {
   "cell_type": "code",
   "execution_count": 13,
   "metadata": {
    "id": "_viYQ2vJ0U9D"
   },
   "outputs": [],
   "source": [
    "# Inicializando um dataframe vazio\n",
    "df_vazio = pd.DataFrame()"
   ]
  },
  {
   "cell_type": "code",
   "execution_count": 14,
   "metadata": {
    "colab": {
     "base_uri": "https://localhost:8080/",
     "height": 32
    },
    "id": "K_3nSIRB0U9M",
    "outputId": "f6d90d45-ac0c-455f-d1a1-4e113f93b016"
   },
   "outputs": [
    {
     "data": {
      "text/html": [
       "<div>\n",
       "<style scoped>\n",
       "    .dataframe tbody tr th:only-of-type {\n",
       "        vertical-align: middle;\n",
       "    }\n",
       "\n",
       "    .dataframe tbody tr th {\n",
       "        vertical-align: top;\n",
       "    }\n",
       "\n",
       "    .dataframe thead th {\n",
       "        text-align: right;\n",
       "    }\n",
       "</style>\n",
       "<table border=\"1\" class=\"dataframe\">\n",
       "  <thead>\n",
       "    <tr style=\"text-align: right;\">\n",
       "      <th></th>\n",
       "    </tr>\n",
       "  </thead>\n",
       "  <tbody>\n",
       "  </tbody>\n",
       "</table>\n",
       "</div>"
      ],
      "text/plain": [
       "Empty DataFrame\n",
       "Columns: []\n",
       "Index: []"
      ]
     },
     "execution_count": 14,
     "metadata": {},
     "output_type": "execute_result"
    }
   ],
   "source": [
    "df_vazio"
   ]
  },
  {
   "cell_type": "markdown",
   "metadata": {
    "id": "NyGAP_lP0U9Q"
   },
   "source": [
    "Podemos iniciar um data frame a partir de diversas outras estrutura, tais como:\n",
    "* Listas\n",
    "* Dicionários\n",
    "* Arrays\n",
    "* Series"
   ]
  },
  {
   "cell_type": "markdown",
   "metadata": {
    "id": "geEaLZN70U9Q"
   },
   "source": [
    "### * Data Frame a partir de uma lista"
   ]
  },
  {
   "cell_type": "code",
   "execution_count": 15,
   "metadata": {
    "id": "zuZ9s4KJ0U9R"
   },
   "outputs": [],
   "source": [
    "lista = [1,2,3]\n",
    "columns = ['turmas_DS']\n",
    "\n",
    "#ou\n",
    "df_lista = pd.DataFrame(data=lista, columns=['turmas_DS'])\n"
   ]
  },
  {
   "cell_type": "code",
   "execution_count": 16,
   "metadata": {
    "colab": {
     "base_uri": "https://localhost:8080/",
     "height": 143
    },
    "id": "eyMdol0AyYQW",
    "outputId": "f0a83513-5ab5-48a6-d338-44ce8cc336ed"
   },
   "outputs": [
    {
     "data": {
      "text/html": [
       "<div>\n",
       "<style scoped>\n",
       "    .dataframe tbody tr th:only-of-type {\n",
       "        vertical-align: middle;\n",
       "    }\n",
       "\n",
       "    .dataframe tbody tr th {\n",
       "        vertical-align: top;\n",
       "    }\n",
       "\n",
       "    .dataframe thead th {\n",
       "        text-align: right;\n",
       "    }\n",
       "</style>\n",
       "<table border=\"1\" class=\"dataframe\">\n",
       "  <thead>\n",
       "    <tr style=\"text-align: right;\">\n",
       "      <th></th>\n",
       "      <th>turmas_DS</th>\n",
       "    </tr>\n",
       "  </thead>\n",
       "  <tbody>\n",
       "    <tr>\n",
       "      <th>0</th>\n",
       "      <td>1</td>\n",
       "    </tr>\n",
       "    <tr>\n",
       "      <th>1</th>\n",
       "      <td>2</td>\n",
       "    </tr>\n",
       "    <tr>\n",
       "      <th>2</th>\n",
       "      <td>3</td>\n",
       "    </tr>\n",
       "  </tbody>\n",
       "</table>\n",
       "</div>"
      ],
      "text/plain": [
       "   turmas_DS\n",
       "0          1\n",
       "1          2\n",
       "2          3"
      ]
     },
     "execution_count": 16,
     "metadata": {},
     "output_type": "execute_result"
    }
   ],
   "source": [
    "df_lista"
   ]
  },
  {
   "cell_type": "markdown",
   "metadata": {
    "id": "4xHHuWXc0U9Y"
   },
   "source": [
    "### * Data Frame a partir de um dicionário\n"
   ]
  },
  {
   "cell_type": "code",
   "execution_count": 17,
   "metadata": {
    "colab": {
     "base_uri": "https://localhost:8080/",
     "height": 112
    },
    "id": "idClPvjv0U9Y",
    "outputId": "30044086-db59-4f67-a03d-229961e30fe2"
   },
   "outputs": [
    {
     "data": {
      "text/html": [
       "<div>\n",
       "<style scoped>\n",
       "    .dataframe tbody tr th:only-of-type {\n",
       "        vertical-align: middle;\n",
       "    }\n",
       "\n",
       "    .dataframe tbody tr th {\n",
       "        vertical-align: top;\n",
       "    }\n",
       "\n",
       "    .dataframe thead th {\n",
       "        text-align: right;\n",
       "    }\n",
       "</style>\n",
       "<table border=\"1\" class=\"dataframe\">\n",
       "  <thead>\n",
       "    <tr style=\"text-align: right;\">\n",
       "      <th></th>\n",
       "      <th>nota_a</th>\n",
       "      <th>nota_b</th>\n",
       "    </tr>\n",
       "  </thead>\n",
       "  <tbody>\n",
       "    <tr>\n",
       "      <th>0</th>\n",
       "      <td>1</td>\n",
       "      <td>3</td>\n",
       "    </tr>\n",
       "    <tr>\n",
       "      <th>1</th>\n",
       "      <td>2</td>\n",
       "      <td>4</td>\n",
       "    </tr>\n",
       "  </tbody>\n",
       "</table>\n",
       "</div>"
      ],
      "text/plain": [
       "   nota_a  nota_b\n",
       "0       1       3\n",
       "1       2       4"
      ]
     },
     "execution_count": 17,
     "metadata": {},
     "output_type": "execute_result"
    }
   ],
   "source": [
    "\n",
    "dicionario = {'nota_a': [1, 2], 'nota_b': [3, 4]}\n",
    "\n",
    "teste = pd.DataFrame(dicionario)\n",
    "teste"
   ]
  },
  {
   "cell_type": "code",
   "execution_count": 18,
   "metadata": {
    "colab": {
     "base_uri": "https://localhost:8080/"
    },
    "id": "SroJknW2zF-J",
    "outputId": "9f442352-7f6b-4261-afd6-280d318b2bf1"
   },
   "outputs": [
    {
     "data": {
      "text/plain": [
       "{'nota_a': [1, 2], 'nota_b': [3, 4]}"
      ]
     },
     "execution_count": 18,
     "metadata": {},
     "output_type": "execute_result"
    }
   ],
   "source": [
    "dicionario"
   ]
  },
  {
   "cell_type": "markdown",
   "metadata": {
    "id": "U2bdUzgmjxDJ"
   },
   "source": [
    "Nesse caso  as chaves do dicionário definem as colunas do dataframe"
   ]
  },
  {
   "cell_type": "markdown",
   "metadata": {
    "id": "dX8l0Pto0U9l"
   },
   "source": [
    "### * DataFrame a partir de Series"
   ]
  },
  {
   "cell_type": "code",
   "execution_count": 19,
   "metadata": {
    "colab": {
     "base_uri": "https://localhost:8080/"
    },
    "id": "EyehEBB80U9s",
    "outputId": "4b825c3f-0a36-4be8-dd4a-72988ad44467"
   },
   "outputs": [
    {
     "name": "stdout",
     "output_type": "stream",
     "text": [
      "0    1\n",
      "1    2\n",
      "2    3\n",
      "3    4\n",
      "dtype: int64\n"
     ]
    }
   ],
   "source": [
    "series = pd.Series([1,2,3,4])\n",
    "print(series)"
   ]
  },
  {
   "cell_type": "code",
   "execution_count": 20,
   "metadata": {
    "colab": {
     "base_uri": "https://localhost:8080/",
     "height": 175
    },
    "id": "2RInS-uQjxDL",
    "outputId": "7e7146b2-d7d8-4cc3-8c93-bf5879b7c7ff"
   },
   "outputs": [
    {
     "data": {
      "text/html": [
       "<div>\n",
       "<style scoped>\n",
       "    .dataframe tbody tr th:only-of-type {\n",
       "        vertical-align: middle;\n",
       "    }\n",
       "\n",
       "    .dataframe tbody tr th {\n",
       "        vertical-align: top;\n",
       "    }\n",
       "\n",
       "    .dataframe thead th {\n",
       "        text-align: right;\n",
       "    }\n",
       "</style>\n",
       "<table border=\"1\" class=\"dataframe\">\n",
       "  <thead>\n",
       "    <tr style=\"text-align: right;\">\n",
       "      <th></th>\n",
       "      <th>0</th>\n",
       "    </tr>\n",
       "  </thead>\n",
       "  <tbody>\n",
       "    <tr>\n",
       "      <th>0</th>\n",
       "      <td>1</td>\n",
       "    </tr>\n",
       "    <tr>\n",
       "      <th>1</th>\n",
       "      <td>2</td>\n",
       "    </tr>\n",
       "    <tr>\n",
       "      <th>2</th>\n",
       "      <td>3</td>\n",
       "    </tr>\n",
       "    <tr>\n",
       "      <th>3</th>\n",
       "      <td>4</td>\n",
       "    </tr>\n",
       "  </tbody>\n",
       "</table>\n",
       "</div>"
      ],
      "text/plain": [
       "   0\n",
       "0  1\n",
       "1  2\n",
       "2  3\n",
       "3  4"
      ]
     },
     "execution_count": 20,
     "metadata": {},
     "output_type": "execute_result"
    }
   ],
   "source": [
    "df_series = pd.DataFrame(series)\n",
    "df_series"
   ]
  },
  {
   "cell_type": "markdown",
   "metadata": {
    "id": "WqQPL_5EjxDM"
   },
   "source": [
    "### Exercício"
   ]
  },
  {
   "cell_type": "markdown",
   "metadata": {
    "id": "HfCRSzxMjxDM"
   },
   "source": [
    "Crie um dataframe a partir do array abaixo"
   ]
  },
  {
   "cell_type": "code",
   "execution_count": 21,
   "metadata": {
    "colab": {
     "base_uri": "https://localhost:8080/"
    },
    "id": "OKnZhierjxDN",
    "outputId": "2088aa95-49f1-46d2-c863-2306b42e05c2"
   },
   "outputs": [
    {
     "name": "stdout",
     "output_type": "stream",
     "text": [
      "[0 1 2 3 4 5 6 7 8 9]\n"
     ]
    }
   ],
   "source": [
    "arr = np.arange(10)\n",
    "print(arr)"
   ]
  },
  {
   "cell_type": "code",
   "execution_count": 51,
   "metadata": {
    "colab": {
     "base_uri": "https://localhost:8080/",
     "height": 363
    },
    "id": "D9t4Dm3cjxDO",
    "outputId": "7af01013-64bd-4201-b696-0fa149e23f7c"
   },
   "outputs": [
    {
     "data": {
      "text/html": [
       "<div>\n",
       "<style scoped>\n",
       "    .dataframe tbody tr th:only-of-type {\n",
       "        vertical-align: middle;\n",
       "    }\n",
       "\n",
       "    .dataframe tbody tr th {\n",
       "        vertical-align: top;\n",
       "    }\n",
       "\n",
       "    .dataframe thead th {\n",
       "        text-align: right;\n",
       "    }\n",
       "</style>\n",
       "<table border=\"1\" class=\"dataframe\">\n",
       "  <thead>\n",
       "    <tr style=\"text-align: right;\">\n",
       "      <th></th>\n",
       "      <th>0</th>\n",
       "    </tr>\n",
       "  </thead>\n",
       "  <tbody>\n",
       "    <tr>\n",
       "      <th>0</th>\n",
       "      <td>0</td>\n",
       "    </tr>\n",
       "    <tr>\n",
       "      <th>1</th>\n",
       "      <td>1</td>\n",
       "    </tr>\n",
       "    <tr>\n",
       "      <th>2</th>\n",
       "      <td>2</td>\n",
       "    </tr>\n",
       "    <tr>\n",
       "      <th>3</th>\n",
       "      <td>3</td>\n",
       "    </tr>\n",
       "    <tr>\n",
       "      <th>4</th>\n",
       "      <td>4</td>\n",
       "    </tr>\n",
       "    <tr>\n",
       "      <th>5</th>\n",
       "      <td>5</td>\n",
       "    </tr>\n",
       "    <tr>\n",
       "      <th>6</th>\n",
       "      <td>6</td>\n",
       "    </tr>\n",
       "    <tr>\n",
       "      <th>7</th>\n",
       "      <td>7</td>\n",
       "    </tr>\n",
       "    <tr>\n",
       "      <th>8</th>\n",
       "      <td>8</td>\n",
       "    </tr>\n",
       "    <tr>\n",
       "      <th>9</th>\n",
       "      <td>9</td>\n",
       "    </tr>\n",
       "  </tbody>\n",
       "</table>\n",
       "</div>"
      ],
      "text/plain": [
       "   0\n",
       "0  0\n",
       "1  1\n",
       "2  2\n",
       "3  3\n",
       "4  4\n",
       "5  5\n",
       "6  6\n",
       "7  7\n",
       "8  8\n",
       "9  9"
      ]
     },
     "execution_count": 51,
     "metadata": {},
     "output_type": "execute_result"
    }
   ],
   "source": [
    "df = pd.DataFrame(arr)\n",
    "df"
   ]
  },
  {
   "cell_type": "markdown",
   "metadata": {
    "id": "vQboEyG7jxDO"
   },
   "source": [
    "### Abaixo criaremos um DataFrame que possui valores de diferentes tipos"
   ]
  },
  {
   "cell_type": "code",
   "execution_count": 59,
   "metadata": {
    "id": "6RQbT3wXjxDP"
   },
   "outputs": [],
   "source": [
    "df = pd.DataFrame([[3,2,8.5],[4,7,7.5],[2,5,9.5],[1,10,7.5],[4,6,8.0]],\n",
    "     index=['Andreia', 'Daniele', 'Michel','Tony','Cezar'],\n",
    "     columns=['Faltas','Prova','PI'])"
   ]
  },
  {
   "cell_type": "code",
   "execution_count": 60,
   "metadata": {
    "colab": {
     "base_uri": "https://localhost:8080/",
     "height": 206
    },
    "id": "ZrX5yxurjxDP",
    "outputId": "93ec8df3-4d6e-46a4-f2b6-7927e61e03ba"
   },
   "outputs": [
    {
     "data": {
      "text/html": [
       "<div>\n",
       "<style scoped>\n",
       "    .dataframe tbody tr th:only-of-type {\n",
       "        vertical-align: middle;\n",
       "    }\n",
       "\n",
       "    .dataframe tbody tr th {\n",
       "        vertical-align: top;\n",
       "    }\n",
       "\n",
       "    .dataframe thead th {\n",
       "        text-align: right;\n",
       "    }\n",
       "</style>\n",
       "<table border=\"1\" class=\"dataframe\">\n",
       "  <thead>\n",
       "    <tr style=\"text-align: right;\">\n",
       "      <th></th>\n",
       "      <th>Faltas</th>\n",
       "      <th>Prova</th>\n",
       "      <th>PI</th>\n",
       "    </tr>\n",
       "  </thead>\n",
       "  <tbody>\n",
       "    <tr>\n",
       "      <th>Andreia</th>\n",
       "      <td>3</td>\n",
       "      <td>2</td>\n",
       "      <td>8.5</td>\n",
       "    </tr>\n",
       "    <tr>\n",
       "      <th>Daniele</th>\n",
       "      <td>4</td>\n",
       "      <td>7</td>\n",
       "      <td>7.5</td>\n",
       "    </tr>\n",
       "    <tr>\n",
       "      <th>Michel</th>\n",
       "      <td>2</td>\n",
       "      <td>5</td>\n",
       "      <td>9.5</td>\n",
       "    </tr>\n",
       "    <tr>\n",
       "      <th>Tony</th>\n",
       "      <td>1</td>\n",
       "      <td>10</td>\n",
       "      <td>7.5</td>\n",
       "    </tr>\n",
       "    <tr>\n",
       "      <th>Cezar</th>\n",
       "      <td>4</td>\n",
       "      <td>6</td>\n",
       "      <td>8.0</td>\n",
       "    </tr>\n",
       "  </tbody>\n",
       "</table>\n",
       "</div>"
      ],
      "text/plain": [
       "         Faltas  Prova   PI\n",
       "Andreia       3      2  8.5\n",
       "Daniele       4      7  7.5\n",
       "Michel        2      5  9.5\n",
       "Tony          1     10  7.5\n",
       "Cezar         4      6  8.0"
      ]
     },
     "execution_count": 60,
     "metadata": {},
     "output_type": "execute_result"
    }
   ],
   "source": [
    "df"
   ]
  },
  {
   "cell_type": "markdown",
   "metadata": {
    "id": "-FEuavHTjxDQ"
   },
   "source": [
    "### Verificando o tipo de dado das colunas do nosso df"
   ]
  },
  {
   "cell_type": "code",
   "execution_count": 25,
   "metadata": {
    "colab": {
     "base_uri": "https://localhost:8080/"
    },
    "id": "hJ9pu68QjxDR",
    "outputId": "47886774-83a7-4e59-b13b-48f0666e1620"
   },
   "outputs": [
    {
     "data": {
      "text/plain": [
       "dtype('float64')"
      ]
     },
     "execution_count": 25,
     "metadata": {},
     "output_type": "execute_result"
    }
   ],
   "source": [
    "df.PI.dtypes"
   ]
  },
  {
   "cell_type": "markdown",
   "metadata": {
    "id": "pm6dfHisjxDS"
   },
   "source": [
    "### Verificando as colunas que nosso df possui"
   ]
  },
  {
   "cell_type": "code",
   "execution_count": 26,
   "metadata": {
    "colab": {
     "base_uri": "https://localhost:8080/"
    },
    "id": "r9YvtbR7jxDT",
    "outputId": "e9d9c8f2-0ff3-4c14-e1a7-90f0d3355103"
   },
   "outputs": [
    {
     "data": {
      "text/plain": [
       "array(['Faltas', 'Prova', 'PI'], dtype=object)"
      ]
     },
     "execution_count": 26,
     "metadata": {},
     "output_type": "execute_result"
    }
   ],
   "source": [
    "df.columns.values"
   ]
  },
  {
   "cell_type": "markdown",
   "metadata": {
    "id": "wnwk-CBtjxDU"
   },
   "source": [
    "### Acessando os valores das colunas"
   ]
  },
  {
   "cell_type": "code",
   "execution_count": 27,
   "metadata": {
    "colab": {
     "base_uri": "https://localhost:8080/"
    },
    "id": "q-bp_t2-jxDV",
    "outputId": "054e39ff-d9a0-492f-908d-cbd014b6e115"
   },
   "outputs": [
    {
     "data": {
      "text/plain": [
       "Andreia    3\n",
       "Daniele    4\n",
       "Michel     2\n",
       "Tony       1\n",
       "Cezar      4\n",
       "Name: Faltas, dtype: int64"
      ]
     },
     "execution_count": 27,
     "metadata": {},
     "output_type": "execute_result"
    }
   ],
   "source": [
    "df.Faltas"
   ]
  },
  {
   "cell_type": "markdown",
   "metadata": {
    "id": "1hpkchQ0jxDV"
   },
   "source": [
    "obs.: colchete ou:"
   ]
  },
  {
   "cell_type": "code",
   "execution_count": 28,
   "metadata": {
    "id": "zvTKpdh9jxDW"
   },
   "outputs": [
    {
     "data": {
      "text/plain": [
       "Andreia    3\n",
       "Daniele    4\n",
       "Michel     2\n",
       "Tony       1\n",
       "Cezar      4\n",
       "Name: Faltas, dtype: int64"
      ]
     },
     "execution_count": 28,
     "metadata": {},
     "output_type": "execute_result"
    }
   ],
   "source": [
    "df['Faltas']"
   ]
  },
  {
   "cell_type": "markdown",
   "metadata": {
    "id": "x5P9XaPFjxDW"
   },
   "source": [
    "### Verificando  resumidamente a disposição estatística dos dados numéricos:"
   ]
  },
  {
   "cell_type": "code",
   "execution_count": 52,
   "metadata": {
    "id": "39mt0MXnjxDW",
    "scrolled": true
   },
   "outputs": [
    {
     "data": {
      "text/html": [
       "<div>\n",
       "<style scoped>\n",
       "    .dataframe tbody tr th:only-of-type {\n",
       "        vertical-align: middle;\n",
       "    }\n",
       "\n",
       "    .dataframe tbody tr th {\n",
       "        vertical-align: top;\n",
       "    }\n",
       "\n",
       "    .dataframe thead th {\n",
       "        text-align: right;\n",
       "    }\n",
       "</style>\n",
       "<table border=\"1\" class=\"dataframe\">\n",
       "  <thead>\n",
       "    <tr style=\"text-align: right;\">\n",
       "      <th></th>\n",
       "      <th>0</th>\n",
       "    </tr>\n",
       "  </thead>\n",
       "  <tbody>\n",
       "    <tr>\n",
       "      <th>count</th>\n",
       "      <td>10.00000</td>\n",
       "    </tr>\n",
       "    <tr>\n",
       "      <th>mean</th>\n",
       "      <td>4.50000</td>\n",
       "    </tr>\n",
       "    <tr>\n",
       "      <th>std</th>\n",
       "      <td>3.02765</td>\n",
       "    </tr>\n",
       "    <tr>\n",
       "      <th>min</th>\n",
       "      <td>0.00000</td>\n",
       "    </tr>\n",
       "    <tr>\n",
       "      <th>25%</th>\n",
       "      <td>2.25000</td>\n",
       "    </tr>\n",
       "    <tr>\n",
       "      <th>50%</th>\n",
       "      <td>4.50000</td>\n",
       "    </tr>\n",
       "    <tr>\n",
       "      <th>75%</th>\n",
       "      <td>6.75000</td>\n",
       "    </tr>\n",
       "    <tr>\n",
       "      <th>max</th>\n",
       "      <td>9.00000</td>\n",
       "    </tr>\n",
       "  </tbody>\n",
       "</table>\n",
       "</div>"
      ],
      "text/plain": [
       "              0\n",
       "count  10.00000\n",
       "mean    4.50000\n",
       "std     3.02765\n",
       "min     0.00000\n",
       "25%     2.25000\n",
       "50%     4.50000\n",
       "75%     6.75000\n",
       "max     9.00000"
      ]
     },
     "execution_count": 52,
     "metadata": {},
     "output_type": "execute_result"
    }
   ],
   "source": [
    "df.describe()"
   ]
  },
  {
   "cell_type": "markdown",
   "metadata": {
    "id": "FSIaxLh2jxDX"
   },
   "source": [
    "## Verificando quantidade de linhas e colunas do DataFrame"
   ]
  },
  {
   "cell_type": "code",
   "execution_count": 29,
   "metadata": {
    "colab": {
     "base_uri": "https://localhost:8080/"
    },
    "id": "QtJqU0tQjxDX",
    "outputId": "b2e23504-9bdd-4c3b-8dcc-ed58f82426a5"
   },
   "outputs": [
    {
     "data": {
      "text/plain": [
       "3"
      ]
     },
     "execution_count": 29,
     "metadata": {},
     "output_type": "execute_result"
    }
   ],
   "source": [
    "len(df.columns)"
   ]
  },
  {
   "cell_type": "markdown",
   "metadata": {
    "id": "HhUh3x_ajxDY"
   },
   "source": [
    "## Contagem de dados não-nulos"
   ]
  },
  {
   "cell_type": "code",
   "execution_count": 30,
   "metadata": {
    "colab": {
     "base_uri": "https://localhost:8080/"
    },
    "id": "D6aHDFM7jxDY",
    "outputId": "790d26af-2c74-47f0-c5f4-b41ea5a3de9f"
   },
   "outputs": [
    {
     "data": {
      "text/plain": [
       "0"
      ]
     },
     "execution_count": 30,
     "metadata": {},
     "output_type": "execute_result"
    }
   ],
   "source": [
    "df.isna().sum().sum()"
   ]
  },
  {
   "cell_type": "markdown",
   "metadata": {
    "id": "s927WiGojxDY"
   },
   "source": [
    "### Visualizar Primeiras linhas do df"
   ]
  },
  {
   "cell_type": "code",
   "execution_count": 53,
   "metadata": {
    "id": "5RpkgBjBjxDZ"
   },
   "outputs": [
    {
     "data": {
      "text/html": [
       "<div>\n",
       "<style scoped>\n",
       "    .dataframe tbody tr th:only-of-type {\n",
       "        vertical-align: middle;\n",
       "    }\n",
       "\n",
       "    .dataframe tbody tr th {\n",
       "        vertical-align: top;\n",
       "    }\n",
       "\n",
       "    .dataframe thead th {\n",
       "        text-align: right;\n",
       "    }\n",
       "</style>\n",
       "<table border=\"1\" class=\"dataframe\">\n",
       "  <thead>\n",
       "    <tr style=\"text-align: right;\">\n",
       "      <th></th>\n",
       "      <th>0</th>\n",
       "    </tr>\n",
       "  </thead>\n",
       "  <tbody>\n",
       "    <tr>\n",
       "      <th>0</th>\n",
       "      <td>0</td>\n",
       "    </tr>\n",
       "    <tr>\n",
       "      <th>1</th>\n",
       "      <td>1</td>\n",
       "    </tr>\n",
       "    <tr>\n",
       "      <th>2</th>\n",
       "      <td>2</td>\n",
       "    </tr>\n",
       "    <tr>\n",
       "      <th>3</th>\n",
       "      <td>3</td>\n",
       "    </tr>\n",
       "    <tr>\n",
       "      <th>4</th>\n",
       "      <td>4</td>\n",
       "    </tr>\n",
       "  </tbody>\n",
       "</table>\n",
       "</div>"
      ],
      "text/plain": [
       "   0\n",
       "0  0\n",
       "1  1\n",
       "2  2\n",
       "3  3\n",
       "4  4"
      ]
     },
     "execution_count": 53,
     "metadata": {},
     "output_type": "execute_result"
    }
   ],
   "source": [
    "df.head()"
   ]
  },
  {
   "cell_type": "markdown",
   "metadata": {
    "id": "psLttBpxjxDZ"
   },
   "source": [
    "### Similarmente existe o .tail(), que exibe por padrão as últimas 5 linhas do DataFrame:\n"
   ]
  },
  {
   "cell_type": "code",
   "execution_count": 54,
   "metadata": {
    "id": "OAI5IgNQjxDa"
   },
   "outputs": [
    {
     "data": {
      "text/html": [
       "<div>\n",
       "<style scoped>\n",
       "    .dataframe tbody tr th:only-of-type {\n",
       "        vertical-align: middle;\n",
       "    }\n",
       "\n",
       "    .dataframe tbody tr th {\n",
       "        vertical-align: top;\n",
       "    }\n",
       "\n",
       "    .dataframe thead th {\n",
       "        text-align: right;\n",
       "    }\n",
       "</style>\n",
       "<table border=\"1\" class=\"dataframe\">\n",
       "  <thead>\n",
       "    <tr style=\"text-align: right;\">\n",
       "      <th></th>\n",
       "      <th>0</th>\n",
       "    </tr>\n",
       "  </thead>\n",
       "  <tbody>\n",
       "    <tr>\n",
       "      <th>5</th>\n",
       "      <td>5</td>\n",
       "    </tr>\n",
       "    <tr>\n",
       "      <th>6</th>\n",
       "      <td>6</td>\n",
       "    </tr>\n",
       "    <tr>\n",
       "      <th>7</th>\n",
       "      <td>7</td>\n",
       "    </tr>\n",
       "    <tr>\n",
       "      <th>8</th>\n",
       "      <td>8</td>\n",
       "    </tr>\n",
       "    <tr>\n",
       "      <th>9</th>\n",
       "      <td>9</td>\n",
       "    </tr>\n",
       "  </tbody>\n",
       "</table>\n",
       "</div>"
      ],
      "text/plain": [
       "   0\n",
       "5  5\n",
       "6  6\n",
       "7  7\n",
       "8  8\n",
       "9  9"
      ]
     },
     "execution_count": 54,
     "metadata": {},
     "output_type": "execute_result"
    }
   ],
   "source": [
    "df.tail()"
   ]
  },
  {
   "cell_type": "markdown",
   "metadata": {
    "id": "i0qr_vsjjxDa"
   },
   "source": [
    "### Renomeando colunas"
   ]
  },
  {
   "cell_type": "code",
   "execution_count": 61,
   "metadata": {
    "id": "8TCOeuOMjxDa"
   },
   "outputs": [
    {
     "data": {
      "text/html": [
       "<div>\n",
       "<style scoped>\n",
       "    .dataframe tbody tr th:only-of-type {\n",
       "        vertical-align: middle;\n",
       "    }\n",
       "\n",
       "    .dataframe tbody tr th {\n",
       "        vertical-align: top;\n",
       "    }\n",
       "\n",
       "    .dataframe thead th {\n",
       "        text-align: right;\n",
       "    }\n",
       "</style>\n",
       "<table border=\"1\" class=\"dataframe\">\n",
       "  <thead>\n",
       "    <tr style=\"text-align: right;\">\n",
       "      <th></th>\n",
       "      <th>Faltas</th>\n",
       "      <th>Prova</th>\n",
       "      <th>Projeto Itegrador</th>\n",
       "    </tr>\n",
       "  </thead>\n",
       "  <tbody>\n",
       "    <tr>\n",
       "      <th>Andreia</th>\n",
       "      <td>3</td>\n",
       "      <td>2</td>\n",
       "      <td>8.5</td>\n",
       "    </tr>\n",
       "    <tr>\n",
       "      <th>Daniele</th>\n",
       "      <td>4</td>\n",
       "      <td>7</td>\n",
       "      <td>7.5</td>\n",
       "    </tr>\n",
       "    <tr>\n",
       "      <th>Michel</th>\n",
       "      <td>2</td>\n",
       "      <td>5</td>\n",
       "      <td>9.5</td>\n",
       "    </tr>\n",
       "    <tr>\n",
       "      <th>Tony</th>\n",
       "      <td>1</td>\n",
       "      <td>10</td>\n",
       "      <td>7.5</td>\n",
       "    </tr>\n",
       "    <tr>\n",
       "      <th>Cezar</th>\n",
       "      <td>4</td>\n",
       "      <td>6</td>\n",
       "      <td>8.0</td>\n",
       "    </tr>\n",
       "  </tbody>\n",
       "</table>\n",
       "</div>"
      ],
      "text/plain": [
       "         Faltas  Prova  Projeto Itegrador\n",
       "Andreia       3      2                8.5\n",
       "Daniele       4      7                7.5\n",
       "Michel        2      5                9.5\n",
       "Tony          1     10                7.5\n",
       "Cezar         4      6                8.0"
      ]
     },
     "execution_count": 61,
     "metadata": {},
     "output_type": "execute_result"
    }
   ],
   "source": [
    "df = df.rename({'PI': 'Projeto Itegrador'}, axis = 1)\n",
    "df"
   ]
  },
  {
   "cell_type": "code",
   "execution_count": null,
   "metadata": {
    "id": "mhkisOwrjxDb"
   },
   "outputs": [],
   "source": []
  },
  {
   "cell_type": "markdown",
   "metadata": {
    "id": "9Xi_IsGnjxDb"
   },
   "source": [
    "### Selecionando uma célula específica -  loc e iloc"
   ]
  },
  {
   "cell_type": "markdown",
   "metadata": {
    "id": "_syEheI5jxDb"
   },
   "source": [
    "### LOC"
   ]
  },
  {
   "cell_type": "markdown",
   "metadata": {
    "id": "jt9VeRWSjxDc"
   },
   "source": [
    "sintaxe: df.loc[linha,coluna]"
   ]
  },
  {
   "cell_type": "code",
   "execution_count": 31,
   "metadata": {
    "colab": {
     "base_uri": "https://localhost:8080/"
    },
    "id": "vtPknWC6jxDc",
    "outputId": "2920c76c-d9df-4f3b-aae9-01087b14df62"
   },
   "outputs": [
    {
     "data": {
      "text/plain": [
       "Faltas     1.0\n",
       "Prova     10.0\n",
       "PI         7.5\n",
       "Name: Tony, dtype: float64"
      ]
     },
     "execution_count": 31,
     "metadata": {},
     "output_type": "execute_result"
    }
   ],
   "source": [
    "df.loc['Tony']"
   ]
  },
  {
   "cell_type": "code",
   "execution_count": 32,
   "metadata": {
    "colab": {
     "base_uri": "https://localhost:8080/",
     "height": 143
    },
    "id": "jOdyYAY_jxDd",
    "outputId": "62f1fb46-23df-462b-b4f1-3ffcf97939ae"
   },
   "outputs": [
    {
     "data": {
      "text/html": [
       "<div>\n",
       "<style scoped>\n",
       "    .dataframe tbody tr th:only-of-type {\n",
       "        vertical-align: middle;\n",
       "    }\n",
       "\n",
       "    .dataframe tbody tr th {\n",
       "        vertical-align: top;\n",
       "    }\n",
       "\n",
       "    .dataframe thead th {\n",
       "        text-align: right;\n",
       "    }\n",
       "</style>\n",
       "<table border=\"1\" class=\"dataframe\">\n",
       "  <thead>\n",
       "    <tr style=\"text-align: right;\">\n",
       "      <th></th>\n",
       "      <th>Faltas</th>\n",
       "      <th>Prova</th>\n",
       "      <th>PI</th>\n",
       "    </tr>\n",
       "  </thead>\n",
       "  <tbody>\n",
       "    <tr>\n",
       "      <th>Tony</th>\n",
       "      <td>1</td>\n",
       "      <td>10</td>\n",
       "      <td>7.5</td>\n",
       "    </tr>\n",
       "    <tr>\n",
       "      <th>Michel</th>\n",
       "      <td>2</td>\n",
       "      <td>5</td>\n",
       "      <td>9.5</td>\n",
       "    </tr>\n",
       "    <tr>\n",
       "      <th>Andreia</th>\n",
       "      <td>3</td>\n",
       "      <td>2</td>\n",
       "      <td>8.5</td>\n",
       "    </tr>\n",
       "  </tbody>\n",
       "</table>\n",
       "</div>"
      ],
      "text/plain": [
       "         Faltas  Prova   PI\n",
       "Tony          1     10  7.5\n",
       "Michel        2      5  9.5\n",
       "Andreia       3      2  8.5"
      ]
     },
     "execution_count": 32,
     "metadata": {},
     "output_type": "execute_result"
    }
   ],
   "source": [
    "#ou com um array de índices\n",
    "df.loc[['Tony', 'Michel', 'Andreia']]"
   ]
  },
  {
   "cell_type": "markdown",
   "metadata": {
    "id": "DbOlv9KCjxDd"
   },
   "source": [
    "### Selecionar usando alguma condição"
   ]
  },
  {
   "cell_type": "markdown",
   "metadata": {
    "id": "Z9RVDYXnjxDe"
   },
   "source": [
    "Exemplo: nota da prova >=7"
   ]
  },
  {
   "cell_type": "code",
   "execution_count": 33,
   "metadata": {
    "colab": {
     "base_uri": "https://localhost:8080/",
     "height": 112
    },
    "id": "4CYWfLlOjxDe",
    "outputId": "39a0fae1-56c1-4d15-96b3-967009654b47"
   },
   "outputs": [
    {
     "data": {
      "text/html": [
       "<div>\n",
       "<style scoped>\n",
       "    .dataframe tbody tr th:only-of-type {\n",
       "        vertical-align: middle;\n",
       "    }\n",
       "\n",
       "    .dataframe tbody tr th {\n",
       "        vertical-align: top;\n",
       "    }\n",
       "\n",
       "    .dataframe thead th {\n",
       "        text-align: right;\n",
       "    }\n",
       "</style>\n",
       "<table border=\"1\" class=\"dataframe\">\n",
       "  <thead>\n",
       "    <tr style=\"text-align: right;\">\n",
       "      <th></th>\n",
       "      <th>Faltas</th>\n",
       "      <th>Prova</th>\n",
       "      <th>PI</th>\n",
       "    </tr>\n",
       "  </thead>\n",
       "  <tbody>\n",
       "    <tr>\n",
       "      <th>Daniele</th>\n",
       "      <td>4</td>\n",
       "      <td>7</td>\n",
       "      <td>7.5</td>\n",
       "    </tr>\n",
       "    <tr>\n",
       "      <th>Tony</th>\n",
       "      <td>1</td>\n",
       "      <td>10</td>\n",
       "      <td>7.5</td>\n",
       "    </tr>\n",
       "  </tbody>\n",
       "</table>\n",
       "</div>"
      ],
      "text/plain": [
       "         Faltas  Prova   PI\n",
       "Daniele       4      7  7.5\n",
       "Tony          1     10  7.5"
      ]
     },
     "execution_count": 33,
     "metadata": {},
     "output_type": "execute_result"
    }
   ],
   "source": [
    "df[df['Prova'] >= 7.0]"
   ]
  },
  {
   "cell_type": "code",
   "execution_count": 34,
   "metadata": {
    "id": "Z16H4zWujxDf"
   },
   "outputs": [],
   "source": [
    "#mais condições"
   ]
  },
  {
   "cell_type": "code",
   "execution_count": 63,
   "metadata": {
    "id": "K5eFQzP5jxDg"
   },
   "outputs": [
    {
     "data": {
      "text/html": [
       "<div>\n",
       "<style scoped>\n",
       "    .dataframe tbody tr th:only-of-type {\n",
       "        vertical-align: middle;\n",
       "    }\n",
       "\n",
       "    .dataframe tbody tr th {\n",
       "        vertical-align: top;\n",
       "    }\n",
       "\n",
       "    .dataframe thead th {\n",
       "        text-align: right;\n",
       "    }\n",
       "</style>\n",
       "<table border=\"1\" class=\"dataframe\">\n",
       "  <thead>\n",
       "    <tr style=\"text-align: right;\">\n",
       "      <th></th>\n",
       "      <th>Faltas</th>\n",
       "      <th>Prova</th>\n",
       "      <th>Projeto Itegrador</th>\n",
       "    </tr>\n",
       "  </thead>\n",
       "  <tbody>\n",
       "    <tr>\n",
       "      <th>Tony</th>\n",
       "      <td>1</td>\n",
       "      <td>10</td>\n",
       "      <td>7.5</td>\n",
       "    </tr>\n",
       "  </tbody>\n",
       "</table>\n",
       "</div>"
      ],
      "text/plain": [
       "      Faltas  Prova  Projeto Itegrador\n",
       "Tony       1     10                7.5"
      ]
     },
     "execution_count": 63,
     "metadata": {},
     "output_type": "execute_result"
    }
   ],
   "source": [
    "#outra forma: condição e loc\n",
    "df.loc[(df['Prova']>=7) & (df['Faltas']<= 3)]"
   ]
  },
  {
   "cell_type": "code",
   "execution_count": 36,
   "metadata": {
    "colab": {
     "base_uri": "https://localhost:8080/",
     "height": 81
    },
    "id": "rG7vgircjxDg",
    "outputId": "b002d850-91c6-41e2-d7be-0ffea92c3beb"
   },
   "outputs": [
    {
     "data": {
      "text/html": [
       "<div>\n",
       "<style scoped>\n",
       "    .dataframe tbody tr th:only-of-type {\n",
       "        vertical-align: middle;\n",
       "    }\n",
       "\n",
       "    .dataframe tbody tr th {\n",
       "        vertical-align: top;\n",
       "    }\n",
       "\n",
       "    .dataframe thead th {\n",
       "        text-align: right;\n",
       "    }\n",
       "</style>\n",
       "<table border=\"1\" class=\"dataframe\">\n",
       "  <thead>\n",
       "    <tr style=\"text-align: right;\">\n",
       "      <th></th>\n",
       "      <th>Faltas</th>\n",
       "      <th>Prova</th>\n",
       "      <th>PI</th>\n",
       "    </tr>\n",
       "  </thead>\n",
       "  <tbody>\n",
       "    <tr>\n",
       "      <th>Tony</th>\n",
       "      <td>1</td>\n",
       "      <td>10</td>\n",
       "      <td>7.5</td>\n",
       "    </tr>\n",
       "  </tbody>\n",
       "</table>\n",
       "</div>"
      ],
      "text/plain": [
       "      Faltas  Prova   PI\n",
       "Tony       1     10  7.5"
      ]
     },
     "execution_count": 36,
     "metadata": {},
     "output_type": "execute_result"
    }
   ],
   "source": [
    "df[(df.Prova >= 7) & (df.Faltas <= 3)]"
   ]
  },
  {
   "cell_type": "code",
   "execution_count": 66,
   "metadata": {
    "id": "WDanD6s4jxDh"
   },
   "outputs": [
    {
     "data": {
      "text/html": [
       "<div>\n",
       "<style scoped>\n",
       "    .dataframe tbody tr th:only-of-type {\n",
       "        vertical-align: middle;\n",
       "    }\n",
       "\n",
       "    .dataframe tbody tr th {\n",
       "        vertical-align: top;\n",
       "    }\n",
       "\n",
       "    .dataframe thead th {\n",
       "        text-align: right;\n",
       "    }\n",
       "</style>\n",
       "<table border=\"1\" class=\"dataframe\">\n",
       "  <thead>\n",
       "    <tr style=\"text-align: right;\">\n",
       "      <th></th>\n",
       "      <th>Faltas</th>\n",
       "      <th>Prova</th>\n",
       "      <th>Projeto Itegrador</th>\n",
       "    </tr>\n",
       "  </thead>\n",
       "  <tbody>\n",
       "    <tr>\n",
       "      <th>Andreia</th>\n",
       "      <td>3</td>\n",
       "      <td>2</td>\n",
       "      <td>8.5</td>\n",
       "    </tr>\n",
       "    <tr>\n",
       "      <th>Daniele</th>\n",
       "      <td>4</td>\n",
       "      <td>7</td>\n",
       "      <td>7.5</td>\n",
       "    </tr>\n",
       "    <tr>\n",
       "      <th>Michel</th>\n",
       "      <td>2</td>\n",
       "      <td>5</td>\n",
       "      <td>9.5</td>\n",
       "    </tr>\n",
       "  </tbody>\n",
       "</table>\n",
       "</div>"
      ],
      "text/plain": [
       "         Faltas  Prova  Projeto Itegrador\n",
       "Andreia       3      2                8.5\n",
       "Daniele       4      7                7.5\n",
       "Michel        2      5                9.5"
      ]
     },
     "execution_count": 66,
     "metadata": {},
     "output_type": "execute_result"
    }
   ],
   "source": [
    "#usando intervalos para as linhas\n",
    "df.loc['Andreia':'Michel']"
   ]
  },
  {
   "cell_type": "markdown",
   "metadata": {
    "id": "vLSC4yfwjxDi"
   },
   "source": [
    "## ILOC"
   ]
  },
  {
   "cell_type": "markdown",
   "metadata": {
    "id": "bZUOzHR2jxDj"
   },
   "source": [
    "sintaxe: df.iloc[linha, coluna]"
   ]
  },
  {
   "cell_type": "markdown",
   "metadata": {
    "id": "OPF_zZRDjxDk"
   },
   "source": [
    "Resumidamente: iloc seleciona linhas e colunas por números"
   ]
  },
  {
   "cell_type": "code",
   "execution_count": 67,
   "metadata": {
    "id": "QxgpddP8jxDk"
   },
   "outputs": [
    {
     "data": {
      "text/plain": [
       "Faltas               4.0\n",
       "Prova                7.0\n",
       "Projeto Itegrador    7.5\n",
       "Name: Daniele, dtype: float64"
      ]
     },
     "execution_count": 67,
     "metadata": {},
     "output_type": "execute_result"
    }
   ],
   "source": [
    "df.iloc[1]"
   ]
  },
  {
   "cell_type": "code",
   "execution_count": 38,
   "metadata": {
    "colab": {
     "base_uri": "https://localhost:8080/"
    },
    "id": "QUH1bh4qjxDl",
    "outputId": "53a39339-e982-4a69-8845-8ca486da76f6"
   },
   "outputs": [
    {
     "data": {
      "text/plain": [
       "Faltas    3.0\n",
       "Prova     2.0\n",
       "PI        8.5\n",
       "Name: Andreia, dtype: float64"
      ]
     },
     "execution_count": 38,
     "metadata": {},
     "output_type": "execute_result"
    }
   ],
   "source": [
    "# Selecionado a primeira linha do dataset\n",
    "df.iloc[0]"
   ]
  },
  {
   "cell_type": "code",
   "execution_count": 68,
   "metadata": {
    "colab": {
     "base_uri": "https://localhost:8080/"
    },
    "id": "3_BvJ6pkjxDm",
    "outputId": "dc161ad6-2597-4c52-93e1-78ee8e604538"
   },
   "outputs": [
    {
     "data": {
      "text/plain": [
       "Faltas               4.0\n",
       "Prova                6.0\n",
       "Projeto Itegrador    8.0\n",
       "Name: Cezar, dtype: float64"
      ]
     },
     "execution_count": 68,
     "metadata": {},
     "output_type": "execute_result"
    }
   ],
   "source": [
    " # Selecionando a última linha\n",
    " df.iloc[-1]"
   ]
  },
  {
   "cell_type": "code",
   "execution_count": 69,
   "metadata": {
    "colab": {
     "base_uri": "https://localhost:8080/"
    },
    "id": "6yJVJPwnjxDm",
    "outputId": "c3043dfb-8968-4886-a6df-5b52c5b3ffc7"
   },
   "outputs": [
    {
     "data": {
      "text/plain": [
       "Andreia    3\n",
       "Daniele    4\n",
       "Michel     2\n",
       "Tony       1\n",
       "Cezar      4\n",
       "Name: Faltas, dtype: int64"
      ]
     },
     "execution_count": 69,
     "metadata": {},
     "output_type": "execute_result"
    }
   ],
   "source": [
    "# Colunas:\n",
    "# Todos os dados da primeira coluna do dataset\n",
    "df.iloc[:,0]"
   ]
  },
  {
   "cell_type": "markdown",
   "metadata": {
    "id": "0XLrGXejjxDn"
   },
   "source": [
    "#### Acessando as duas primeiras linhas do df"
   ]
  },
  {
   "cell_type": "code",
   "execution_count": 41,
   "metadata": {
    "colab": {
     "base_uri": "https://localhost:8080/",
     "height": 112
    },
    "id": "2CIaK7k6jxDn",
    "outputId": "1ac6e654-70a6-45ba-c52c-8f9d54ab2618"
   },
   "outputs": [
    {
     "data": {
      "text/html": [
       "<div>\n",
       "<style scoped>\n",
       "    .dataframe tbody tr th:only-of-type {\n",
       "        vertical-align: middle;\n",
       "    }\n",
       "\n",
       "    .dataframe tbody tr th {\n",
       "        vertical-align: top;\n",
       "    }\n",
       "\n",
       "    .dataframe thead th {\n",
       "        text-align: right;\n",
       "    }\n",
       "</style>\n",
       "<table border=\"1\" class=\"dataframe\">\n",
       "  <thead>\n",
       "    <tr style=\"text-align: right;\">\n",
       "      <th></th>\n",
       "      <th>Faltas</th>\n",
       "      <th>Prova</th>\n",
       "      <th>PI</th>\n",
       "    </tr>\n",
       "  </thead>\n",
       "  <tbody>\n",
       "    <tr>\n",
       "      <th>Andreia</th>\n",
       "      <td>3</td>\n",
       "      <td>2</td>\n",
       "      <td>8.5</td>\n",
       "    </tr>\n",
       "    <tr>\n",
       "      <th>Daniele</th>\n",
       "      <td>4</td>\n",
       "      <td>7</td>\n",
       "      <td>7.5</td>\n",
       "    </tr>\n",
       "  </tbody>\n",
       "</table>\n",
       "</div>"
      ],
      "text/plain": [
       "         Faltas  Prova   PI\n",
       "Andreia       3      2  8.5\n",
       "Daniele       4      7  7.5"
      ]
     },
     "execution_count": 41,
     "metadata": {},
     "output_type": "execute_result"
    }
   ],
   "source": [
    "df.iloc[[0,1]]#atenção ao colchete"
   ]
  },
  {
   "cell_type": "code",
   "execution_count": 42,
   "metadata": {
    "colab": {
     "base_uri": "https://localhost:8080/"
    },
    "id": "XJ6mMmiPjxDo",
    "outputId": "fd41ae63-c193-4c42-c117-9bf3589cc13f"
   },
   "outputs": [
    {
     "data": {
      "text/plain": [
       "Andreia    2\n",
       "Daniele    7\n",
       "Name: Prova, dtype: int64"
      ]
     },
     "execution_count": 42,
     "metadata": {},
     "output_type": "execute_result"
    }
   ],
   "source": [
    "df.iloc[[0,1],1]# agora sim, após a vírgula pedimos a coluna 1"
   ]
  },
  {
   "cell_type": "markdown",
   "metadata": {
    "id": "1WbaT3DjjxDp"
   },
   "source": [
    "### Quando usar loc ou iloc?"
   ]
  },
  {
   "cell_type": "markdown",
   "metadata": {
    "id": "N8hHT4FYjxDp"
   },
   "source": [
    "* loc:  obtém linhas (ou colunas) com rótulos específicos do índice.\n",
    "* iloc obtém linhas (ou colunas) em posições específicas no índice (portanto, são necessários números inteiros).\n",
    "\n",
    "A utilização de ambos recursos é útil, porem loc se mostra mais versátil, pois podemos selecionar colunas pela nomenclatura delas o que torna o trabalho mais fácil;\n",
    "\n"
   ]
  },
  {
   "cell_type": "markdown",
   "metadata": {
    "id": "2cuqjKKZjxDq"
   },
   "source": [
    "# Exercícios"
   ]
  },
  {
   "cell_type": "markdown",
   "metadata": {
    "id": "kLr3wVmWjxDq"
   },
   "source": [
    "### Usando o dataframe abaixo faça o que que se pede:\n"
   ]
  },
  {
   "cell_type": "code",
   "execution_count": 98,
   "metadata": {
    "id": "MlNOi2_QjxDr"
   },
   "outputs": [],
   "source": [
    "df_exercicio = pd.DataFrame([[3,4,2], [8.5,7.5,7.5], [2,7,10]],\n",
    "     index=[\"Andreia\", \"Daniele\", \"Michel\"],\n",
    "     columns=['Faltas','PI', 'Prova'])"
   ]
  },
  {
   "cell_type": "code",
   "execution_count": 79,
   "metadata": {
    "colab": {
     "base_uri": "https://localhost:8080/",
     "height": 143
    },
    "id": "eLt8NIfDjxDr",
    "outputId": "02ad3c4f-c878-4c6e-f0f5-2101cd22b28d"
   },
   "outputs": [
    {
     "data": {
      "text/html": [
       "<div>\n",
       "<style scoped>\n",
       "    .dataframe tbody tr th:only-of-type {\n",
       "        vertical-align: middle;\n",
       "    }\n",
       "\n",
       "    .dataframe tbody tr th {\n",
       "        vertical-align: top;\n",
       "    }\n",
       "\n",
       "    .dataframe thead th {\n",
       "        text-align: right;\n",
       "    }\n",
       "</style>\n",
       "<table border=\"1\" class=\"dataframe\">\n",
       "  <thead>\n",
       "    <tr style=\"text-align: right;\">\n",
       "      <th></th>\n",
       "      <th>Faltas</th>\n",
       "      <th>PI</th>\n",
       "      <th>Prova</th>\n",
       "    </tr>\n",
       "  </thead>\n",
       "  <tbody>\n",
       "    <tr>\n",
       "      <th>Andreia</th>\n",
       "      <td>3.0</td>\n",
       "      <td>4.0</td>\n",
       "      <td>2.0</td>\n",
       "    </tr>\n",
       "    <tr>\n",
       "      <th>Daniele</th>\n",
       "      <td>8.5</td>\n",
       "      <td>7.5</td>\n",
       "      <td>7.5</td>\n",
       "    </tr>\n",
       "    <tr>\n",
       "      <th>Michel</th>\n",
       "      <td>2.0</td>\n",
       "      <td>7.0</td>\n",
       "      <td>10.0</td>\n",
       "    </tr>\n",
       "  </tbody>\n",
       "</table>\n",
       "</div>"
      ],
      "text/plain": [
       "         Faltas   PI  Prova\n",
       "Andreia     3.0  4.0    2.0\n",
       "Daniele     8.5  7.5    7.5\n",
       "Michel      2.0  7.0   10.0"
      ]
     },
     "execution_count": 79,
     "metadata": {},
     "output_type": "execute_result"
    }
   ],
   "source": [
    "df_exercicio"
   ]
  },
  {
   "cell_type": "markdown",
   "metadata": {
    "id": "iRfii5KPjxDs"
   },
   "source": [
    "### 1. Mostre  a quantidade faltas e a nota do PI  das alunas Andreia e Daniele "
   ]
  },
  {
   "cell_type": "code",
   "execution_count": 80,
   "metadata": {
    "id": "is0qrMWdjxDt"
   },
   "outputs": [
    {
     "data": {
      "text/plain": [
       "Andreia    2\n",
       "Daniele    7\n",
       "Name: Prova, dtype: int64"
      ]
     },
     "execution_count": 80,
     "metadata": {},
     "output_type": "execute_result"
    }
   ],
   "source": [
    "df.iloc[[0,1],1]"
   ]
  },
  {
   "cell_type": "markdown",
   "metadata": {
    "id": "zPuS_EERjxDt"
   },
   "source": [
    "### Mostre a linha referente ao(s) alunos(as) aprovados(as). \n",
    "Considerar: \n",
    "* Prova >= 7,\n",
    "* PI >= 7 e \n",
    "* Faltas <= 2"
   ]
  },
  {
   "cell_type": "code",
   "execution_count": 84,
   "metadata": {
    "id": "6N1_Jbo7jxDu"
   },
   "outputs": [
    {
     "data": {
      "text/html": [
       "<div>\n",
       "<style scoped>\n",
       "    .dataframe tbody tr th:only-of-type {\n",
       "        vertical-align: middle;\n",
       "    }\n",
       "\n",
       "    .dataframe tbody tr th {\n",
       "        vertical-align: top;\n",
       "    }\n",
       "\n",
       "    .dataframe thead th {\n",
       "        text-align: right;\n",
       "    }\n",
       "</style>\n",
       "<table border=\"1\" class=\"dataframe\">\n",
       "  <thead>\n",
       "    <tr style=\"text-align: right;\">\n",
       "      <th></th>\n",
       "      <th>Faltas</th>\n",
       "      <th>PI</th>\n",
       "      <th>Prova</th>\n",
       "    </tr>\n",
       "  </thead>\n",
       "  <tbody>\n",
       "    <tr>\n",
       "      <th>Michel</th>\n",
       "      <td>2.0</td>\n",
       "      <td>7.0</td>\n",
       "      <td>10.0</td>\n",
       "    </tr>\n",
       "  </tbody>\n",
       "</table>\n",
       "</div>"
      ],
      "text/plain": [
       "        Faltas   PI  Prova\n",
       "Michel     2.0  7.0   10.0"
      ]
     },
     "execution_count": 84,
     "metadata": {},
     "output_type": "execute_result"
    }
   ],
   "source": [
    "df_exercicio.loc[(df_exercicio['Prova']>= 7) & (df_exercicio['PI']>= 7) & (df_exercicio['Faltas'] <= 2)]"
   ]
  },
  {
   "cell_type": "markdown",
   "metadata": {
    "id": "3Efd6vqYjxDu"
   },
   "source": [
    "# Para pesquisar"
   ]
  },
  {
   "cell_type": "markdown",
   "metadata": {
    "id": "igptdPjkjxDv"
   },
   "source": [
    "### Crie uma nova coluna com o calculo da média das duas notas: Prova e PI "
   ]
  },
  {
   "cell_type": "markdown",
   "metadata": {
    "id": "bpVo1I_PjxDw"
   },
   "source": [
    "### FAZER JUNTO!"
   ]
  },
  {
   "cell_type": "code",
   "execution_count": 45,
   "metadata": {
    "id": "oxMz5DAbjxDx"
   },
   "outputs": [],
   "source": [
    " #documentação axis{0 or ‘index’, 1 or ‘columns’}, default 0\n",
    "    \n"
   ]
  },
  {
   "cell_type": "code",
   "execution_count": 99,
   "metadata": {
    "id": "_c5lc9ERjxDy"
   },
   "outputs": [],
   "source": [
    "df_exercicio['Média'] = df_exercicio[['Prova', 'PI']].mean(axis=1)"
   ]
  },
  {
   "cell_type": "code",
   "execution_count": 102,
   "metadata": {
    "id": "1r3dbP1MjxDz"
   },
   "outputs": [
    {
     "data": {
      "text/html": [
       "<div>\n",
       "<style scoped>\n",
       "    .dataframe tbody tr th:only-of-type {\n",
       "        vertical-align: middle;\n",
       "    }\n",
       "\n",
       "    .dataframe tbody tr th {\n",
       "        vertical-align: top;\n",
       "    }\n",
       "\n",
       "    .dataframe thead th {\n",
       "        text-align: right;\n",
       "    }\n",
       "</style>\n",
       "<table border=\"1\" class=\"dataframe\">\n",
       "  <thead>\n",
       "    <tr style=\"text-align: right;\">\n",
       "      <th></th>\n",
       "      <th>Faltas</th>\n",
       "      <th>PI</th>\n",
       "      <th>Prova</th>\n",
       "      <th>Média</th>\n",
       "    </tr>\n",
       "  </thead>\n",
       "  <tbody>\n",
       "    <tr>\n",
       "      <th>Andreia</th>\n",
       "      <td>3.0</td>\n",
       "      <td>4.0</td>\n",
       "      <td>2.0</td>\n",
       "      <td>3.0</td>\n",
       "    </tr>\n",
       "    <tr>\n",
       "      <th>Daniele</th>\n",
       "      <td>8.5</td>\n",
       "      <td>7.5</td>\n",
       "      <td>7.5</td>\n",
       "      <td>7.5</td>\n",
       "    </tr>\n",
       "    <tr>\n",
       "      <th>Michel</th>\n",
       "      <td>2.0</td>\n",
       "      <td>7.0</td>\n",
       "      <td>10.0</td>\n",
       "      <td>8.5</td>\n",
       "    </tr>\n",
       "  </tbody>\n",
       "</table>\n",
       "</div>"
      ],
      "text/plain": [
       "         Faltas   PI  Prova  Média\n",
       "Andreia     3.0  4.0    2.0    3.0\n",
       "Daniele     8.5  7.5    7.5    7.5\n",
       "Michel      2.0  7.0   10.0    8.5"
      ]
     },
     "execution_count": 102,
     "metadata": {},
     "output_type": "execute_result"
    }
   ],
   "source": [
    "df_exercicio"
   ]
  },
  {
   "cell_type": "markdown",
   "metadata": {
    "id": "gel6CZMtjxD0"
   },
   "source": [
    "### FAZER SOZINHO!"
   ]
  },
  {
   "cell_type": "markdown",
   "metadata": {
    "id": "cMSGD-CbjxD0"
   },
   "source": [
    "Agora, com a coluna 'Média' crie uma nova coluna chamada 'Resultado Final' informando: 'Aprovado', 'Recuperacao' o 'Reprovado'. Considerar:\n",
    "* Se Média >=8 'Aprovado' \n",
    "* Se Média >=7 'Recuperação'\n",
    "* Caso contrário: 'Reprovado' "
   ]
  },
  {
   "cell_type": "code",
   "execution_count": 94,
   "metadata": {
    "id": "te8TXGAIjxD1"
   },
   "outputs": [],
   "source": [
    " #DICA: uma das formas para iterar sobre dataframes é o ‘iterrows()’ \n",
    "   \n",
    "for index, x in df_exercicio.iterrows():\n",
    "    if x['Média'] >= 8:\n",
    "        df_exercicio.loc[index, 'Restultado Final'] = 'Aprovado'\n",
    "    elif x['Média'] >= 7:\n",
    "        df_exercicio.loc[index, 'Restultado Final'] = 'Recuperação'\n",
    "    else:\n",
    "        df_exercicio.loc[index, 'Restultado Final'] = 'Reprovado'"
   ]
  },
  {
   "cell_type": "code",
   "execution_count": 95,
   "metadata": {
    "id": "LdWHa7IJjxD1"
   },
   "outputs": [
    {
     "data": {
      "text/html": [
       "<div>\n",
       "<style scoped>\n",
       "    .dataframe tbody tr th:only-of-type {\n",
       "        vertical-align: middle;\n",
       "    }\n",
       "\n",
       "    .dataframe tbody tr th {\n",
       "        vertical-align: top;\n",
       "    }\n",
       "\n",
       "    .dataframe thead th {\n",
       "        text-align: right;\n",
       "    }\n",
       "</style>\n",
       "<table border=\"1\" class=\"dataframe\">\n",
       "  <thead>\n",
       "    <tr style=\"text-align: right;\">\n",
       "      <th></th>\n",
       "      <th>Faltas</th>\n",
       "      <th>PI</th>\n",
       "      <th>Prova</th>\n",
       "      <th>Média</th>\n",
       "      <th>Restultado Final</th>\n",
       "    </tr>\n",
       "  </thead>\n",
       "  <tbody>\n",
       "    <tr>\n",
       "      <th>Andreia</th>\n",
       "      <td>3.0</td>\n",
       "      <td>4.0</td>\n",
       "      <td>2.0</td>\n",
       "      <td>3.0</td>\n",
       "      <td>Reprovado</td>\n",
       "    </tr>\n",
       "    <tr>\n",
       "      <th>Daniele</th>\n",
       "      <td>8.5</td>\n",
       "      <td>7.5</td>\n",
       "      <td>7.5</td>\n",
       "      <td>7.5</td>\n",
       "      <td>Recuperação</td>\n",
       "    </tr>\n",
       "    <tr>\n",
       "      <th>Michel</th>\n",
       "      <td>2.0</td>\n",
       "      <td>7.0</td>\n",
       "      <td>10.0</td>\n",
       "      <td>8.5</td>\n",
       "      <td>Aprovado</td>\n",
       "    </tr>\n",
       "  </tbody>\n",
       "</table>\n",
       "</div>"
      ],
      "text/plain": [
       "         Faltas   PI  Prova  Média Restultado Final\n",
       "Andreia     3.0  4.0    2.0    3.0        Reprovado\n",
       "Daniele     8.5  7.5    7.5    7.5      Recuperação\n",
       "Michel      2.0  7.0   10.0    8.5         Aprovado"
      ]
     },
     "execution_count": 95,
     "metadata": {},
     "output_type": "execute_result"
    }
   ],
   "source": [
    "df_exercicio"
   ]
  },
  {
   "cell_type": "code",
   "execution_count": 112,
   "metadata": {
    "id": "HGsULOD4jxD1",
    "scrolled": false
   },
   "outputs": [
    {
     "data": {
      "text/html": [
       "<div>\n",
       "<style scoped>\n",
       "    .dataframe tbody tr th:only-of-type {\n",
       "        vertical-align: middle;\n",
       "    }\n",
       "\n",
       "    .dataframe tbody tr th {\n",
       "        vertical-align: top;\n",
       "    }\n",
       "\n",
       "    .dataframe thead th {\n",
       "        text-align: right;\n",
       "    }\n",
       "</style>\n",
       "<table border=\"1\" class=\"dataframe\">\n",
       "  <thead>\n",
       "    <tr style=\"text-align: right;\">\n",
       "      <th></th>\n",
       "      <th>Faltas</th>\n",
       "      <th>PI</th>\n",
       "      <th>Prova</th>\n",
       "      <th>Média</th>\n",
       "      <th>Resultado Final</th>\n",
       "    </tr>\n",
       "  </thead>\n",
       "  <tbody>\n",
       "    <tr>\n",
       "      <th>Andreia</th>\n",
       "      <td>3.0</td>\n",
       "      <td>4.0</td>\n",
       "      <td>2.0</td>\n",
       "      <td>3.0</td>\n",
       "      <td>Reprovado</td>\n",
       "    </tr>\n",
       "    <tr>\n",
       "      <th>Daniele</th>\n",
       "      <td>8.5</td>\n",
       "      <td>7.5</td>\n",
       "      <td>7.5</td>\n",
       "      <td>7.5</td>\n",
       "      <td>Recuperacao</td>\n",
       "    </tr>\n",
       "    <tr>\n",
       "      <th>Michel</th>\n",
       "      <td>2.0</td>\n",
       "      <td>7.0</td>\n",
       "      <td>10.0</td>\n",
       "      <td>8.5</td>\n",
       "      <td>Aprovado</td>\n",
       "    </tr>\n",
       "  </tbody>\n",
       "</table>\n",
       "</div>"
      ],
      "text/plain": [
       "         Faltas   PI  Prova  Média Resultado Final\n",
       "Andreia     3.0  4.0    2.0    3.0       Reprovado\n",
       "Daniele     8.5  7.5    7.5    7.5     Recuperacao\n",
       "Michel      2.0  7.0   10.0    8.5        Aprovado"
      ]
     },
     "execution_count": 112,
     "metadata": {},
     "output_type": "execute_result"
    }
   ],
   "source": [
    "df_exercicio['Resultado Final'] =  np.where( (df_exercicio['Média'] >=8 ) ,'Aprovado',    \n",
    "                                   np.where( (df_exercicio['Média'] >=7 ) ,'Recuperacao', 'Reprovado'))\n",
    "\n",
    "df_exercicio"
   ]
  },
  {
   "cell_type": "code",
   "execution_count": 113,
   "metadata": {},
   "outputs": [
    {
     "data": {
      "text/html": [
       "<div>\n",
       "<style scoped>\n",
       "    .dataframe tbody tr th:only-of-type {\n",
       "        vertical-align: middle;\n",
       "    }\n",
       "\n",
       "    .dataframe tbody tr th {\n",
       "        vertical-align: top;\n",
       "    }\n",
       "\n",
       "    .dataframe thead th {\n",
       "        text-align: right;\n",
       "    }\n",
       "</style>\n",
       "<table border=\"1\" class=\"dataframe\">\n",
       "  <thead>\n",
       "    <tr style=\"text-align: right;\">\n",
       "      <th></th>\n",
       "      <th>Faltas</th>\n",
       "      <th>PI</th>\n",
       "      <th>Prova</th>\n",
       "      <th>Média</th>\n",
       "      <th>Resultado Final</th>\n",
       "    </tr>\n",
       "  </thead>\n",
       "  <tbody>\n",
       "    <tr>\n",
       "      <th>Andreia</th>\n",
       "      <td>3.0</td>\n",
       "      <td>4.0</td>\n",
       "      <td>2.0</td>\n",
       "      <td>3.0</td>\n",
       "      <td>Reprovado</td>\n",
       "    </tr>\n",
       "    <tr>\n",
       "      <th>Daniele</th>\n",
       "      <td>8.5</td>\n",
       "      <td>7.5</td>\n",
       "      <td>7.5</td>\n",
       "      <td>7.5</td>\n",
       "      <td>Recuperacao</td>\n",
       "    </tr>\n",
       "    <tr>\n",
       "      <th>Michel</th>\n",
       "      <td>2.0</td>\n",
       "      <td>7.0</td>\n",
       "      <td>10.0</td>\n",
       "      <td>8.5</td>\n",
       "      <td>Aprovado</td>\n",
       "    </tr>\n",
       "  </tbody>\n",
       "</table>\n",
       "</div>"
      ],
      "text/plain": [
       "         Faltas   PI  Prova  Média Resultado Final\n",
       "Andreia     3.0  4.0    2.0    3.0       Reprovado\n",
       "Daniele     8.5  7.5    7.5    7.5     Recuperacao\n",
       "Michel      2.0  7.0   10.0    8.5        Aprovado"
      ]
     },
     "execution_count": 113,
     "metadata": {},
     "output_type": "execute_result"
    }
   ],
   "source": [
    "# COm apply\n",
    "def status(notas):\n",
    "    if notas['Média'] >= 8:\n",
    "        return 'Aprovado'\n",
    "    elif notas['Média'] >= 7:\n",
    "        return 'Recuperacao'\n",
    "    else:\n",
    "        return 'Reprovado'\n",
    "    \n",
    "df_exercicio ['Resultado Final'] = df_exercicio.apply(status, axis=1)\n",
    "df_exercicio\n"
   ]
  }
 ],
 "metadata": {
  "colab": {
   "collapsed_sections": [],
   "name": "DSTN01 -  Pandas Parte I - MATERIAL Aluno.ipynb",
   "provenance": []
  },
  "kernelspec": {
   "display_name": "DH",
   "language": "python",
   "name": "dh"
  },
  "language_info": {
   "codemirror_mode": {
    "name": "ipython",
    "version": 3
   },
   "file_extension": ".py",
   "mimetype": "text/x-python",
   "name": "python",
   "nbconvert_exporter": "python",
   "pygments_lexer": "ipython3",
   "version": "3.9.1"
  },
  "toc": {
   "base_numbering": 1,
   "nav_menu": {},
   "number_sections": true,
   "sideBar": true,
   "skip_h1_title": false,
   "title_cell": "Table of Contents",
   "title_sidebar": "Contents",
   "toc_cell": false,
   "toc_position": {
    "height": "calc(100% - 180px)",
    "left": "10px",
    "top": "150px",
    "width": "252px"
   },
   "toc_section_display": true,
   "toc_window_display": true
  }
 },
 "nbformat": 4,
 "nbformat_minor": 1
}
