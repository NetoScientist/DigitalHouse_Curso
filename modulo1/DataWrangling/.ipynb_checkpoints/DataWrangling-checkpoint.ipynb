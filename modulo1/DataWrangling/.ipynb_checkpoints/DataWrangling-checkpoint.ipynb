{
 "cells": [
  {
   "cell_type": "markdown",
   "metadata": {},
   "source": [
    "# Agenda"
   ]
  },
  {
   "cell_type": "markdown",
   "metadata": {},
   "source": [
    "> Data: 22/02/2021<br>\n",
    "> Aula: 09 <br>\n",
    "> Módulo: 00 <br>\n"
   ]
  },
  {
   "cell_type": "markdown",
   "metadata": {},
   "source": [
    "**Tópicos**:\n",
    " - **O que é Data Wrangling:**\n",
    " - **Definição de Tidy Format** \n",
    " \n",
    " "
   ]
  },
  {
   "cell_type": "markdown",
   "metadata": {},
   "source": [
    "# O que é Data Wrangling"
   ]
  },
  {
   "cell_type": "markdown",
   "metadata": {},
   "source": [
    "**Data Wrangling** é o processo pelo qual os dados coletados passam por uma transformação para que se tornem mais acionáveis, apropriados e valiosos para uma variedade de finalidades."
   ]
  },
  {
   "cell_type": "markdown",
   "metadata": {},
   "source": [
    "Muitas vezes o formato do dado recebido/coletado facilita a visualização e apresentação, mas dificulta o processo de  exploração. "
   ]
  },
  {
   "cell_type": "markdown",
   "metadata": {},
   "source": [
    "## Os cientistas de dados gastam cerca de 70% a 80% do tempo limpando e organizando os dados. O Tidy Data é uma forma de estruturar conjuntos de dados para facilitar a análise."
   ]
  },
  {
   "cell_type": "markdown",
   "metadata": {},
   "source": [
    "## Uma das referências nesse assunto é um artigo publicado em 2014: <a href=\"http://vita.had.co.nz/papers/tidy-data.pdf\"> artigo </a> "
   ]
  },
  {
   "cell_type": "markdown",
   "metadata": {},
   "source": [
    "\n",
    "O artigo concentra-se em um aspecto da limpeza de dados, organização de dados: estruturar conjuntos de dados para facilitar a análise. Por meio do artigo, Wickham demonstra como qualquer conjunto de dados pode ser estruturado de forma padronizada antes da análise. Ele apresenta em detalhes os diferentes tipos de conjuntos de dados e como transformá-los em um formato padrão."
   ]
  },
  {
   "cell_type": "markdown",
   "metadata": {},
   "source": [
    "# Definição de Tidy Data"
   ]
  },
  {
   "cell_type": "markdown",
   "metadata": {},
   "source": [
    "Wickham definiu o conceito de tidy data de acordo com algumas propriedades que esse tipo de formato possuiria:\n",
    "\n",
    "* Cada variável forma uma coluna e contém valores\n",
    "* Cada observação forma uma linha\n",
    "* Cada tipo de unidade observacional forma uma tabela\n",
    "\n",
    "\n",
    "\n",
    "* Algumas Outras definições: \n",
    "\n",
    "    - Variável: Um atributo (característica). Altura, Peso, Sexo, etc.\n",
    "    - Observação: Todas as medidads coletadas de um único evento, usuário, entre outros.\n",
    "    - Valor: Medição de alguma variável (atributo). 152 cm, 80 kg, Feminino etc.\n",
    "\n"
   ]
  },
  {
   "cell_type": "markdown",
   "metadata": {},
   "source": [
    "## O que é uma unidade observacional?"
   ]
  },
  {
   "cell_type": "markdown",
   "metadata": {},
   "source": [
    "A unidade observacional é a estrutura mais fundamental da observação. É nossa referência! Veja o exemplo abaixo:"
   ]
  },
  {
   "cell_type": "markdown",
   "metadata": {},
   "source": [
    "# Dados bagunçados\n"
   ]
  },
  {
   "cell_type": "markdown",
   "metadata": {},
   "source": [
    "### Para entender por que os dados organizados são tão importantes, vamos ao exemplo:"
   ]
  },
  {
   "cell_type": "markdown",
   "metadata": {},
   "source": [
    "Temos medições de temperatura em duas cidades distintas e em semanas distintas."
   ]
  },
  {
   "cell_type": "markdown",
   "metadata": {},
   "source": [
    "| Week| Temperatura_Cidade_A | Temperatura_Cidade_B \n",
    "| :- | -: | :-: |\n",
    "| 1 | 35 | 30| 30\n",
    "| 2 | 40 | 33"
   ]
  },
  {
   "cell_type": "markdown",
   "metadata": {},
   "source": [
    "Que também poderia ser representada assim:"
   ]
  },
  {
   "cell_type": "markdown",
   "metadata": {},
   "source": [
    "| Week| 1 | 2 \n",
    "| :- | -: | :-: |\n",
    "| Temperatura_Cidade_A | 35 | 30| 30\n",
    "| Temepratura_Cidade_B | 40 | 33"
   ]
  },
  {
   "cell_type": "markdown",
   "metadata": {},
   "source": [
    "Contudo ambas são messy (dado com formato não adequado.). O formato tidy para essa tabela seria esse:"
   ]
  },
  {
   "cell_type": "markdown",
   "metadata": {},
   "source": [
    "| Week| Cidade | Temperatura \n",
    "| :- | -: | :-: |\n",
    "| 1 | A | 35| \n",
    "| 1 | B | 30|\n",
    "| 2 | A | 40| \n",
    "| 2 | B | 33|"
   ]
  },
  {
   "cell_type": "markdown",
   "metadata": {},
   "source": [
    "Note que nossa referência (unidade observacional) é ```cidade-semana```."
   ]
  },
  {
   "cell_type": "markdown",
   "metadata": {},
   "source": [
    "**OBS**: Um Messy Data é todo aquele conjunto que não é Tidy :))"
   ]
  },
  {
   "cell_type": "markdown",
   "metadata": {},
   "source": [
    "## Os 5 problemas mais comuns "
   ]
  },
  {
   "cell_type": "markdown",
   "metadata": {},
   "source": [
    "Em seu artigo, Wichkam traz alguns dos problemas mais frequentes em conjuntos de dados\n",
    "\n",
    "\n",
    "* Os cabeçalhos das colunas são valores, não nomes de variáveis\n",
    "* Múltiplas variáveis armazenadas na mesma coluna\n",
    "* Variáveis armazenadas nas linhas e nas colunas simultaneamente\n",
    "* Múltiplos tipos de unidades observacionais armazenadas na mesma tabela\n",
    "* Uma única unidade observacional representada em mais de uma tabela (redundância)"
   ]
  },
  {
   "cell_type": "markdown",
   "metadata": {},
   "source": [
    "### Vamos praticar um pouco a arte de transfomar os dados em algumas dessa situações citadas acima:"
   ]
  },
  {
   "cell_type": "markdown",
   "metadata": {},
   "source": [
    "### As Colunas são Valores e Não nomes de Variáveis"
   ]
  },
  {
   "cell_type": "code",
   "execution_count": 2,
   "metadata": {},
   "outputs": [],
   "source": [
    "import pandas as pd"
   ]
  },
  {
   "cell_type": "markdown",
   "metadata": {},
   "source": [
    "Vamos ler o arquivo ```pew-raw.csv```"
   ]
  },
  {
   "cell_type": "code",
   "execution_count": 3,
   "metadata": {},
   "outputs": [],
   "source": [
    "df_pew_raw = pd.read_csv('pew_raw.csv')"
   ]
  },
  {
   "cell_type": "code",
   "execution_count": 5,
   "metadata": {},
   "outputs": [
    {
     "data": {
      "text/html": [
       "<div>\n",
       "<style scoped>\n",
       "    .dataframe tbody tr th:only-of-type {\n",
       "        vertical-align: middle;\n",
       "    }\n",
       "\n",
       "    .dataframe tbody tr th {\n",
       "        vertical-align: top;\n",
       "    }\n",
       "\n",
       "    .dataframe thead th {\n",
       "        text-align: right;\n",
       "    }\n",
       "</style>\n",
       "<table border=\"1\" class=\"dataframe\">\n",
       "  <thead>\n",
       "    <tr style=\"text-align: right;\">\n",
       "      <th></th>\n",
       "      <th>religion</th>\n",
       "      <th>&lt;$10k</th>\n",
       "      <th>$10-20k</th>\n",
       "      <th>$20-30k</th>\n",
       "      <th>$30-40k</th>\n",
       "      <th>$40-50k</th>\n",
       "      <th>$50-75k</th>\n",
       "    </tr>\n",
       "  </thead>\n",
       "  <tbody>\n",
       "    <tr>\n",
       "      <td>0</td>\n",
       "      <td>Agnostic</td>\n",
       "      <td>27</td>\n",
       "      <td>34</td>\n",
       "      <td>60</td>\n",
       "      <td>81</td>\n",
       "      <td>76</td>\n",
       "      <td>137</td>\n",
       "    </tr>\n",
       "    <tr>\n",
       "      <td>1</td>\n",
       "      <td>Atheist</td>\n",
       "      <td>12</td>\n",
       "      <td>27</td>\n",
       "      <td>37</td>\n",
       "      <td>52</td>\n",
       "      <td>35</td>\n",
       "      <td>70</td>\n",
       "    </tr>\n",
       "    <tr>\n",
       "      <td>2</td>\n",
       "      <td>Buddhist</td>\n",
       "      <td>27</td>\n",
       "      <td>21</td>\n",
       "      <td>30</td>\n",
       "      <td>34</td>\n",
       "      <td>33</td>\n",
       "      <td>58</td>\n",
       "    </tr>\n",
       "    <tr>\n",
       "      <td>3</td>\n",
       "      <td>Catholic</td>\n",
       "      <td>418</td>\n",
       "      <td>617</td>\n",
       "      <td>732</td>\n",
       "      <td>670</td>\n",
       "      <td>638</td>\n",
       "      <td>1116</td>\n",
       "    </tr>\n",
       "    <tr>\n",
       "      <td>4</td>\n",
       "      <td>Dont know/refused</td>\n",
       "      <td>15</td>\n",
       "      <td>14</td>\n",
       "      <td>15</td>\n",
       "      <td>11</td>\n",
       "      <td>10</td>\n",
       "      <td>35</td>\n",
       "    </tr>\n",
       "  </tbody>\n",
       "</table>\n",
       "</div>"
      ],
      "text/plain": [
       "            religion   <$10k   $10-20k  $20-30k  $30-40k   $40-50k  $50-75k\n",
       "0           Agnostic      27        34       60       81        76      137\n",
       "1            Atheist      12        27       37       52        35       70\n",
       "2           Buddhist      27        21       30       34        33       58\n",
       "3           Catholic     418       617      732      670       638     1116\n",
       "4  Dont know/refused      15        14       15       11        10       35"
      ]
     },
     "execution_count": 5,
     "metadata": {},
     "output_type": "execute_result"
    }
   ],
   "source": [
    "df_pew_raw.head()"
   ]
  },
  {
   "cell_type": "markdown",
   "metadata": {},
   "source": [
    "A coluna religion é um idenitifcador do registro e as demais colunas representam variáveis (faixas de valores) associadas a receita. Contudo, note que essas colunas poderiam ser condensadas em uma única coluna de receita.\n",
    "Para fazer isso vamos utilizar a função ```pd.melt()``` do pandas."
   ]
  },
  {
   "cell_type": "markdown",
   "metadata": {},
   "source": [
    "```pd.melt(frame, id_vars=None, value_vars=None, var_name=None, value_name='value')```"
   ]
  },
  {
   "cell_type": "markdown",
   "metadata": {},
   "source": [
    "* ```frame```: Objeto de dados (dataframe)\n",
    "* ```id_vars```: Coluna identificadora (não será usada na transformação)\n",
    "* ```value_vars```: Coluna(s) que você queira transformar\n",
    "* ```var_name```: Nome da variável que será criada na transformação\n",
    "* ```value_name```: Nome do valor associado a variável criada    "
   ]
  },
  {
   "cell_type": "markdown",
   "metadata": {},
   "source": [
    "Para reorganizar o conjunto de dados, utilizamos o método .melt(). Nos parâmetros, indicamos que a variável que vamos conservar é \"religion\" (é possível conservar mais variáveis). E que com o restante das colunas vamos construir uma nova variável onde cada coluna seja uma categoria."
   ]
  },
  {
   "cell_type": "code",
   "execution_count": 1,
   "metadata": {},
   "outputs": [],
   "source": [
    "\n",
    "# não passei o parâmetro 'value_vars', logo, com exceção da coluna 'religion',todas as outras serão transformadas\n"
   ]
  },
  {
   "cell_type": "markdown",
   "metadata": {},
   "source": [
    "Perceba o que ocorreu:\n",
    "+ Cada coluna (faixa) foi transformada em uma linha (uma nova linha para cada religião). \n",
    "+ O valor contido nas celulas do primeiro data frame foram transferidos para a coluna de frequência, onde há o match exato entre religião e faixa."
   ]
  },
  {
   "cell_type": "markdown",
   "metadata": {},
   "source": [
    "## Lendo outro dataset"
   ]
  },
  {
   "cell_type": "markdown",
   "metadata": {},
   "source": [
    "Billboard é um ranking musical lá dos EUA que mostra o ranking semanal das músicas ao longo de 75 semanas, a partir do moomento em que a música entra no TOP 100.\n",
    "* Problemas:\n",
    "    - As colunas possuem valores (x1st.week, x2nd.week e etc.)\n",
    "* O que podemos fazer:\n",
    "    - Criar uma única coluna com as datas (cada semana irá tornar-se uma linha para cada música do ranking) e usar seu valor para criar a coluna de ranking. No caso de valores missing, deletaremos as linhas referentes às músicas que estiveram fora do ranking por menos de 75 semanas."
   ]
  },
  {
   "cell_type": "code",
   "execution_count": 14,
   "metadata": {},
   "outputs": [],
   "source": [
    "df_billboard = pd.read_csv('billboard.csv')"
   ]
  },
  {
   "cell_type": "code",
   "execution_count": 15,
   "metadata": {},
   "outputs": [
    {
     "data": {
      "text/html": [
       "<div>\n",
       "<style scoped>\n",
       "    .dataframe tbody tr th:only-of-type {\n",
       "        vertical-align: middle;\n",
       "    }\n",
       "\n",
       "    .dataframe tbody tr th {\n",
       "        vertical-align: top;\n",
       "    }\n",
       "\n",
       "    .dataframe thead th {\n",
       "        text-align: right;\n",
       "    }\n",
       "</style>\n",
       "<table border=\"1\" class=\"dataframe\">\n",
       "  <thead>\n",
       "    <tr style=\"text-align: right;\">\n",
       "      <th></th>\n",
       "      <th>year</th>\n",
       "      <th>artist.inverted</th>\n",
       "      <th>track</th>\n",
       "      <th>time</th>\n",
       "      <th>genre</th>\n",
       "      <th>date.entered</th>\n",
       "      <th>date.peaked</th>\n",
       "      <th>x1st.week</th>\n",
       "      <th>x2nd.week</th>\n",
       "      <th>x3rd.week</th>\n",
       "      <th>...</th>\n",
       "      <th>x67th.week</th>\n",
       "      <th>x68th.week</th>\n",
       "      <th>x69th.week</th>\n",
       "      <th>x70th.week</th>\n",
       "      <th>x71st.week</th>\n",
       "      <th>x72nd.week</th>\n",
       "      <th>x73rd.week</th>\n",
       "      <th>x74th.week</th>\n",
       "      <th>x75th.week</th>\n",
       "      <th>x76th.week</th>\n",
       "    </tr>\n",
       "  </thead>\n",
       "  <tbody>\n",
       "    <tr>\n",
       "      <td>0</td>\n",
       "      <td>2000</td>\n",
       "      <td>Destiny's Child</td>\n",
       "      <td>Independent Women Part I</td>\n",
       "      <td>3:38</td>\n",
       "      <td>Rock</td>\n",
       "      <td>2000-09-23</td>\n",
       "      <td>2000-11-18</td>\n",
       "      <td>78</td>\n",
       "      <td>63.0</td>\n",
       "      <td>49.0</td>\n",
       "      <td>...</td>\n",
       "      <td>NaN</td>\n",
       "      <td>NaN</td>\n",
       "      <td>NaN</td>\n",
       "      <td>NaN</td>\n",
       "      <td>NaN</td>\n",
       "      <td>NaN</td>\n",
       "      <td>NaN</td>\n",
       "      <td>NaN</td>\n",
       "      <td>NaN</td>\n",
       "      <td>NaN</td>\n",
       "    </tr>\n",
       "    <tr>\n",
       "      <td>1</td>\n",
       "      <td>2000</td>\n",
       "      <td>Santana</td>\n",
       "      <td>Maria, Maria</td>\n",
       "      <td>4:18</td>\n",
       "      <td>Rock</td>\n",
       "      <td>2000-02-12</td>\n",
       "      <td>2000-04-08</td>\n",
       "      <td>15</td>\n",
       "      <td>8.0</td>\n",
       "      <td>6.0</td>\n",
       "      <td>...</td>\n",
       "      <td>NaN</td>\n",
       "      <td>NaN</td>\n",
       "      <td>NaN</td>\n",
       "      <td>NaN</td>\n",
       "      <td>NaN</td>\n",
       "      <td>NaN</td>\n",
       "      <td>NaN</td>\n",
       "      <td>NaN</td>\n",
       "      <td>NaN</td>\n",
       "      <td>NaN</td>\n",
       "    </tr>\n",
       "    <tr>\n",
       "      <td>2</td>\n",
       "      <td>2000</td>\n",
       "      <td>Savage Garden</td>\n",
       "      <td>I Knew I Loved You</td>\n",
       "      <td>4:07</td>\n",
       "      <td>Rock</td>\n",
       "      <td>1999-10-23</td>\n",
       "      <td>2000-01-29</td>\n",
       "      <td>71</td>\n",
       "      <td>48.0</td>\n",
       "      <td>43.0</td>\n",
       "      <td>...</td>\n",
       "      <td>NaN</td>\n",
       "      <td>NaN</td>\n",
       "      <td>NaN</td>\n",
       "      <td>NaN</td>\n",
       "      <td>NaN</td>\n",
       "      <td>NaN</td>\n",
       "      <td>NaN</td>\n",
       "      <td>NaN</td>\n",
       "      <td>NaN</td>\n",
       "      <td>NaN</td>\n",
       "    </tr>\n",
       "    <tr>\n",
       "      <td>3</td>\n",
       "      <td>2000</td>\n",
       "      <td>Madonna</td>\n",
       "      <td>Music</td>\n",
       "      <td>3:45</td>\n",
       "      <td>Rock</td>\n",
       "      <td>2000-08-12</td>\n",
       "      <td>2000-09-16</td>\n",
       "      <td>41</td>\n",
       "      <td>23.0</td>\n",
       "      <td>18.0</td>\n",
       "      <td>...</td>\n",
       "      <td>NaN</td>\n",
       "      <td>NaN</td>\n",
       "      <td>NaN</td>\n",
       "      <td>NaN</td>\n",
       "      <td>NaN</td>\n",
       "      <td>NaN</td>\n",
       "      <td>NaN</td>\n",
       "      <td>NaN</td>\n",
       "      <td>NaN</td>\n",
       "      <td>NaN</td>\n",
       "    </tr>\n",
       "    <tr>\n",
       "      <td>4</td>\n",
       "      <td>2000</td>\n",
       "      <td>Aguilera, Christina</td>\n",
       "      <td>Come On Over Baby (All I Want Is You)</td>\n",
       "      <td>3:38</td>\n",
       "      <td>Rock</td>\n",
       "      <td>2000-08-05</td>\n",
       "      <td>2000-10-14</td>\n",
       "      <td>57</td>\n",
       "      <td>47.0</td>\n",
       "      <td>45.0</td>\n",
       "      <td>...</td>\n",
       "      <td>NaN</td>\n",
       "      <td>NaN</td>\n",
       "      <td>NaN</td>\n",
       "      <td>NaN</td>\n",
       "      <td>NaN</td>\n",
       "      <td>NaN</td>\n",
       "      <td>NaN</td>\n",
       "      <td>NaN</td>\n",
       "      <td>NaN</td>\n",
       "      <td>NaN</td>\n",
       "    </tr>\n",
       "  </tbody>\n",
       "</table>\n",
       "<p>5 rows × 83 columns</p>\n",
       "</div>"
      ],
      "text/plain": [
       "   year      artist.inverted                                  track  time  \\\n",
       "0  2000      Destiny's Child               Independent Women Part I  3:38   \n",
       "1  2000              Santana                           Maria, Maria  4:18   \n",
       "2  2000        Savage Garden                     I Knew I Loved You  4:07   \n",
       "3  2000              Madonna                                  Music  3:45   \n",
       "4  2000  Aguilera, Christina  Come On Over Baby (All I Want Is You)  3:38   \n",
       "\n",
       "  genre date.entered date.peaked  x1st.week  x2nd.week  x3rd.week  ...  \\\n",
       "0  Rock   2000-09-23  2000-11-18         78       63.0       49.0  ...   \n",
       "1  Rock   2000-02-12  2000-04-08         15        8.0        6.0  ...   \n",
       "2  Rock   1999-10-23  2000-01-29         71       48.0       43.0  ...   \n",
       "3  Rock   2000-08-12  2000-09-16         41       23.0       18.0  ...   \n",
       "4  Rock   2000-08-05  2000-10-14         57       47.0       45.0  ...   \n",
       "\n",
       "   x67th.week  x68th.week  x69th.week  x70th.week  x71st.week  x72nd.week  \\\n",
       "0         NaN         NaN         NaN         NaN         NaN         NaN   \n",
       "1         NaN         NaN         NaN         NaN         NaN         NaN   \n",
       "2         NaN         NaN         NaN         NaN         NaN         NaN   \n",
       "3         NaN         NaN         NaN         NaN         NaN         NaN   \n",
       "4         NaN         NaN         NaN         NaN         NaN         NaN   \n",
       "\n",
       "   x73rd.week  x74th.week  x75th.week  x76th.week  \n",
       "0         NaN         NaN         NaN         NaN  \n",
       "1         NaN         NaN         NaN         NaN  \n",
       "2         NaN         NaN         NaN         NaN  \n",
       "3         NaN         NaN         NaN         NaN  \n",
       "4         NaN         NaN         NaN         NaN  \n",
       "\n",
       "[5 rows x 83 columns]"
      ]
     },
     "execution_count": 15,
     "metadata": {},
     "output_type": "execute_result"
    }
   ],
   "source": [
    "df_billboard.head()"
   ]
  },
  {
   "cell_type": "markdown",
   "metadata": {},
   "source": [
    "## Relembrando parâmetros do pd.melt()"
   ]
  },
  {
   "cell_type": "markdown",
   "metadata": {},
   "source": [
    "```pd.melt(frame, id_vars=None, value_vars=None, var_name=None, value_name='value')```"
   ]
  },
  {
   "cell_type": "markdown",
   "metadata": {},
   "source": [
    "* ```frame```: Objeto de dados (dataframe)\n",
    "* ```id_vars```: Coluna identificadora (não será usada na transformação)\n",
    "* ```value_vars```: Coluna(s) que você queira transformar\n",
    "* ```var_name```: Nome da variável que será criada na transformação\n",
    "* ```value_name```: Nome do valor associado a variável criada    "
   ]
  },
  {
   "cell_type": "code",
   "execution_count": 2,
   "metadata": {},
   "outputs": [],
   "source": [
    "id_vars = ['year','artist.inverted', 'track', 'time', 'genre', 'date.entered', 'date.peaked'] # colunas que desejo manter no formato em que estão\n"
   ]
  },
  {
   "cell_type": "code",
   "execution_count": 3,
   "metadata": {},
   "outputs": [],
   "source": [
    " # apaga os dados faltantes"
   ]
  },
  {
   "cell_type": "code",
   "execution_count": null,
   "metadata": {},
   "outputs": [],
   "source": []
  },
  {
   "cell_type": "markdown",
   "metadata": {},
   "source": [
    "# Exercício - pesquisar:"
   ]
  },
  {
   "cell_type": "markdown",
   "metadata": {},
   "source": [
    "## 1. Extraia o Número da semana da coluna 'semana' e armazene em uma nova coluna (tipo inteiro).\n"
   ]
  },
  {
   "cell_type": "markdown",
   "metadata": {},
   "source": [
    "Para o primeiro exercício precisamos usar uma expressão regular (regex) para extrair padrões em cadeias de caracteres (strings)"
   ]
  },
  {
   "cell_type": "code",
   "execution_count": null,
   "metadata": {},
   "outputs": [],
   "source": []
  },
  {
   "cell_type": "markdown",
   "metadata": {},
   "source": [
    "## Métodos que ajudam na limpeza e manipulação de dados\n",
    "O Pandas tem um conjunto de métodos que permitem operar sobre os elementos de um Dataframe ou uma Series. Para aplicar a lógica desejada, podemos definir funções com nome ou utilizar expressões lambda que depois não podem ser reutilizadas\n",
    " - pd.DataFrame.apply: Opera sobre linhas ou colunas completas.\n",
    " - pd.DataFrame.applymap: Opera sobre cada um dos elementos do Dataframe.\n",
    " - pd.Series.apply: Opera sobre cada um dos elementos da Série.\n",
    " - pd.Series.map: Opera sobre cada um dos elementos da Serie, muito parecido com Series.apply."
   ]
  },
  {
   "cell_type": "markdown",
   "metadata": {},
   "source": [
    "### Função .apply().\n",
    "Aplique uma função ao longo de um eixo do DataFrame (linha ou coluna)"
   ]
  },
  {
   "cell_type": "code",
   "execution_count": 24,
   "metadata": {},
   "outputs": [],
   "source": [
    "import numpy as np\n"
   ]
  },
  {
   "cell_type": "code",
   "execution_count": 25,
   "metadata": {
    "scrolled": true
   },
   "outputs": [
    {
     "data": {
      "text/html": [
       "<div>\n",
       "<style scoped>\n",
       "    .dataframe tbody tr th:only-of-type {\n",
       "        vertical-align: middle;\n",
       "    }\n",
       "\n",
       "    .dataframe tbody tr th {\n",
       "        vertical-align: top;\n",
       "    }\n",
       "\n",
       "    .dataframe thead th {\n",
       "        text-align: right;\n",
       "    }\n",
       "</style>\n",
       "<table border=\"1\" class=\"dataframe\">\n",
       "  <thead>\n",
       "    <tr style=\"text-align: right;\">\n",
       "      <th></th>\n",
       "      <th>A</th>\n",
       "      <th>B</th>\n",
       "    </tr>\n",
       "  </thead>\n",
       "  <tbody>\n",
       "    <tr>\n",
       "      <td>0</td>\n",
       "      <td>2</td>\n",
       "      <td>4</td>\n",
       "    </tr>\n",
       "    <tr>\n",
       "      <td>1</td>\n",
       "      <td>7</td>\n",
       "      <td>-2</td>\n",
       "    </tr>\n",
       "    <tr>\n",
       "      <td>2</td>\n",
       "      <td>16</td>\n",
       "      <td>76</td>\n",
       "    </tr>\n",
       "    <tr>\n",
       "      <td>3</td>\n",
       "      <td>25</td>\n",
       "      <td>67</td>\n",
       "    </tr>\n",
       "  </tbody>\n",
       "</table>\n",
       "</div>"
      ],
      "text/plain": [
       "    A   B\n",
       "0   2   4\n",
       "1   7  -2\n",
       "2  16  76\n",
       "3  25  67"
      ]
     },
     "execution_count": 25,
     "metadata": {},
     "output_type": "execute_result"
    }
   ],
   "source": [
    "df = pd.DataFrame({\n",
    "                   'A': [2, 7, 16, 25],\n",
    "                   'B': [4, -2, 76, 67]\n",
    "                  })\n",
    "df"
   ]
  },
  {
   "cell_type": "markdown",
   "metadata": {},
   "source": [
    "#### Utilizando df.apply para encontrar a raiz quadrada dos elementos de cada coluna. A quantidade NaN significa \"Not a Number\" e é o valor atribuído a operações inválidas, como a raiz de um número negativo."
   ]
  },
  {
   "cell_type": "code",
   "execution_count": null,
   "metadata": {},
   "outputs": [],
   "source": []
  },
  {
   "cell_type": "markdown",
   "metadata": {},
   "source": [
    "### Calculando média, para parâmetro axis = 0 faz referência às colunas, axis = 1 faz referência as linhas"
   ]
  },
  {
   "cell_type": "code",
   "execution_count": null,
   "metadata": {},
   "outputs": [],
   "source": []
  },
  {
   "cell_type": "markdown",
   "metadata": {},
   "source": [
    "### As funções map(), apply() são muito convenientes para usar em tratamento de dados."
   ]
  },
  {
   "cell_type": "markdown",
   "metadata": {},
   "source": [
    " - Por exemplo, vamos supor que queremos tirar todos os acentos de todas as strings de um Dataframe."
   ]
  },
  {
   "cell_type": "markdown",
   "metadata": {},
   "source": [
    " - Além disso, queremos converter todas as letras para minúscula.\n"
   ]
  },
  {
   "cell_type": "code",
   "execution_count": 28,
   "metadata": {},
   "outputs": [
    {
     "data": {
      "text/html": [
       "<div>\n",
       "<style scoped>\n",
       "    .dataframe tbody tr th:only-of-type {\n",
       "        vertical-align: middle;\n",
       "    }\n",
       "\n",
       "    .dataframe tbody tr th {\n",
       "        vertical-align: top;\n",
       "    }\n",
       "\n",
       "    .dataframe thead th {\n",
       "        text-align: right;\n",
       "    }\n",
       "</style>\n",
       "<table border=\"1\" class=\"dataframe\">\n",
       "  <thead>\n",
       "    <tr style=\"text-align: right;\">\n",
       "      <th></th>\n",
       "      <th>nome</th>\n",
       "      <th>cidade</th>\n",
       "    </tr>\n",
       "  </thead>\n",
       "  <tbody>\n",
       "    <tr>\n",
       "      <td>0</td>\n",
       "      <td>Tomás</td>\n",
       "      <td>Rio</td>\n",
       "    </tr>\n",
       "    <tr>\n",
       "      <td>1</td>\n",
       "      <td>Carla</td>\n",
       "      <td>São Paulo</td>\n",
       "    </tr>\n",
       "    <tr>\n",
       "      <td>2</td>\n",
       "      <td>Paula</td>\n",
       "      <td>sao paulo</td>\n",
       "    </tr>\n",
       "  </tbody>\n",
       "</table>\n",
       "</div>"
      ],
      "text/plain": [
       "    nome     cidade\n",
       "0  Tomás        Rio\n",
       "1  Carla  São Paulo\n",
       "2  Paula  sao paulo"
      ]
     },
     "execution_count": 28,
     "metadata": {},
     "output_type": "execute_result"
    }
   ],
   "source": [
    "data = pd.DataFrame({'nome': ['Tomás','Carla','Paula'], 'cidade': ['Rio','São Paulo','sao paulo']}, \n",
    "columns =['nome','cidade'])\n",
    "data"
   ]
  },
  {
   "cell_type": "code",
   "execution_count": 30,
   "metadata": {},
   "outputs": [
    {
     "data": {
      "text/plain": [
       "array(['Rio', 'São Paulo', 'sao paulo'], dtype=object)"
      ]
     },
     "execution_count": 30,
     "metadata": {},
     "output_type": "execute_result"
    }
   ],
   "source": [
    "data.cidade.unique() #nome que não são repetidos"
   ]
  },
  {
   "cell_type": "code",
   "execution_count": 4,
   "metadata": {},
   "outputs": [],
   "source": [
    "#testando com texto = 'São Paulo'\n",
    "\n"
   ]
  },
  {
   "cell_type": "markdown",
   "metadata": {},
   "source": [
    "### Criando função"
   ]
  },
  {
   "cell_type": "code",
   "execution_count": 5,
   "metadata": {},
   "outputs": [],
   "source": [
    "#testando com função para ser aplicada em qualquer string\n",
    "def trata_caracter(entrada):\n",
    "    texto_sem_acento = unidecode.unidecode(entrada)\n",
    "    texto_minusculo = str.lower(texto_sem_acento)\n",
    "    return texto_minusculo"
   ]
  },
  {
   "cell_type": "markdown",
   "metadata": {},
   "source": [
    "### apply - Aplique uma função ao longo de um eixo do DataFrame."
   ]
  },
  {
   "cell_type": "code",
   "execution_count": null,
   "metadata": {},
   "outputs": [],
   "source": []
  },
  {
   "cell_type": "markdown",
   "metadata": {},
   "source": [
    "### map() - Usado para substituir cada valor em uma Série por outro valor (que pode ser derivado de uma função)"
   ]
  },
  {
   "cell_type": "code",
   "execution_count": null,
   "metadata": {},
   "outputs": [],
   "source": []
  },
  {
   "cell_type": "markdown",
   "metadata": {},
   "source": [
    "### applymap() - Aplique uma função a todos elementos do um Dataframe"
   ]
  },
  {
   "cell_type": "code",
   "execution_count": 34,
   "metadata": {},
   "outputs": [],
   "source": []
  },
  {
   "cell_type": "code",
   "execution_count": null,
   "metadata": {},
   "outputs": [],
   "source": []
  },
  {
   "cell_type": "code",
   "execution_count": 6,
   "metadata": {},
   "outputs": [],
   "source": [
    "# conferindo novamente os valores únicos\n"
   ]
  },
  {
   "cell_type": "markdown",
   "metadata": {},
   "source": [
    "## Algumas diferentes entre os métodos usados"
   ]
  },
  {
   "cell_type": "markdown",
   "metadata": {},
   "source": [
    "Primeira grande diferença: DEFINIÇÃO\n",
    "\n",
    " - map é definido apenas na série\n",
    " - applymap é definido  no DataFrame\n",
    " - apply é definido em AMBOS\n",
    " \n",
    "Segunda grande diferença: ARGUMENTO DE ENTRADA\n",
    "\n",
    "- map aceita dicts ou Series\n",
    "- applymap aceita apenas callables (anything that can be called)\n",
    " \n",
    " \n",
    "Terceira grande diferença: COMPORTAMENTO\n",
    "\n",
    " - map é elementar para Series\n",
    " - applymap é elemento a elemento para DataFrames\n",
    " - apply também funciona de maneira elementar, mas é adequado para operações e agregações mais complexas. "
   ]
  }
 ],
 "metadata": {
  "colab": {
   "name": "Primeira_Aula.ipynb",
   "provenance": []
  },
  "kernelspec": {
   "display_name": "DH",
   "language": "python",
   "name": "dh"
  },
  "language_info": {
   "codemirror_mode": {
    "name": "ipython",
    "version": 3
   },
   "file_extension": ".py",
   "mimetype": "text/x-python",
   "name": "python",
   "nbconvert_exporter": "python",
   "pygments_lexer": "ipython3",
   "version": "3.9.1"
  },
  "toc": {
   "base_numbering": 1,
   "nav_menu": {},
   "number_sections": true,
   "sideBar": true,
   "skip_h1_title": false,
   "title_cell": "Table of Contents",
   "title_sidebar": "Contents",
   "toc_cell": false,
   "toc_position": {
    "height": "calc(100% - 180px)",
    "left": "10px",
    "top": "150px",
    "width": "252px"
   },
   "toc_section_display": true,
   "toc_window_display": true
  }
 },
 "nbformat": 4,
 "nbformat_minor": 1
}
